{
 "cells": [
  {
   "cell_type": "markdown",
   "metadata": {},
   "source": [
    "To-do list: https://docs.google.com/document/d/1lLPy8CsYQXWQqpdLS9u5O1ga9l-3vCMluFO6sUckkts\n",
    "\n",
    "### 연구 목적: Indoor moving patterns을 이용하여 revisit intention을 예측.\n",
    "\n",
    "크롤링한 User들의 Wi-Fi log을, moving pattern별로 indexing한 후, 적합한 feature들을 선별하여, 어떤 moving pattern이 추후 customer revisit과 관련이 있는지 분석하고자 함.\n",
    "\n",
    "#### Feature description:\n",
    "특정 moving pattern의 revisit intention을 예측하는 supervised learning(classification) 모델에 이용될 feature들\n",
    "\n",
    "**1. Feature 1 (History)**\n",
    "    1. 해당 moving pattern이 일어난 시점까지 customer가 방문한 횟수: new_visit_count\n",
    "**2. Feature 2-7 (Basic stats)**\n",
    "    2. 해당 moving pattern에서 Wi-Fi에 연결된 area의 총 개수: num_logs\n",
    "    3. 해당 moving pattern에서 Wi-Fi에 잡힌 총 시간(중복 포함 - 특정 시점에 다수의 Wi-Fi에 연결할 경우 시간을 모두 합함): total_dwell_time\n",
    "    4. 해당 moving pattern에서 dwell_time > 100인 indoor area(stay point) 개수: num_sp_100\n",
    "    5. 해당 moving pattern에서 customer가 방문한 indoor area의 총 개수 중에서 dwell_time > 100인 확률(방문한 area 중에서 stay point가 차지하는 비율): prob_dwell_100\n",
    "    6. 해당 moving pattern에서 stay points에서 보낸 시간의 합(중복 포함 - 특정 시점에 다수의 Wi-Fi에 연결할 경우 시간을 모두 합함): time_sp_100\n",
    "    7. 해당 moving pattern에서 dwell_time > 100인 indoor area들의 variance: std_sp_100\n",
    "**3. Feature 8-14**\n",
    "    8. 해당 moving pattern이 발생한 요일(Categorical variable): One-hot-encoding을 이용하여 Mon-Sun 7개의 feature(binary variable)로 표현\n",
    "**4. Feature 15-137 (Trajectory)**\n",
    "    9. Trajectory의 uni-gram, bi-gram features ('1f', '1f 1f', '1f 1f-inner', '1f 1f-left', '1f 1f-right', '1f 2f' ...) - 해당 moving pattern에 각 unigram 및 bigram이 몇 번 나왔는지 카운트\n",
    "\n",
    "\n",
    "#### Details\n",
    "1. Moving pattern: 한 유저가 하루 동안 매장 안에서 돌아다닌 와이파이 로그\n",
    "2. Simple trajectory: Moving pattern에서 area를 시간 순서대로 나열한 sequence  (e.g., out,in,b1,b1-left-1,1f,out,in,b1-left)\n",
    "2. Raw data의 경우 wi-fi에 찍힌 로그(어떤 device_id가 어떤 장소의 wi-fi 수신기에 몇시부터 몇초간 접속중이었고, 직원인지의 여부와, 현재까지의 revisit count와 가장 최근의 revisit interval)가 하나의 row로 이루어져 있다. 고로, 하나의 moving pattern에 대한 log가 여러 개로 이루어져 있는데, 로그의 날짜와 device_id를 조합하여 key로 삼고 aggregate하여 하나의 moving pattern이 하나의 row로 나타낼 수 있도록 함)\n",
    "3. Raw data의 revisit_count 데이터를 보면 꼬인 경우가 많았다, 같은 device_id인데 오늘까지 revisit count가 69였는데 그다음날 7이 된다거나, 그래서 이 데이터를 이용하지 않고 새로 카운트해 주었다.\n",
    "4. revisit_intention은 binary variable이며 우리가 예측하고자 하는 label이다, 매장 방문 이후 n일 (n=90) 이내에 다시 매장 방문 내역이 있다면 revisit_intention = 1 로 표시해 주었다.\n",
    "5. 매장 방문의 정의: 특정 일에 특정 유저의 moving pattern이 out으로만 이루어진 로그가 아니면 매장을 방문하였다고 함. out만 여러번 있는 로그의 경우는 지나가는 행인이라고 생각하여 매장을 방문하지 않았다고 간주. (매장 방문 예시1: out,in,1f,1f-right  매장 방문 예시2: out,1f,1f-right,1f,out,2f,1f)\n",
    "6. 따라서 어떤 유저의 timestamp가 가장 오래 된 방문을 가장 첫 방문이라고 가정하고, 그 다음 매장 방문이 발생하면 revisit_count를 1씩 더해 주었다, 이 때 각 방문 사이의 간격은 적어도 1일 이상이다. revisit_count는 각 방문 패턴의 history 정보를 누락시키지 않는다는 목적으로 feature로 삼기로 했다.\n",
    "7. 참고: User-ID별로 indexing해서 유저별 revisit_count를 naive하게 예측한 이전 모델은 supervised_model(basic_features).ipynb 에 정리\n",
    "\n",
    "#### 데이터\n",
    "1. 786번 매장(코오롱 문정직영점) 데이터\n",
    "    1. 직원이라고 한번이라도 로그에 찍힌 device_id는 제거\n",
    "    2. 자주 방문하는 유저(단골 or 택배기사)의 moving pattern을 고려하지 않기 위해, 재방문 횟수가 3번 이하인 유저의 moving pattern만 분석\n",
    "    3. 각 moving pattern별로 재인덱싱 이후 세어본 정식매장 방문 횟수(traj에 in을 포함한 경우) 22,642개(0: 19,953 vs 1: 2,689, revisit_intention 여부) \n",
    "    4. 위 데이터의 revisit intention label 비율을 50:50로 조절한 총 5,378개(0: 2,689 vs 1: 2,689)의 moving patterns을 최종으로 이용함.\n",
    "\n",
    "####  Preliminary results\n",
    "<pre>\n",
    "* 10-fold CV 결과의 평균값 (샘플링 결과에 따라 변화가 있는데, 샘플링을 고려한 반복 실험 결과는 아래 boxplot을 참고)\n",
    "    Accuracy\n",
    "      * 3 Nearest Neighbors 0.518\n",
    "      * Decision Tree 0.617\n",
    "      * Random Forest 0.595\n",
    "      * AdaBoost 0.622\n",
    "      * Naive Bayes 0.567\n",
    "      * Logistic Regression 0.583\n",
    "    Precision\n",
    "      * 3 Nearest Neighbors 0.519\n",
    "      * Decision Tree 0.626\n",
    "      * Random Forest 0.618\n",
    "      * AdaBoost 0.643\n",
    "      * Naive Bayes 0.64\n",
    "      * Logistic Regression 0.596\n",
    "    Recall\n",
    "      * 3 Nearest Neighbors 0.512\n",
    "      * Decision Tree 0.586\n",
    "      * Random Forest 0.519\n",
    "      * AdaBoost 0.55\n",
    "      * Naive Bayes 0.308\n",
    "      * Logistic Regression 0.514\n",
    "    F1\n",
    "      * 3 Nearest Neighbors 0.515\n",
    "      * Decision Tree 0.604\n",
    "      * Random Forest 0.583\n",
    "      * AdaBoost 0.592\n",
    "      * Naive Bayes 0.416\n",
    "      * Logistic Regression 0.552\n",
    "    ROC-AUC\n",
    "      * 3 Nearest Neighbors 0.52\n",
    "      * Decision Tree 0.65\n",
    "      * Random Forest 0.636\n",
    "      * AdaBoost 0.659\n",
    "      * Naive Bayes 0.608\n",
    "      * Logistic Regression 0.608\n",
    "</pre>"
   ]
  },
  {
   "cell_type": "code",
   "execution_count": 43,
   "metadata": {
    "collapsed": true
   },
   "outputs": [],
   "source": [
    "### import libraries\n",
    "import pandas as pd\n",
    "import datetime\n",
    "import numpy as np\n",
    "import re"
   ]
  },
  {
   "cell_type": "code",
   "execution_count": 44,
   "metadata": {
    "collapsed": false
   },
   "outputs": [],
   "source": [
    "### 각 moving pattern별로 재인덱싱한 데이터 로드\n",
    "trajs_combined = pd.read_pickle(\"../data/786/786_trajs_combined.p\")"
   ]
  },
  {
   "cell_type": "code",
   "execution_count": 45,
   "metadata": {
    "collapsed": false
   },
   "outputs": [
    {
     "name": "stdout",
     "output_type": "stream",
     "text": [
      "(22642, 18)\n"
     ]
    },
    {
     "data": {
      "text/html": [
       "<div>\n",
       "<table border=\"1\" class=\"dataframe\">\n",
       "  <thead>\n",
       "    <tr style=\"text-align: right;\">\n",
       "      <th></th>\n",
       "      <th>date</th>\n",
       "      <th>device_id</th>\n",
       "      <th>traj</th>\n",
       "      <th>new_visit_count</th>\n",
       "      <th>num_logs</th>\n",
       "      <th>total_dwell_time</th>\n",
       "      <th>num_sp_100</th>\n",
       "      <th>prob_dwell_100</th>\n",
       "      <th>time_sp_100</th>\n",
       "      <th>std_sp_100</th>\n",
       "      <th>Fri</th>\n",
       "      <th>Mon</th>\n",
       "      <th>Sat</th>\n",
       "      <th>Sun</th>\n",
       "      <th>Thu</th>\n",
       "      <th>Tue</th>\n",
       "      <th>Wed</th>\n",
       "      <th>revisit_intention</th>\n",
       "    </tr>\n",
       "  </thead>\n",
       "  <tbody>\n",
       "    <tr>\n",
       "      <th>16675_02614c7588f7f8eaa0d3b9047ac08410</th>\n",
       "      <td>16675.0</td>\n",
       "      <td>02614c7588f7f8eaa0d3b9047ac08410</td>\n",
       "      <td>out,in,1f,1f-right,2f-left,2f,2f-right</td>\n",
       "      <td>1.0</td>\n",
       "      <td>7</td>\n",
       "      <td>1267</td>\n",
       "      <td>3.0</td>\n",
       "      <td>0.500000</td>\n",
       "      <td>354.0</td>\n",
       "      <td>10.000000</td>\n",
       "      <td>1.0</td>\n",
       "      <td>0.0</td>\n",
       "      <td>0.0</td>\n",
       "      <td>0.0</td>\n",
       "      <td>0.0</td>\n",
       "      <td>0.0</td>\n",
       "      <td>0.0</td>\n",
       "      <td>0.0</td>\n",
       "    </tr>\n",
       "    <tr>\n",
       "      <th>16675_028a1f4dbca00ed06814fdda60f1b599</th>\n",
       "      <td>16675.0</td>\n",
       "      <td>028a1f4dbca00ed06814fdda60f1b599</td>\n",
       "      <td>out,in,3f,2f,2f-right,2f-inner,2f-left,1f,1f-r...</td>\n",
       "      <td>1.0</td>\n",
       "      <td>11</td>\n",
       "      <td>7139</td>\n",
       "      <td>7.0</td>\n",
       "      <td>0.700000</td>\n",
       "      <td>3553.0</td>\n",
       "      <td>362.141251</td>\n",
       "      <td>1.0</td>\n",
       "      <td>0.0</td>\n",
       "      <td>0.0</td>\n",
       "      <td>0.0</td>\n",
       "      <td>0.0</td>\n",
       "      <td>0.0</td>\n",
       "      <td>0.0</td>\n",
       "      <td>0.0</td>\n",
       "    </tr>\n",
       "    <tr>\n",
       "      <th>16675_062c73a8b307fd05f6af2472a35671ef</th>\n",
       "      <td>16675.0</td>\n",
       "      <td>062c73a8b307fd05f6af2472a35671ef</td>\n",
       "      <td>out,in,1f,1f-inner</td>\n",
       "      <td>1.0</td>\n",
       "      <td>4</td>\n",
       "      <td>2189</td>\n",
       "      <td>2.0</td>\n",
       "      <td>0.666667</td>\n",
       "      <td>1130.0</td>\n",
       "      <td>0.000000</td>\n",
       "      <td>1.0</td>\n",
       "      <td>0.0</td>\n",
       "      <td>0.0</td>\n",
       "      <td>0.0</td>\n",
       "      <td>0.0</td>\n",
       "      <td>0.0</td>\n",
       "      <td>0.0</td>\n",
       "      <td>0.0</td>\n",
       "    </tr>\n",
       "    <tr>\n",
       "      <th>16675_06c041f68ec481883941d47d99d6903f</th>\n",
       "      <td>16675.0</td>\n",
       "      <td>06c041f68ec481883941d47d99d6903f</td>\n",
       "      <td>out,in,3f,in,1f,out</td>\n",
       "      <td>1.0</td>\n",
       "      <td>6</td>\n",
       "      <td>4259</td>\n",
       "      <td>4.0</td>\n",
       "      <td>1.000000</td>\n",
       "      <td>1286.0</td>\n",
       "      <td>159.307878</td>\n",
       "      <td>1.0</td>\n",
       "      <td>0.0</td>\n",
       "      <td>0.0</td>\n",
       "      <td>0.0</td>\n",
       "      <td>0.0</td>\n",
       "      <td>0.0</td>\n",
       "      <td>0.0</td>\n",
       "      <td>0.0</td>\n",
       "    </tr>\n",
       "    <tr>\n",
       "      <th>16675_0a47ed78e921824cf54dddcf49ae2911</th>\n",
       "      <td>16675.0</td>\n",
       "      <td>0a47ed78e921824cf54dddcf49ae2911</td>\n",
       "      <td>out,in</td>\n",
       "      <td>1.0</td>\n",
       "      <td>2</td>\n",
       "      <td>2636</td>\n",
       "      <td>1.0</td>\n",
       "      <td>1.000000</td>\n",
       "      <td>457.0</td>\n",
       "      <td>NaN</td>\n",
       "      <td>1.0</td>\n",
       "      <td>0.0</td>\n",
       "      <td>0.0</td>\n",
       "      <td>0.0</td>\n",
       "      <td>0.0</td>\n",
       "      <td>0.0</td>\n",
       "      <td>0.0</td>\n",
       "      <td>1.0</td>\n",
       "    </tr>\n",
       "  </tbody>\n",
       "</table>\n",
       "</div>"
      ],
      "text/plain": [
       "                                           date  \\\n",
       "16675_02614c7588f7f8eaa0d3b9047ac08410  16675.0   \n",
       "16675_028a1f4dbca00ed06814fdda60f1b599  16675.0   \n",
       "16675_062c73a8b307fd05f6af2472a35671ef  16675.0   \n",
       "16675_06c041f68ec481883941d47d99d6903f  16675.0   \n",
       "16675_0a47ed78e921824cf54dddcf49ae2911  16675.0   \n",
       "\n",
       "                                                               device_id  \\\n",
       "16675_02614c7588f7f8eaa0d3b9047ac08410  02614c7588f7f8eaa0d3b9047ac08410   \n",
       "16675_028a1f4dbca00ed06814fdda60f1b599  028a1f4dbca00ed06814fdda60f1b599   \n",
       "16675_062c73a8b307fd05f6af2472a35671ef  062c73a8b307fd05f6af2472a35671ef   \n",
       "16675_06c041f68ec481883941d47d99d6903f  06c041f68ec481883941d47d99d6903f   \n",
       "16675_0a47ed78e921824cf54dddcf49ae2911  0a47ed78e921824cf54dddcf49ae2911   \n",
       "\n",
       "                                                                                     traj  \\\n",
       "16675_02614c7588f7f8eaa0d3b9047ac08410             out,in,1f,1f-right,2f-left,2f,2f-right   \n",
       "16675_028a1f4dbca00ed06814fdda60f1b599  out,in,3f,2f,2f-right,2f-inner,2f-left,1f,1f-r...   \n",
       "16675_062c73a8b307fd05f6af2472a35671ef                                 out,in,1f,1f-inner   \n",
       "16675_06c041f68ec481883941d47d99d6903f                                out,in,3f,in,1f,out   \n",
       "16675_0a47ed78e921824cf54dddcf49ae2911                                             out,in   \n",
       "\n",
       "                                        new_visit_count  num_logs  \\\n",
       "16675_02614c7588f7f8eaa0d3b9047ac08410              1.0         7   \n",
       "16675_028a1f4dbca00ed06814fdda60f1b599              1.0        11   \n",
       "16675_062c73a8b307fd05f6af2472a35671ef              1.0         4   \n",
       "16675_06c041f68ec481883941d47d99d6903f              1.0         6   \n",
       "16675_0a47ed78e921824cf54dddcf49ae2911              1.0         2   \n",
       "\n",
       "                                        total_dwell_time  num_sp_100  \\\n",
       "16675_02614c7588f7f8eaa0d3b9047ac08410              1267         3.0   \n",
       "16675_028a1f4dbca00ed06814fdda60f1b599              7139         7.0   \n",
       "16675_062c73a8b307fd05f6af2472a35671ef              2189         2.0   \n",
       "16675_06c041f68ec481883941d47d99d6903f              4259         4.0   \n",
       "16675_0a47ed78e921824cf54dddcf49ae2911              2636         1.0   \n",
       "\n",
       "                                        prob_dwell_100  time_sp_100  \\\n",
       "16675_02614c7588f7f8eaa0d3b9047ac08410        0.500000        354.0   \n",
       "16675_028a1f4dbca00ed06814fdda60f1b599        0.700000       3553.0   \n",
       "16675_062c73a8b307fd05f6af2472a35671ef        0.666667       1130.0   \n",
       "16675_06c041f68ec481883941d47d99d6903f        1.000000       1286.0   \n",
       "16675_0a47ed78e921824cf54dddcf49ae2911        1.000000        457.0   \n",
       "\n",
       "                                        std_sp_100  Fri  Mon  Sat  Sun  Thu  \\\n",
       "16675_02614c7588f7f8eaa0d3b9047ac08410   10.000000  1.0  0.0  0.0  0.0  0.0   \n",
       "16675_028a1f4dbca00ed06814fdda60f1b599  362.141251  1.0  0.0  0.0  0.0  0.0   \n",
       "16675_062c73a8b307fd05f6af2472a35671ef    0.000000  1.0  0.0  0.0  0.0  0.0   \n",
       "16675_06c041f68ec481883941d47d99d6903f  159.307878  1.0  0.0  0.0  0.0  0.0   \n",
       "16675_0a47ed78e921824cf54dddcf49ae2911         NaN  1.0  0.0  0.0  0.0  0.0   \n",
       "\n",
       "                                        Tue  Wed  revisit_intention  \n",
       "16675_02614c7588f7f8eaa0d3b9047ac08410  0.0  0.0                0.0  \n",
       "16675_028a1f4dbca00ed06814fdda60f1b599  0.0  0.0                0.0  \n",
       "16675_062c73a8b307fd05f6af2472a35671ef  0.0  0.0                0.0  \n",
       "16675_06c041f68ec481883941d47d99d6903f  0.0  0.0                0.0  \n",
       "16675_0a47ed78e921824cf54dddcf49ae2911  0.0  0.0                1.0  "
      ]
     },
     "execution_count": 45,
     "metadata": {},
     "output_type": "execute_result"
    }
   ],
   "source": [
    "print(trajs_combined.shape)\n",
    "trajs_combined.head(5)"
   ]
  },
  {
   "cell_type": "markdown",
   "metadata": {},
   "source": [
    "Revisit intention이 있는 경우와 없는 경우 모두 비슷한 trajectories를 가지고 있어서, history를 고려하지 않는다고 할 때, indoor moving pattern만으로 classification이 가능할 지 걱정이 된다 (아래 참고)"
   ]
  },
  {
   "cell_type": "code",
   "execution_count": 46,
   "metadata": {
    "collapsed": false
   },
   "outputs": [
    {
     "name": "stdout",
     "output_type": "stream",
     "text": [
      "Top 10 trajectories with revisit intention in 3 months\n",
      " out,in,1f             335\n",
      "out,in                228\n",
      "out,in,2f              92\n",
      "out,in,1f,1f-right     78\n",
      "out,in,1f,out          69\n",
      "out,out,in,1f          59\n",
      "out,in,1f-right,1f     47\n",
      "out,out,in             40\n",
      "out,in,out             38\n",
      "out,in,1f,1f-inner     32\n",
      "Name: traj, dtype: int64\n",
      " \n",
      "Top 10 trajectories with no revisit intention in 3 months\n",
      " out,in,1f             3078\n",
      "out,in                2196\n",
      "out,in,2f              794\n",
      "out,in,1f,out          663\n",
      "out,in,1f,1f-right     624\n",
      "out,out,in,1f          565\n",
      "out,in,out             446\n",
      "out,out,in             435\n",
      "out,in,1f-right,1f     296\n",
      "out,in,1f,1f-inner     290\n",
      "Name: traj, dtype: int64\n"
     ]
    }
   ],
   "source": [
    "### 어떤 trajectories가 있나 확인 (revisit_intention == 1인 경우)\n",
    "print('Top 10 trajectories with revisit intention in 3 months\\n', trajs_combined.loc[trajs_combined['revisit_intention'] == 1]['traj'].value_counts().head(10))\n",
    "print(' ')\n",
    "### 어떤 trajectories가 있나 확인 (revisit_intention == 0인 경우)\n",
    "print('Top 10 trajectories with no revisit intention in 3 months\\n', trajs_combined.loc[trajs_combined['revisit_intention'] == 0]['traj'].value_counts().head(10))"
   ]
  },
  {
   "cell_type": "code",
   "execution_count": 47,
   "metadata": {
    "collapsed": false
   },
   "outputs": [
    {
     "name": "stdout",
     "output_type": "stream",
     "text": [
      "1.0    16036\n",
      "2.0     1932\n",
      "3.0      914\n",
      "Name: new_visit_count, dtype: int64\n"
     ]
    },
    {
     "data": {
      "text/plain": [
       "<matplotlib.axes._subplots.AxesSubplot at 0x11bde3e80>"
      ]
     },
     "execution_count": 47,
     "metadata": {},
     "output_type": "execute_result"
    },
    {
     "data": {
      "image/png": "[encoded data removed]",
      "text/plain": [
       "<matplotlib.figure.Figure at 0x109f704e0>"
      ]
     },
     "metadata": {},
     "output_type": "display_data"
    }
   ],
   "source": [
    "# 재방문 횟수별 사람 수\n",
    "customer_revisit_count = trajs_combined.groupby(['device_id'])['new_visit_count'].max().value_counts().sort_index()\n",
    "print (customer_revisit_count)\n",
    "\n",
    "%matplotlib inline \n",
    "customer_revisit_count.plot(kind='bar', logy=True)"
   ]
  },
  {
   "cell_type": "markdown",
   "metadata": {},
   "source": [
    "우리가 알고 싶은 방문객의 방문 횟수 범위는 3번 이하였다. 원본 데이터의 방문 횟수는 아래와 같다\n",
    "![](2016-09-18_10.07.01.png)"
   ]
  },
  {
   "cell_type": "markdown",
   "metadata": {},
   "source": [
    "### Final data preprocessing\n",
    "라벨 비율 맞추기"
   ]
  },
  {
   "cell_type": "code",
   "execution_count": 161,
   "metadata": {
    "collapsed": false
   },
   "outputs": [],
   "source": [
    "## Revisit intention 비율을 50대 50으로 맞춤 (sampling)\n",
    "# trajs_combined = trajs_combined.loc[trajs_combined['prob_deny']==0]\n",
    "def balancing(trajs_combined):\n",
    "    trajs_1 = trajs_combined.loc[trajs_combined['revisit_intention']==1]\n",
    "    trajs_0 = trajs_combined.loc[trajs_combined['revisit_intention']==0]\n",
    "\n",
    "    new_trajs_0 = trajs_0.iloc[np.random.permutation(len(trajs_0))][:trajs_1.shape[0]]  ## trajs_1의 크기에 맞게 trajs_0을 랜덤 샘플링.\n",
    "\n",
    "    # 1:1 비율의 dataframe 만들기\n",
    "    trajs_combined_balanced = pd.concat([trajs_1, new_trajs_0])\n",
    "    trajs_combined_balanced = trajs_combined_balanced.sample(frac=1)  ## reshuffle after concatenation\n",
    "\n",
    "#     print(trajs_1.shape)\n",
    "#     print(trajs_0.shape)\n",
    "#     print(trajs_combined_balanced.shape) ## 이용할 데이터\n",
    "    return trajs_combined_balanced\n",
    "\n",
    "trajs_combined_balanced = balancing(trajs_combined)"
   ]
  },
  {
   "cell_type": "code",
   "execution_count": 159,
   "metadata": {
    "collapsed": false
   },
   "outputs": [
    {
     "data": {
      "text/html": [
       "<div>\n",
       "<table border=\"1\" class=\"dataframe\">\n",
       "  <thead>\n",
       "    <tr style=\"text-align: right;\">\n",
       "      <th></th>\n",
       "      <th>date</th>\n",
       "      <th>device_id</th>\n",
       "      <th>traj</th>\n",
       "      <th>new_visit_count</th>\n",
       "      <th>num_logs</th>\n",
       "      <th>total_dwell_time</th>\n",
       "      <th>num_sp_100</th>\n",
       "      <th>prob_dwell_100</th>\n",
       "      <th>time_sp_100</th>\n",
       "      <th>std_sp_100</th>\n",
       "      <th>Fri</th>\n",
       "      <th>Mon</th>\n",
       "      <th>Sat</th>\n",
       "      <th>Sun</th>\n",
       "      <th>Thu</th>\n",
       "      <th>Tue</th>\n",
       "      <th>Wed</th>\n",
       "      <th>revisit_intention</th>\n",
       "    </tr>\n",
       "  </thead>\n",
       "  <tbody>\n",
       "    <tr>\n",
       "      <th>16760_0d4ddf93b8bc9fc11e727865e02351ef</th>\n",
       "      <td>16760.0</td>\n",
       "      <td>0d4ddf93b8bc9fc11e727865e02351ef</td>\n",
       "      <td>out,in,1f</td>\n",
       "      <td>1.0</td>\n",
       "      <td>3</td>\n",
       "      <td>4214</td>\n",
       "      <td>2.0</td>\n",
       "      <td>1.0</td>\n",
       "      <td>1328.0</td>\n",
       "      <td>0.000000</td>\n",
       "      <td>0.0</td>\n",
       "      <td>0.0</td>\n",
       "      <td>1.0</td>\n",
       "      <td>0.0</td>\n",
       "      <td>0.0</td>\n",
       "      <td>0.0</td>\n",
       "      <td>0.0</td>\n",
       "      <td>0.0</td>\n",
       "    </tr>\n",
       "    <tr>\n",
       "      <th>16811_532e1ee8aff9231db8feb9e2cc0f7a72</th>\n",
       "      <td>16811.0</td>\n",
       "      <td>532e1ee8aff9231db8feb9e2cc0f7a72</td>\n",
       "      <td>out,in,1f</td>\n",
       "      <td>1.0</td>\n",
       "      <td>3</td>\n",
       "      <td>1454</td>\n",
       "      <td>2.0</td>\n",
       "      <td>1.0</td>\n",
       "      <td>512.0</td>\n",
       "      <td>0.000000</td>\n",
       "      <td>0.0</td>\n",
       "      <td>1.0</td>\n",
       "      <td>0.0</td>\n",
       "      <td>0.0</td>\n",
       "      <td>0.0</td>\n",
       "      <td>0.0</td>\n",
       "      <td>0.0</td>\n",
       "      <td>0.0</td>\n",
       "    </tr>\n",
       "    <tr>\n",
       "      <th>16716_ae2e3efee17983808b5ccc6f9cff2b73</th>\n",
       "      <td>16716.0</td>\n",
       "      <td>ae2e3efee17983808b5ccc6f9cff2b73</td>\n",
       "      <td>out,in,2f-right,2f,1f</td>\n",
       "      <td>2.0</td>\n",
       "      <td>5</td>\n",
       "      <td>68</td>\n",
       "      <td>0.0</td>\n",
       "      <td>0.0</td>\n",
       "      <td>0.0</td>\n",
       "      <td>0.000000</td>\n",
       "      <td>0.0</td>\n",
       "      <td>0.0</td>\n",
       "      <td>0.0</td>\n",
       "      <td>0.0</td>\n",
       "      <td>1.0</td>\n",
       "      <td>0.0</td>\n",
       "      <td>0.0</td>\n",
       "      <td>1.0</td>\n",
       "    </tr>\n",
       "    <tr>\n",
       "      <th>16791_b49a8debc8537eb5bfe80306f7cc9b18</th>\n",
       "      <td>16791.0</td>\n",
       "      <td>b49a8debc8537eb5bfe80306f7cc9b18</td>\n",
       "      <td>out,in</td>\n",
       "      <td>1.0</td>\n",
       "      <td>2</td>\n",
       "      <td>255</td>\n",
       "      <td>0.0</td>\n",
       "      <td>0.0</td>\n",
       "      <td>0.0</td>\n",
       "      <td>0.000000</td>\n",
       "      <td>0.0</td>\n",
       "      <td>0.0</td>\n",
       "      <td>0.0</td>\n",
       "      <td>0.0</td>\n",
       "      <td>0.0</td>\n",
       "      <td>1.0</td>\n",
       "      <td>0.0</td>\n",
       "      <td>0.0</td>\n",
       "    </tr>\n",
       "    <tr>\n",
       "      <th>16677_8f7cf76e54bd832010f91b7b78d17ba2</th>\n",
       "      <td>16677.0</td>\n",
       "      <td>8f7cf76e54bd832010f91b7b78d17ba2</td>\n",
       "      <td>out,in,1f,1f-right,1f-inner,1f-left,2f,1f,1f-r...</td>\n",
       "      <td>1.0</td>\n",
       "      <td>11</td>\n",
       "      <td>8793</td>\n",
       "      <td>9.0</td>\n",
       "      <td>0.9</td>\n",
       "      <td>6615.0</td>\n",
       "      <td>709.224048</td>\n",
       "      <td>0.0</td>\n",
       "      <td>0.0</td>\n",
       "      <td>0.0</td>\n",
       "      <td>1.0</td>\n",
       "      <td>0.0</td>\n",
       "      <td>0.0</td>\n",
       "      <td>0.0</td>\n",
       "      <td>1.0</td>\n",
       "    </tr>\n",
       "  </tbody>\n",
       "</table>\n",
       "</div>"
      ],
      "text/plain": [
       "                                           date  \\\n",
       "16760_0d4ddf93b8bc9fc11e727865e02351ef  16760.0   \n",
       "16811_532e1ee8aff9231db8feb9e2cc0f7a72  16811.0   \n",
       "16716_ae2e3efee17983808b5ccc6f9cff2b73  16716.0   \n",
       "16791_b49a8debc8537eb5bfe80306f7cc9b18  16791.0   \n",
       "16677_8f7cf76e54bd832010f91b7b78d17ba2  16677.0   \n",
       "\n",
       "                                                               device_id  \\\n",
       "16760_0d4ddf93b8bc9fc11e727865e02351ef  0d4ddf93b8bc9fc11e727865e02351ef   \n",
       "16811_532e1ee8aff9231db8feb9e2cc0f7a72  532e1ee8aff9231db8feb9e2cc0f7a72   \n",
       "16716_ae2e3efee17983808b5ccc6f9cff2b73  ae2e3efee17983808b5ccc6f9cff2b73   \n",
       "16791_b49a8debc8537eb5bfe80306f7cc9b18  b49a8debc8537eb5bfe80306f7cc9b18   \n",
       "16677_8f7cf76e54bd832010f91b7b78d17ba2  8f7cf76e54bd832010f91b7b78d17ba2   \n",
       "\n",
       "                                                                                     traj  \\\n",
       "16760_0d4ddf93b8bc9fc11e727865e02351ef                                          out,in,1f   \n",
       "16811_532e1ee8aff9231db8feb9e2cc0f7a72                                          out,in,1f   \n",
       "16716_ae2e3efee17983808b5ccc6f9cff2b73                              out,in,2f-right,2f,1f   \n",
       "16791_b49a8debc8537eb5bfe80306f7cc9b18                                             out,in   \n",
       "16677_8f7cf76e54bd832010f91b7b78d17ba2  out,in,1f,1f-right,1f-inner,1f-left,2f,1f,1f-r...   \n",
       "\n",
       "                                        new_visit_count  num_logs  \\\n",
       "16760_0d4ddf93b8bc9fc11e727865e02351ef              1.0         3   \n",
       "16811_532e1ee8aff9231db8feb9e2cc0f7a72              1.0         3   \n",
       "16716_ae2e3efee17983808b5ccc6f9cff2b73              2.0         5   \n",
       "16791_b49a8debc8537eb5bfe80306f7cc9b18              1.0         2   \n",
       "16677_8f7cf76e54bd832010f91b7b78d17ba2              1.0        11   \n",
       "\n",
       "                                        total_dwell_time  num_sp_100  \\\n",
       "16760_0d4ddf93b8bc9fc11e727865e02351ef              4214         2.0   \n",
       "16811_532e1ee8aff9231db8feb9e2cc0f7a72              1454         2.0   \n",
       "16716_ae2e3efee17983808b5ccc6f9cff2b73                68         0.0   \n",
       "16791_b49a8debc8537eb5bfe80306f7cc9b18               255         0.0   \n",
       "16677_8f7cf76e54bd832010f91b7b78d17ba2              8793         9.0   \n",
       "\n",
       "                                        prob_dwell_100  time_sp_100  \\\n",
       "16760_0d4ddf93b8bc9fc11e727865e02351ef             1.0       1328.0   \n",
       "16811_532e1ee8aff9231db8feb9e2cc0f7a72             1.0        512.0   \n",
       "16716_ae2e3efee17983808b5ccc6f9cff2b73             0.0          0.0   \n",
       "16791_b49a8debc8537eb5bfe80306f7cc9b18             0.0          0.0   \n",
       "16677_8f7cf76e54bd832010f91b7b78d17ba2             0.9       6615.0   \n",
       "\n",
       "                                        std_sp_100  Fri  Mon  Sat  Sun  Thu  \\\n",
       "16760_0d4ddf93b8bc9fc11e727865e02351ef    0.000000  0.0  0.0  1.0  0.0  0.0   \n",
       "16811_532e1ee8aff9231db8feb9e2cc0f7a72    0.000000  0.0  1.0  0.0  0.0  0.0   \n",
       "16716_ae2e3efee17983808b5ccc6f9cff2b73    0.000000  0.0  0.0  0.0  0.0  1.0   \n",
       "16791_b49a8debc8537eb5bfe80306f7cc9b18    0.000000  0.0  0.0  0.0  0.0  0.0   \n",
       "16677_8f7cf76e54bd832010f91b7b78d17ba2  709.224048  0.0  0.0  0.0  1.0  0.0   \n",
       "\n",
       "                                        Tue  Wed  revisit_intention  \n",
       "16760_0d4ddf93b8bc9fc11e727865e02351ef  0.0  0.0                0.0  \n",
       "16811_532e1ee8aff9231db8feb9e2cc0f7a72  0.0  0.0                0.0  \n",
       "16716_ae2e3efee17983808b5ccc6f9cff2b73  0.0  0.0                1.0  \n",
       "16791_b49a8debc8537eb5bfe80306f7cc9b18  1.0  0.0                0.0  \n",
       "16677_8f7cf76e54bd832010f91b7b78d17ba2  0.0  0.0                1.0  "
      ]
     },
     "execution_count": 159,
     "metadata": {},
     "output_type": "execute_result"
    }
   ],
   "source": [
    "df_learning = trajs_combined_balanced\n",
    "df_learning = df_learning.fillna(0)\n",
    "df_learning = df_learning.reindex(np.random.permutation(df_learning.index))\n",
    "df_learning.tail(5)"
   ]
  },
  {
   "cell_type": "code",
   "execution_count": 78,
   "metadata": {
    "collapsed": true
   },
   "outputs": [],
   "source": [
    "### DataFame to nparray, divide features and labels\n",
    "data = np.asarray(df_learning)\n",
    "X_small, y = data[:, 3:-1], data[:, -1].astype(int)"
   ]
  },
  {
   "cell_type": "markdown",
   "metadata": {},
   "source": [
    "### Add some trajectory features (Uni-gram, Bi-gram)"
   ]
  },
  {
   "cell_type": "code",
   "execution_count": 79,
   "metadata": {
    "collapsed": false
   },
   "outputs": [
    {
     "name": "stdout",
     "output_type": "stream",
     "text": [
      "True\n",
      "[[1 0 0 ..., 1 1 0]\n",
      " [1 0 0 ..., 1 1 0]\n",
      " [0 0 0 ..., 2 1 0]\n",
      " ..., \n",
      " [0 0 0 ..., 1 1 0]\n",
      " [0 0 0 ..., 2 1 1]\n",
      " [1 0 0 ..., 1 1 0]]\n",
      "['date', 'device_id', 'traj', 'new_visit_count', 'num_logs', 'total_dwell_time', 'num_sp_100', 'prob_dwell_100', 'time_sp_100', 'std_sp_100', 'Fri', 'Mon', 'Sat', 'Sun', 'Thu', 'Tue', 'Wed', '1f', '1f 1f', '1f 1f-inner', '1f 1f-left', '1f 1f-right', '1f 2f', '1f 2f-inner', '1f 2f-left', '1f 2f-right', '1f 3f', '1f in', '1f out', '1f-inner', '1f-inner 1f', '1f-inner 1f-inner', '1f-inner 1f-left', '1f-inner 1f-right', '1f-inner 2f', '1f-inner 2f-inner', '1f-inner 2f-left', '1f-inner 2f-right', '1f-inner 3f', '1f-inner in', '1f-inner out', '1f-left', '1f-left 1f', '1f-left 1f-inner', '1f-left 1f-left', '1f-left 1f-right', '1f-left 2f', '1f-left 2f-inner', '1f-left 2f-left', '1f-left 2f-right', '1f-left 3f', '1f-left in', '1f-left out', '1f-right', '1f-right 1f', '1f-right 1f-inner', '1f-right 1f-left', '1f-right 1f-right', '1f-right 2f', '1f-right 2f-inner', '1f-right 2f-left', '1f-right 2f-right', '1f-right 3f', '1f-right in', '1f-right out', '2f', '2f 1f', '2f 1f-inner', '2f 1f-left', '2f 1f-right', '2f 2f', '2f 2f-inner', '2f 2f-left', '2f 2f-right', '2f 3f', '2f in', '2f out', '2f-inner', '2f-inner 1f', '2f-inner 1f-inner', '2f-inner 1f-left', '2f-inner 1f-right', '2f-inner 2f', '2f-inner 2f-inner', '2f-inner 2f-left', '2f-inner 2f-right', '2f-inner 3f', '2f-inner in', '2f-inner out', '2f-left', '2f-left 1f', '2f-left 1f-inner', '2f-left 1f-left', '2f-left 1f-right', '2f-left 2f', '2f-left 2f-inner', '2f-left 2f-left', '2f-left 2f-right', '2f-left 3f', '2f-left in', '2f-left out', '2f-right', '2f-right 1f', '2f-right 1f-inner', '2f-right 1f-left', '2f-right 1f-right', '2f-right 2f', '2f-right 2f-inner', '2f-right 2f-left', '2f-right 2f-right', '2f-right 3f', '2f-right in', '2f-right out', '3f', '3f 1f', '3f 1f-inner', '3f 1f-left', '3f 1f-right', '3f 2f', '3f 2f-inner', '3f 2f-left', '3f 2f-right', '3f 3f', '3f in', '3f out', 'in', 'in 1f', 'in 1f-inner', 'in 1f-left', 'in 1f-right', 'in 2f', 'in 2f-inner', 'in 2f-left', 'in 2f-right', 'in 3f', 'in in', 'in out', 'out', 'out in', 'out out']\n",
      "(5378, 137)\n"
     ]
    }
   ],
   "source": [
    "from sklearn.feature_extraction.text import CountVectorizer\n",
    "bigram_vectorizer = CountVectorizer(min_df=1, token_pattern='\\w+\\-*\\w+', ngram_range=(1, 2))\n",
    "\n",
    "### Test with toy example\n",
    "analyze = bigram_vectorizer.build_analyzer()\n",
    "print(analyze('Bi-grams are cool!') == (['bi-grams', 'are', 'cool', 'bi-grams are', 'are cool']))\n",
    "\n",
    "### Trajecory를 이용하여 bi-gram 생성 후 각 moving pattern별로 count\n",
    "corpus = trajs_combined_balanced['traj']\n",
    "corpvec2 = bigram_vectorizer.fit_transform(corpus)\n",
    "print(corpvec2.toarray())\n",
    "corpvec2\n",
    "\n",
    "X = np.concatenate((X_small, corpvec2.toarray()), axis=1)\n",
    "newcolumns = df_learning.columns.tolist()[:-1]+bigram_vectorizer.get_feature_names()\n",
    "print(newcolumns)\n",
    "print(X.shape)"
   ]
  },
  {
   "cell_type": "markdown",
   "metadata": {
    "collapsed": true
   },
   "source": [
    "## Analysis with sklearn classifiers\n",
    "\n",
    "### Decision tree\n",
    "* Decision tree: http://scikit-learn.org/stable/modules/generated/sklearn.tree.DecisionTreeClassifier.html\n",
    "* Cross validation: http://scikit-learn.org/stable/modules/generated/sklearn.cross_validation.cross_val_score.html\n",
    "* Adjusting different scoring parameters: http://scikit-learn.org/stable/modules/model_evaluation.html#scoring-parameter"
   ]
  },
  {
   "cell_type": "code",
   "execution_count": 80,
   "metadata": {
    "collapsed": false
   },
   "outputs": [
    {
     "name": "stdout",
     "output_type": "stream",
     "text": [
      "Features [[1.0 5 9403 4.0 1.0 5744.0 996.0003346719652 0.0 0.0 0.0 0.0 0.0 0.0 1.0]\n",
      " [1.0 6 344 0.0 0.0 0.0 0.0 0.0 0.0 0.0 0.0 0.0 0.0 1.0]\n",
      " [1.0 4 4685 2.0 1.0 906.0 0.0 0.0 0.0 0.0 0.0 0.0 1.0 0.0]\n",
      " [1.0 6 3604 4.0 0.8 2466.0 125.12793453102309 0.0 0.0 1.0 0.0 0.0 0.0 0.0]]\n",
      "Labels [1 0 1 0]\n"
     ]
    }
   ],
   "source": [
    "print(\"Features\", X_small[1:5])\n",
    "print(\"Labels\", y[1:5])"
   ]
  },
  {
   "cell_type": "code",
   "execution_count": 155,
   "metadata": {
    "collapsed": false,
    "scrolled": false
   },
   "outputs": [
    {
     "name": "stdout",
     "output_type": "stream",
     "text": [
      "Decision tree\n",
      "  * accuracy 0.613\n",
      "  * precision 0.624\n",
      "  * recall 0.576\n",
      "  * f1 0.598\n",
      "  * roc_auc 0.647\n"
     ]
    }
   ],
   "source": [
    "from sklearn.cross_validation import cross_val_score\n",
    "from sklearn.tree import DecisionTreeClassifier\n",
    "from sklearn import tree\n",
    "clf = DecisionTreeClassifier(max_depth=5)\n",
    "scoring = ['accuracy', 'precision', 'recall', 'f1', 'roc_auc']\n",
    "\n",
    "print('Decision tree')\n",
    "for criteria in scoring:\n",
    "    score = cross_val_score(clf, X, y, cv=10, scoring=criteria)  ## accuracy\n",
    "    avgscore = score.sum()/len(score)\n",
    "    print('  *', criteria, round(avgscore,3))"
   ]
  },
  {
   "cell_type": "code",
   "execution_count": 82,
   "metadata": {
    "collapsed": false,
    "scrolled": false
   },
   "outputs": [
    {
     "name": "stdout",
     "output_type": "stream",
     "text": [
      "Feature ranking:\n",
      "1. feature 1: new_visit_count (0.530494)\n",
      "2. feature 6: time_sp_100 (0.303475)\n",
      "3. feature 3: total_dwell_time (0.052346)\n",
      "4. feature 11: Sun (0.029586)\n",
      "5. feature 8: Fri (0.016562)\n",
      "6. feature 137: out out (0.013155)\n",
      "7. feature 2: num_logs (0.011446)\n",
      "8. feature 128: in 2f (0.011224)\n",
      "9. feature 123: in (0.010288)\n",
      "10. feature 19: 1f 1f-right (0.009431)\n",
      "11. feature 5: prob_dwell_100 (0.006834)\n",
      "12. feature 62: 1f-right out (0.005160)\n",
      "13. feature 42: 1f-left 1f-left (0.000000)\n",
      "14. feature 47: 1f-left 2f-right (0.000000)\n"
     ]
    },
    {
     "data": {
      "image/png": "[encoded data removed]",
      "text/plain": [
       "<matplotlib.figure.Figure at 0x11765e278>"
      ]
     },
     "metadata": {},
     "output_type": "display_data"
    }
   ],
   "source": [
    "import matplotlib.pyplot as plt\n",
    "%matplotlib inline \n",
    "\n",
    "clf.fit(X,y)\n",
    "importances = clf.feature_importances_\n",
    "\n",
    "indices = np.argsort(importances)[::-1]\n",
    "\n",
    "# Print the feature ranking\n",
    "print(\"Feature ranking:\")\n",
    "\n",
    "\n",
    "numShow = X_small.shape[1]\n",
    "for f in range(numShow):\n",
    "    print(\"%d. feature %d: %s (%f)\" % (f + 1, indices[f]+1, newcolumns[indices[f]+3], importances[indices[f]]))\n",
    "\n",
    "\n",
    "# Plot the feature importances of the forest\n",
    "plt.figure()\n",
    "plt.title(\"Feature importances\")\n",
    "# plt.bar(range(X.shape[1]), importances[indices],\n",
    "#        color=\"r\", align=\"center\")\n",
    "# plt.xticks(range(X.shape[1]), indices+1)\n",
    "# plt.xlim([-1, X.shape[1]])\n",
    "plt.bar(range(numShow), importances[indices][:numShow], color=\"r\", align=\"center\")  # Just plot top 15 features\n",
    "plt.xticks(range(numShow), indices+1)\n",
    "plt.xlim([-1, numShow])\n",
    "plt.show()"
   ]
  },
  {
   "cell_type": "code",
   "execution_count": 84,
   "metadata": {
    "collapsed": false
   },
   "outputs": [],
   "source": [
    "X_top10 = X[:, [0,5,2,10,7,136,1,127,122,18]]"
   ]
  },
  {
   "cell_type": "code",
   "execution_count": 151,
   "metadata": {
    "collapsed": false,
    "scrolled": true
   },
   "outputs": [
    {
     "name": "stdout",
     "output_type": "stream",
     "text": [
      "(5378, 10)\n",
      "Decision tree\n",
      "  * accuracy 0.592\n",
      "  * precision 0.604\n",
      "  * recall 0.537\n",
      "  * f1 0.568\n",
      "  * roc_auc 0.613\n"
     ]
    }
   ],
   "source": [
    "# Top feature 10개로만 진행\n",
    "print(X_top10.shape)\n",
    "scoring = ['accuracy', 'precision', 'recall', 'f1', 'roc_auc']\n",
    "\n",
    "print('Decision tree')\n",
    "for criteria in scoring:\n",
    "    score = cross_val_score(clf, X_top10, y, cv=10, scoring=criteria)  ## accuracy\n",
    "    avgscore = score.sum()/len(score)\n",
    "    print('  *', criteria, round(avgscore,3))"
   ]
  },
  {
   "cell_type": "code",
   "execution_count": 152,
   "metadata": {
    "collapsed": false,
    "scrolled": true
   },
   "outputs": [
    {
     "name": "stdout",
     "output_type": "stream",
     "text": [
      "  * accuracy 0.577\n",
      "  * precision 0.596\n",
      "  * recall 0.475\n",
      "  * f1 0.528\n",
      "  * roc_auc 0.602\n"
     ]
    }
   ],
   "source": [
    "# Basic feature만 가지고 테스트\n",
    "X_first7 = X[:, 0:7]\n",
    "for criteria in scoring:\n",
    "    score = cross_val_score(clf, X_first7, y, cv=10, scoring=criteria)  ## accuracy\n",
    "    avgscore = score.sum()/len(score)\n",
    "    print('  *', criteria, round(avgscore,3))"
   ]
  },
  {
   "cell_type": "code",
   "execution_count": 153,
   "metadata": {
    "collapsed": false,
    "scrolled": true
   },
   "outputs": [
    {
     "name": "stdout",
     "output_type": "stream",
     "text": [
      "  * accuracy 0.569\n",
      "  * precision 0.592\n",
      "  * recall 0.447\n",
      "  * f1 0.509\n",
      "  * roc_auc 0.583\n"
     ]
    }
   ],
   "source": [
    "# Basic feature - history(지금까지 방문 횟수) 제거 \n",
    "X_2_7 = X[:, 1:7]\n",
    "for criteria in scoring:\n",
    "    score = cross_val_score(clf, X_2_7, y, cv=10, scoring=criteria)  ## accuracy\n",
    "    avgscore = score.sum()/len(score)\n",
    "    print('  *', criteria, round(avgscore,3))"
   ]
  },
  {
   "cell_type": "markdown",
   "metadata": {},
   "source": [
    "### Comparison between classifiers"
   ]
  },
  {
   "cell_type": "code",
   "execution_count": 90,
   "metadata": {
    "collapsed": true
   },
   "outputs": [],
   "source": [
    "import numpy as np\n",
    "import matplotlib.pyplot as plt\n",
    "from matplotlib.colors import ListedColormap\n",
    "from sklearn.cross_validation import train_test_split\n",
    "from sklearn.preprocessing import StandardScaler\n",
    "from sklearn.datasets import make_moons, make_circles, make_classification\n",
    "from sklearn.neighbors import KNeighborsClassifier\n",
    "from sklearn.svm import SVC\n",
    "from sklearn.tree import DecisionTreeClassifier\n",
    "from sklearn.ensemble import RandomForestClassifier, AdaBoostClassifier\n",
    "from sklearn.naive_bayes import GaussianNB\n",
    "from sklearn.discriminant_analysis import LinearDiscriminantAnalysis\n",
    "from sklearn.discriminant_analysis import QuadraticDiscriminantAnalysis\n",
    "from sklearn.linear_model import LogisticRegression"
   ]
  },
  {
   "cell_type": "code",
   "execution_count": 91,
   "metadata": {
    "collapsed": false
   },
   "outputs": [],
   "source": [
    "names = [\"3 Nearest Neighbors\",  \"Decision Tree\",\n",
    "         \"Random Forest\", \"AdaBoost\",\n",
    "         \"Naive Bayes\", \"Logistic Regression\"\n",
    "        ]  ## \"Linear SVM\", \"RBF SVM\", \"Linear Discriminant Analysis\", \"Quadratic Discriminant Analysis\"\n",
    "classifiers = [\n",
    "    KNeighborsClassifier(3),\n",
    "#     SVC(kernel=\"linear\", C=0.025),  ## very slow (can't wait)  \n",
    "#     SVC(gamma=2, C=1), ## very slow (can't wait)\n",
    "    DecisionTreeClassifier(max_depth=5),\n",
    "    RandomForestClassifier(max_depth=5, n_estimators=10, max_features=1),\n",
    "    AdaBoostClassifier(),\n",
    "    GaussianNB(),\n",
    "#     LinearDiscriminantAnalysis(),\n",
    "    LogisticRegression(penalty='l2', class_weight='balanced', solver='liblinear')\n",
    "    ]"
   ]
  },
  {
   "cell_type": "code",
   "execution_count": 154,
   "metadata": {
    "collapsed": false,
    "scrolled": true
   },
   "outputs": [
    {
     "name": "stdout",
     "output_type": "stream",
     "text": [
      "Scoring criteria: accuracy\n",
      "  * 3 Nearest Neighbors 0.518\n",
      "  * Decision Tree 0.617\n",
      "  * Random Forest 0.595\n",
      "  * AdaBoost 0.622\n",
      "  * Naive Bayes 0.567\n",
      "  * Logistic Regression 0.583\n",
      "Scoring criteria: precision\n",
      "  * 3 Nearest Neighbors 0.519\n",
      "  * Decision Tree 0.626\n",
      "  * Random Forest 0.618\n",
      "  * AdaBoost 0.643\n",
      "  * Naive Bayes 0.64\n",
      "  * Logistic Regression 0.596\n",
      "Scoring criteria: recall\n",
      "  * 3 Nearest Neighbors 0.512\n",
      "  * Decision Tree 0.586\n",
      "  * Random Forest 0.519\n",
      "  * AdaBoost 0.55\n",
      "  * Naive Bayes 0.308\n",
      "  * Logistic Regression 0.514\n",
      "Scoring criteria: f1\n",
      "  * 3 Nearest Neighbors 0.515\n",
      "  * Decision Tree 0.604\n",
      "  * Random Forest 0.583\n",
      "  * AdaBoost 0.592\n",
      "  * Naive Bayes 0.416\n",
      "  * Logistic Regression 0.552\n",
      "Scoring criteria: roc_auc\n",
      "  * 3 Nearest Neighbors 0.52\n",
      "  * Decision Tree 0.65\n",
      "  * Random Forest 0.636\n",
      "  * AdaBoost 0.659\n",
      "  * Naive Bayes 0.608\n",
      "  * Logistic Regression 0.608\n"
     ]
    }
   ],
   "source": [
    "for criteria in scoring:\n",
    "    print('Scoring criteria:', criteria)\n",
    "    for name, clf in zip(names, classifiers):\n",
    "        score = cross_val_score(clf, X_small, y, cv=10, scoring=criteria)\n",
    "        avgscore = score.sum()/len(score)\n",
    "        print('  *', name, round(avgscore,3))"
   ]
  },
  {
   "cell_type": "markdown",
   "metadata": {},
   "source": [
    "### Sampling마다 결과가 변하므로 반복실험\n",
    "\n",
    "Revisit-intention이 있는 Moving pattern(2,689개)와 Revisit-intention이 없는 Moving pattern(19,953개)의 개수 차이가 커서, 1:1로 라벨 비율을 맞추기 위하여 샘플링을(2,689개씩) 하는데, 샘플링 결과에 따라 classifier(decision tree)의 최종 prediction accuracy가 0.60-0.65 사이에서 변동하는 것을 관측하여 아래 실행을 진행함. \n",
    "\n",
    "샘플링 과정을 100번 한 후 각각의 샘플된 데이터에 대해 prediction 진행(10-fold cross validation)을 하여 Box-plot을 그림\n",
    "1. 6개의 classifier를 이용\n",
    "    * Logistic Regression\n",
    "    * Random Forest\n",
    "    * 3 Nearest Neighbors\n",
    "    * Decision Tree\n",
    "    * AdaBoost\n",
    "    * Naive Bayes\n",
    "2. 5개의 scoring criteria\n",
    "    * accuracy\n",
    "    * precision\n",
    "    * recall\n",
    "    * f1\n",
    "    * roc_auc\n",
    "    "
   ]
  },
  {
   "cell_type": "code",
   "execution_count": 179,
   "metadata": {
    "collapsed": false
   },
   "outputs": [],
   "source": [
    "from sklearn.feature_extraction.text import CountVectorizer\n",
    "from sklearn.cross_validation import cross_val_score\n",
    "from sklearn.tree import DecisionTreeClassifier\n",
    "from sklearn import tree\n",
    "\n",
    "bigram_vectorizer = CountVectorizer(min_df=1, token_pattern='\\w+\\-*\\w+', ngram_range=(1, 2))\n",
    "results_dict = dict()\n",
    "\n",
    "for i in range(100):\n",
    "    trajs_combined_balanced = balancing(trajs_combined)\n",
    "    df_learning = trajs_combined_balanced\n",
    "    df_learning = df_learning.fillna(0)\n",
    "    df_learning = df_learning.reindex(np.random.permutation(df_learning.index))\n",
    "    df_learning.tail(5)\n",
    "    data = np.asarray(df_learning)\n",
    "    X_small, y = data[:, 3:-1], data[:, -1].astype(int)\n",
    "\n",
    "    corpus = trajs_combined_balanced['traj']\n",
    "    corpvec2 = bigram_vectorizer.fit_transform(corpus)\n",
    "\n",
    "    X = np.concatenate((X_small, corpvec2.toarray()), axis=1)\n",
    "    newcolumns = df_learning.columns.tolist()[:-1]+bigram_vectorizer.get_feature_names()\n",
    "\n",
    "    scoring = ['accuracy', 'precision', 'recall', 'f1', 'roc_auc']\n",
    "    \n",
    "    \n",
    "    for name, clf in zip(names, classifiers):\n",
    "        results_dict.setdefault(name, dict())\n",
    "        for criteria in scoring:\n",
    "            score = cross_val_score(clf, X, y, cv=10, scoring=criteria)\n",
    "            avgscore = score.sum()/len(score)\n",
    "#             print('  *', name, criteria, round(avgscore,3))\n",
    "            results_dict[name].setdefault(criteria, []).append(avgscore)"
   ]
  },
  {
   "cell_type": "code",
   "execution_count": 181,
   "metadata": {
    "collapsed": true
   },
   "outputs": [],
   "source": [
    "import pickle\n",
    "with open('preliminary_results_160918_sample.pickle', 'wb') as handle:\n",
    "  pickle.dump(results_dict, handle)"
   ]
  },
  {
   "cell_type": "code",
   "execution_count": 182,
   "metadata": {
    "collapsed": true
   },
   "outputs": [],
   "source": [
    "from collections import OrderedDict\n",
    "with open('preliminary_results_160918_sample.pickle', 'rb') as handle:\n",
    "  b = pickle.load(handle)"
   ]
  },
  {
   "cell_type": "code",
   "execution_count": null,
   "metadata": {
    "collapsed": true
   },
   "outputs": [],
   "source": [
    "import numpy as np\n",
    "np.random.seed(937)\n",
    "labels = ['r', 'f1', 'p', 'a', 'auc']\n",
    "fs = 10 # fontsize\n",
    "# demonstrate how to toggle the display of different elements:\n",
    "fig, axes = plt.subplots(nrows=1, ncols=6, figsize=(18,6))\n",
    "idx1 = 0\n",
    "for classifier in b.keys():\n",
    "    print(classifier)\n",
    "    data = np.array(list(b[classifier].values())).T\n",
    "    axes[idx1].boxplot(data, labels=labels)\n",
    "    axes[idx1].set_ylim(0.3, 0.7)\n",
    "    axes[idx1].set_title(classifier, fontsize=fs)\n",
    "    idx1 += 1"
   ]
  },
  {
   "cell_type": "code",
   "execution_count": 183,
   "metadata": {
    "collapsed": false
   },
   "outputs": [
    {
     "name": "stdout",
     "output_type": "stream",
     "text": [
      "Logistic Regression\n",
      "Random Forest\n",
      "3 Nearest Neighbors\n",
      "Decision Tree\n",
      "AdaBoost\n",
      "Naive Bayes\n"
     ]
    },
    {
     "data": {
      "image/png": "[encoded data removed]",
      "text/plain": [
       "<matplotlib.figure.Figure at 0x11c155e48>"
      ]
     },
     "metadata": {},
     "output_type": "display_data"
    }
   ],
   "source": [
    "labels = ['r', 'f1', 'p', 'a', 'auc']\n",
    "fs = 10 # fontsize\n",
    "# demonstrate how to toggle the display of different elements:\n",
    "fig, axes = plt.subplots(nrows=1, ncols=6, figsize=(18,6))\n",
    "idx1 = 0\n",
    "for classifier in b.keys():\n",
    "    print(classifier)\n",
    "    data = np.array(list(b[classifier].values())).T\n",
    "    axes[idx1].boxplot(data, labels=labels)\n",
    "    axes[idx1].set_ylim(0.3, 0.7)\n",
    "    axes[idx1].set_title(classifier, fontsize=fs)\n",
    "    idx1 += 1"
   ]
  },
  {
   "cell_type": "code",
   "execution_count": 184,
   "metadata": {
    "collapsed": true
   },
   "outputs": [],
   "source": [
    "c = {}\n",
    "for key in b['3 Nearest Neighbors'].keys():\n",
    "    c[key] = {}\n",
    "\n",
    "for i in b.keys():\n",
    "    for j in b[i].keys():    \n",
    "        c[j][i] = b[i][j]"
   ]
  },
  {
   "cell_type": "code",
   "execution_count": 185,
   "metadata": {
    "collapsed": false,
    "scrolled": false
   },
   "outputs": [
    {
     "name": "stdout",
     "output_type": "stream",
     "text": [
      "precision\n",
      "recall\n",
      "roc_auc\n",
      "f1\n",
      "accuracy\n"
     ]
    },
    {
     "data": {
      "image/png": "[encoded data removed]",
      "text/plain": [
       "<matplotlib.figure.Figure at 0x111c133c8>"
      ]
     },
     "metadata": {},
     "output_type": "display_data"
    }
   ],
   "source": [
    "labels = ['3NN', 'RF', 'DT', 'LR', 'AB', 'NB']\n",
    "fs = 10 # fontsize\n",
    "# demonstrate how to toggle the display of different elements:\n",
    "fig, axes = plt.subplots(nrows=1, ncols=5, figsize=(18,5))\n",
    "idx1 = 0\n",
    "for criteria in c.keys():\n",
    "    print(criteria)\n",
    "    data = np.array(list(c[criteria].values())).T\n",
    "    axes[idx1].boxplot(data, labels=labels)\n",
    "    axes[idx1].set_ylim(0.3, 0.7)\n",
    "    axes[idx1].set_title(criteria, fontsize=fs)\n",
    "    idx1 += 1"
   ]
  },
  {
   "cell_type": "markdown",
   "metadata": {},
   "source": [
    "### Feature 전체 사용 vs 일부 사용 결과\n",
    "\n",
    "1. 데이터 분류\n",
    "    1. X: 기본 통계 feature 7개 + 요일 feature 7개 + trajectory uni,bigram 123개 = 137개\n",
    "    2. X_small: 기본 통계 feature 7개 + 요일 feature 7개 = 14개\n",
    "    3. X_basic: 기본 통계 feature 7개 = 7개\n",
    "    4. X_top10: X에서 중요도 순으로 뽑은 10개 feature (각 샘플링 때마다 변화가 있다)\n",
    "\n",
    "Feature를 어떻게 택하느냐에 따라 달라지는 예측 결과에 대한 boxplot.\n",
    "앞선 실험과 같이 샘플링 에러를 없애기 위해, feature importance가 나오는 3개의 classifier를 5개의 scoring criteria에 대해 100번 반복한 실험 결과이다.\n",
    "137개 feature를 다 사용하였을 때 예측 결과가 잘 나올 거라고 생각하기 쉬운데, 눈으로 예측 결과물을 본 결과 정확도가 오히려 떨어질 수도 있다는 점을 발견하였고, 이를 증명하는 아래 boxplot은 아무리 trajectory feature를 추가하였다 할지라도, feature를 개수가 예측 결과의 정확도를 guarantee하지 않음을 나타내 준다. 오히려 simple statistics 7가지만 이용한 X_basic이 가장 좋은 결과를 나타내는 경우도 있다."
   ]
  },
  {
   "cell_type": "code",
   "execution_count": 200,
   "metadata": {
    "collapsed": true
   },
   "outputs": [],
   "source": [
    "names = [\"Decision Tree\",\n",
    "         \"Random Forest\", \"AdaBoost\"\n",
    "        ]  ## \"Linear SVM\", \"RBF SVM\", \"Linear Discriminant Analysis\", \"Quadratic Discriminant Analysis\"\n",
    "classifiers = [\n",
    "    DecisionTreeClassifier(max_depth=5),\n",
    "    RandomForestClassifier(max_depth=5, n_estimators=10, max_features=1),\n",
    "    AdaBoostClassifier()\n",
    "    ]"
   ]
  },
  {
   "cell_type": "code",
   "execution_count": 225,
   "metadata": {
    "collapsed": false
   },
   "outputs": [],
   "source": [
    "from sklearn.feature_extraction.text import CountVectorizer\n",
    "from sklearn.cross_validation import cross_val_score\n",
    "from sklearn.tree import DecisionTreeClassifier\n",
    "from sklearn import tree\n",
    "\n",
    "bigram_vectorizer = CountVectorizer(min_df=1, token_pattern='\\w+\\-*\\w+', ngram_range=(1, 2))\n",
    "results_dict2 = dict()\n",
    "\n",
    "for i in range(100):\n",
    "    trajs_combined_balanced = balancing(trajs_combined)\n",
    "    df_learning = trajs_combined_balanced\n",
    "    df_learning = df_learning.fillna(0)\n",
    "    df_learning = df_learning.reindex(np.random.permutation(df_learning.index))\n",
    "    df_learning.tail(5)\n",
    "    data = np.asarray(df_learning)\n",
    "    X_small, X_basic, y = data[:, 3:-1], data[:,3:10], data[:, -1].astype(int)\n",
    "    corpus = trajs_combined_balanced['traj']\n",
    "    corpvec2 = bigram_vectorizer.fit_transform(corpus)\n",
    "\n",
    "    X = np.concatenate((X_small, corpvec2.toarray()), axis=1)\n",
    "    newcolumns = df_learning.columns.tolist()[:-1]+bigram_vectorizer.get_feature_names()\n",
    "    \n",
    "    scoring = ['accuracy', 'precision', 'recall', 'f1', 'roc_auc']\n",
    "    \n",
    "    for name, clf in zip(names, classifiers):\n",
    "        results_dict2.setdefault(name, dict())\n",
    "        \n",
    "        clf.fit(X, y)\n",
    "        importances = clf.feature_importances_\n",
    "        indices = np.argsort(importances)[::-1]\n",
    "        X_top10 = X[:,indices[:10]]\n",
    "        \n",
    "        for inputX in ['X', 'X_small', 'X_basic', 'X_top10']:\n",
    "            results_dict2[name].setdefault(inputX, dict())\n",
    "            \n",
    "            \n",
    "        for criteria in scoring:\n",
    "\n",
    "            score1 = cross_val_score(clf, X, y, cv=10, scoring=criteria)\n",
    "            avgscore1 = score1.sum()/len(score1)\n",
    "            results_dict2[name]['X'].setdefault(criteria, []).append(avgscore1)\n",
    "\n",
    "            score2 = cross_val_score(clf, X_small, y, cv=10, scoring=criteria)\n",
    "            avgscore2 = score2.sum()/len(score)\n",
    "            results_dict2[name]['X_small'].setdefault(criteria, []).append(avgscore2)\n",
    "\n",
    "            score3 = cross_val_score(clf, X_basic, y, cv=10, scoring=criteria )\n",
    "            avgscore3 = score3.sum()/len(score)\n",
    "            results_dict2[name]['X_basic'].setdefault(criteria, []).append(avgscore3)\n",
    "            \n",
    "            score4 = cross_val_score(clf, X_top10, y, cv=10, scoring=criteria )\n",
    "            avgscore4 = score4.sum()/len(score)\n",
    "            results_dict2[name]['X_top10'].setdefault(criteria, []).append(avgscore4)\n",
    "#             print('  *', name, criteria, round(avgscore4,3))"
   ]
  },
  {
   "cell_type": "code",
   "execution_count": 232,
   "metadata": {
    "collapsed": true
   },
   "outputs": [],
   "source": [
    "with open('preliminary_results_features_160918_sample.pickle', 'wb') as handle:\n",
    "  pickle.dump(results_dict2, handle)"
   ]
  },
  {
   "cell_type": "code",
   "execution_count": 233,
   "metadata": {
    "collapsed": true
   },
   "outputs": [],
   "source": [
    "from collections import OrderedDict\n",
    "with open('preliminary_results_features_160918_sample.pickle', 'rb') as handle:\n",
    "  b2 = pickle.load(handle)"
   ]
  },
  {
   "cell_type": "code",
   "execution_count": 297,
   "metadata": {
    "collapsed": true
   },
   "outputs": [],
   "source": [
    "from collections import defaultdict\n",
    "\n",
    "def nestdicflip(data):\n",
    "    flipped = defaultdict(dict)\n",
    "    for key, val in data.items():\n",
    "        for subkey, subval in val.items():\n",
    "            flipped[subkey][key] = subval\n",
    "    return dict(flipped)"
   ]
  },
  {
   "cell_type": "code",
   "execution_count": 303,
   "metadata": {
    "collapsed": false
   },
   "outputs": [
    {
     "data": {
      "text/plain": [
       "dict_keys(['X_small', 'X_top10', 'X_basic', 'X'])"
      ]
     },
     "execution_count": 303,
     "metadata": {},
     "output_type": "execute_result"
    }
   ],
   "source": [
    "c2['accuracy'].keys()"
   ]
  },
  {
   "cell_type": "code",
   "execution_count": 351,
   "metadata": {
    "collapsed": false
   },
   "outputs": [
    {
     "data": {
      "image/png": "[encoded data removed]",
      "text/plain": [
       "<matplotlib.figure.Figure at 0x11ab03d30>"
      ]
     },
     "metadata": {},
     "output_type": "display_data"
    }
   ],
   "source": [
    "fs = 10 # fontsize\n",
    "# demonstrate how to toggle the display of different elements:\n",
    "nk = len(b2.keys())\n",
    "fig, axes = plt.subplots(nrows=3, ncols=5, figsize=(20,6*nk))\n",
    "idx2 = 0\n",
    "\n",
    "for classifier in b2.keys():\n",
    "    c2 = nestdicflip(b2[classifier])\n",
    "    idx1 = 0\n",
    "    for criteria in c2.keys():\n",
    "        labels = c2[criteria].keys()\n",
    "        data = np.array(list(c2[criteria].values())).T\n",
    "        axes[idx2, idx1].boxplot(data, labels=labels)\n",
    "    #     axes[idx1].set_ylim(0.61, 0.63)\n",
    "        axes[idx2, idx1].set_title(classifier+\"(\"+criteria+\")\", fontsize=fs)\n",
    "        idx1 += 1\n",
    "    idx2 += 1\n",
    "    \n",
    "fig.savefig('foo.png', dpi=400)"
   ]
  },
  {
   "cell_type": "code",
   "execution_count": 353,
   "metadata": {
    "collapsed": false
   },
   "outputs": [
    {
     "data": {
      "image/png": "[encoded data removed]",
      "text/plain": [
       "<matplotlib.figure.Figure at 0x11957bcc0>"
      ]
     },
     "metadata": {},
     "output_type": "display_data"
    }
   ],
   "source": [
    "fs = 10 # fontsize\n",
    "# demonstrate how to toggle the display of different elements:\n",
    "nk = len(b2.keys())\n",
    "fig, axes = plt.subplots(nrows=1, ncols=3, figsize=(12,6))\n",
    "idx1 = 0\n",
    "\n",
    "for classifier in b2.keys():\n",
    "    c2 = nestdicflip(b2[classifier])\n",
    "    \n",
    "    \n",
    "    labels = c2['accuracy'].keys()\n",
    "    data = np.array(list(c2['accuracy'].values())).T\n",
    "    axes[idx1].boxplot(data, labels=labels)\n",
    "#     axes[idx1].set_ylim(0.61, 0.63)\n",
    "    axes[idx1].set_title(classifier+\"(\"+'accuracy'+\")\", fontsize=fs)\n",
    "    idx1 += 1\n",
    "    \n",
    "fig.savefig('foo2.png', dpi=400)"
   ]
  },
  {
   "cell_type": "code",
   "execution_count": 329,
   "metadata": {
    "collapsed": false,
    "scrolled": true
   },
   "outputs": [
    {
     "name": "stdout",
     "output_type": "stream",
     "text": [
      "0.623730746824\n",
      "0.622962783665\n",
      "0.621589163846\n",
      "0.618651077789\n",
      "0.6027755153\n",
      "0.605247714996\n",
      "0.602126407532\n",
      "0.601448139217\n"
     ]
    }
   ],
   "source": [
    "### Check any error\n",
    "\n",
    "import scipy as sp\n",
    "print(sp.mean(b2['AdaBoost']['X_small']['accuracy']))\n",
    "print(sp.mean(b2['AdaBoost']['X_top10']['accuracy']))\n",
    "print(sp.mean(b2['AdaBoost']['X_basic']['accuracy']))\n",
    "print(sp.mean(b2['AdaBoost']['X']['accuracy']))\n",
    "\n",
    "import scipy as sp\n",
    "print(sp.mean(b2['Decision Tree']['X_small']['f1']))\n",
    "print(sp.mean(b2['Decision Tree']['X_top10']['f1']))\n",
    "print(sp.mean(b2['Decision Tree']['X_basic']['f1']))\n",
    "print(sp.mean(b2['Decision Tree']['X']['f1']))"
   ]
  },
  {
   "cell_type": "markdown",
   "metadata": {},
   "source": [
    "### XGBoost로 테스트\n",
    "XGBoost is an optimized distributed gradient boosting library designed to be highly efficient, flexible and portable. It implements machine learning algorithms under the Gradient Boosting framework. XGBoost provides a parallel tree boosting(also known as GBDT, GBM) that solve many data science problems in a fast and accurate way. The same code runs on major distributed environment(Hadoop, SGE, MPI) and can solve problems beyond billions of examples.\n",
    "* https://xgboost.readthedocs.io/en/latest/\n",
    "* https://xgboost.readthedocs.io/en/latest/model.html\n",
    "* https://github.com/dmlc/xgboost"
   ]
  },
  {
   "cell_type": "code",
   "execution_count": 21,
   "metadata": {
    "collapsed": true
   },
   "outputs": [],
   "source": [
    "import datetime\n",
    "import pandas as pd\n",
    "import numpy as np\n",
    "from sklearn.cross_validation import train_test_split\n",
    "import xgboost as xgb\n",
    "import random\n",
    "import zipfile\n",
    "import time\n",
    "import shutil\n",
    "from sklearn.metrics import log_loss\n",
    "from sklearn.metrics import mean_squared_error\n",
    "from sklearn.metrics import roc_auc_score\n",
    "from sklearn.metrics import f1_score\n",
    "import json\n",
    "import re\n",
    "\n",
    "trajs_combined = pd.read_pickle(\"../data/786/786_trajs_combined.p\")\n",
    "random.seed(2016)\n",
    "datadir = \"../data/786/786_trajs_combined.p\""
   ]
  },
  {
   "cell_type": "code",
   "execution_count": 148,
   "metadata": {
    "collapsed": false
   },
   "outputs": [],
   "source": [
    "def run_xgb(train, test, random_state=0):\n",
    "    start_time = time.time()\n",
    "    objective = \"reg:logistic\"\n",
    "    booster = \"gbtree\"\n",
    "    eval_metric = [\"auc\", \"logloss\", \"error\"]\n",
    "    eta = 0.1\n",
    "    max_depth = 3\n",
    "    subsample = 0.7\n",
    "    colsample_bytree = 0.7\n",
    "    silent = 1\n",
    "\n",
    "    print('XGBoost params. ETA: {}, MAX_DEPTH: {}, SUBSAMPLE: {}, COLSAMPLE_BY_TREE: {}'.format(eta, max_depth, subsample, colsample_bytree))\n",
    "    params = {\n",
    "        \"objective\": objective,\n",
    "#         \"num_class\": 2,\n",
    "        \"booster\" : booster,\n",
    "        \"eval_metric\": eval_metric,\n",
    "        \"eta\": eta,\n",
    "        \"max_depth\": max_depth,\n",
    "        \"subsample\": subsample,\n",
    "        \"colsample_bytree\": colsample_bytree,\n",
    "        \"silent\": silent,\n",
    "        \"seed\": random_state,\n",
    "    }\n",
    "    num_boost_round = 1000\n",
    "    early_stopping_rounds = 100\n",
    "    test_size = 0.1\n",
    "\n",
    "    X_train, X_valid = train_test_split(train, test_size=test_size, random_state=random_state)\n",
    "    print('Length train:', X_train.shape[0])\n",
    "    print('Length valid:', X_valid.shape[0])\n",
    "    y_train = X_train[:,-1]\n",
    "    y_valid = X_valid[:,-1]\n",
    "    dtrain = xgb.DMatrix(X_train[:,:-1], y_train)\n",
    "    dvalid = xgb.DMatrix(X_valid[:,:-1], y_valid)\n",
    "\n",
    "#     res = xgb.cv(params, dtrain, num_boost_round, nfold=10)\n",
    "#     print(res)\n",
    "#     print('running cross validation, disable standard deviation display')\n",
    "    \n",
    "    watchlist = [(dtrain, 'train'), (dvalid, 'eval')]\n",
    "    gbm = xgb.train(params, dtrain, num_boost_round, evals=watchlist, early_stopping_rounds=early_stopping_rounds, verbose_eval=True)\n",
    "\n",
    "    print(\"Validating...\")\n",
    "    check = gbm.predict(xgb.DMatrix(X_valid[:,:-1]), ntree_limit=gbm.best_iteration)\n",
    "\n",
    "    \n",
    "\n",
    "    print(\"Predict test set...\")\n",
    "    test_prediction = gbm.predict(xgb.DMatrix(test[:,:-1]), ntree_limit=gbm.best_iteration)\n",
    "\n",
    "    training_time = round((time.time() - start_time)/60, 2)\n",
    "    print('Training time: {} minutes'.format(training_time))\n",
    "\n",
    "    print(gbm)\n",
    "    \n",
    "#     score = f1_score(test[target], test_prediction.tolist())\n",
    "    score = roc_auc_score(test[:,-1].tolist(), test_prediction.tolist())\n",
    "    \n",
    "#     print('f1 score: ', score)\n",
    "    print('roc_auc_score: ', score)\n",
    "\n",
    "    # To save logs\n",
    "    explog = {}\n",
    "#     explog['features'] = features\n",
    "#     explog['target'] = target\n",
    "    explog['params'] = {}\n",
    "    explog['params']['objective'] = objective\n",
    "    explog['params']['booster'] = booster\n",
    "    explog['params']['eval_metric'] = eval_metric\n",
    "    explog['params']['eta'] = eta\n",
    "    explog['params']['max_depth'] = max_depth\n",
    "    explog['params']['subsample'] = subsample\n",
    "    explog['params']['colsample_bytree'] = colsample_bytree\n",
    "    explog['params']['silent'] = silent\n",
    "    explog['params']['seed'] = random_state\n",
    "    explog['params']['num_boost_round'] = num_boost_round\n",
    "    explog['params']['early_stopping_rounds'] = early_stopping_rounds\n",
    "    explog['params']['test_size'] = test_size\n",
    "    explog['length_train']= X_train.shape[0]\n",
    "    explog['length_valid']= X_valid.shape[0]\n",
    "    # explog['gbm_best_iteration']= \n",
    "    explog['score'] = score\n",
    "    explog['training_time'] = training_time\n",
    "\n",
    "    return test_prediction.tolist(), score, explog, gbm"
   ]
  },
  {
   "cell_type": "code",
   "execution_count": 149,
   "metadata": {
    "collapsed": true
   },
   "outputs": [],
   "source": [
    "def updateLog(explog, logPath):\n",
    "    try:\n",
    "        with open(logPath, 'r') as f:\n",
    "            obob = json.load(f)\n",
    "        f.close()\n",
    "    except:\n",
    "        obob = []\n",
    "\n",
    "\n",
    "    obob.append(explog)\n",
    "\n",
    "    with open(logPath, 'w') as f:\n",
    "        json.dump(obob, f)\n",
    "    f.close()"
   ]
  },
  {
   "cell_type": "code",
   "execution_count": 150,
   "metadata": {
    "collapsed": false
   },
   "outputs": [
    {
     "name": "stdout",
     "output_type": "stream",
     "text": [
      "Length of train:  4840\n",
      "Length of test:  538\n",
      "XGBoost params. ETA: 0.1, MAX_DEPTH: 3, SUBSAMPLE: 0.7, COLSAMPLE_BY_TREE: 0.7\n",
      "Length train: 4356\n",
      "Length valid: 484\n",
      "[0]\ttrain-auc:0.660419\ttrain-logloss:0.684534\ttrain-error:0.369146\teval-auc:0.606268\teval-logloss:0.687412\teval-error:0.417355\n",
      "Multiple eval metrics have been passed: 'eval-error' will be used for early stopping.\n",
      "\n",
      "Will train until eval-error hasn't improved in 100 rounds.\n",
      "[1]\ttrain-auc:0.669401\ttrain-logloss:0.677357\ttrain-error:0.36708\teval-auc:0.61099\teval-logloss:0.68293\teval-error:0.415289\n",
      "[2]\ttrain-auc:0.673226\ttrain-logloss:0.671681\ttrain-error:0.367998\teval-auc:0.606857\teval-logloss:0.680724\teval-error:0.417355\n",
      "[3]\ttrain-auc:0.676166\ttrain-logloss:0.666329\ttrain-error:0.365702\teval-auc:0.606396\teval-logloss:0.677707\teval-error:0.415289\n",
      "[4]\ttrain-auc:0.676581\ttrain-logloss:0.662192\ttrain-error:0.369146\teval-auc:0.605354\teval-logloss:0.675616\teval-error:0.404959\n",
      "[5]\ttrain-auc:0.677249\ttrain-logloss:0.658265\ttrain-error:0.367309\teval-auc:0.607634\teval-logloss:0.673535\teval-error:0.411157\n",
      "[6]\ttrain-auc:0.678491\ttrain-logloss:0.655366\ttrain-error:0.367769\teval-auc:0.610708\teval-logloss:0.671752\teval-error:0.404959\n",
      "[7]\ttrain-auc:0.679039\ttrain-logloss:0.652763\ttrain-error:0.364555\teval-auc:0.610648\teval-logloss:0.67079\teval-error:0.39876\n",
      "[8]\ttrain-auc:0.681342\ttrain-logloss:0.650236\ttrain-error:0.365702\teval-auc:0.615182\teval-logloss:0.669628\teval-error:0.407025\n",
      "[9]\ttrain-auc:0.681513\ttrain-logloss:0.648234\ttrain-error:0.366162\teval-auc:0.615037\teval-logloss:0.669214\teval-error:0.409091\n",
      "[10]\ttrain-auc:0.685026\ttrain-logloss:0.646698\ttrain-error:0.36157\teval-auc:0.61876\teval-logloss:0.668871\teval-error:0.409091\n",
      "[11]\ttrain-auc:0.685874\ttrain-logloss:0.645018\ttrain-error:0.362029\teval-auc:0.617906\teval-logloss:0.668832\teval-error:0.409091\n",
      "[12]\ttrain-auc:0.688749\ttrain-logloss:0.643448\ttrain-error:0.359963\teval-auc:0.61736\teval-logloss:0.668498\teval-error:0.407025\n",
      "[13]\ttrain-auc:0.68871\ttrain-logloss:0.642029\ttrain-error:0.363636\teval-auc:0.618811\teval-logloss:0.66776\teval-error:0.413223\n",
      "[14]\ttrain-auc:0.689977\ttrain-logloss:0.640829\ttrain-error:0.366391\teval-auc:0.617018\teval-logloss:0.667955\teval-error:0.413223\n",
      "[15]\ttrain-auc:0.692636\ttrain-logloss:0.639579\ttrain-error:0.363866\teval-auc:0.614841\teval-logloss:0.668193\teval-error:0.407025\n",
      "[16]\ttrain-auc:0.692796\ttrain-logloss:0.638753\ttrain-error:0.363407\teval-auc:0.614388\teval-logloss:0.668237\teval-error:0.407025\n",
      "[17]\ttrain-auc:0.694164\ttrain-logloss:0.637842\ttrain-error:0.362718\teval-auc:0.614474\teval-logloss:0.66907\teval-error:0.411157\n",
      "[18]\ttrain-auc:0.696374\ttrain-logloss:0.636672\ttrain-error:0.357668\teval-auc:0.613227\teval-logloss:0.669337\teval-error:0.411157\n",
      "[19]\ttrain-auc:0.696513\ttrain-logloss:0.635767\ttrain-error:0.358356\teval-auc:0.613611\teval-logloss:0.669326\teval-error:0.404959\n",
      "[20]\ttrain-auc:0.698369\ttrain-logloss:0.634731\ttrain-error:0.357438\teval-auc:0.611938\teval-logloss:0.669546\teval-error:0.404959\n",
      "[21]\ttrain-auc:0.69897\ttrain-logloss:0.633818\ttrain-error:0.356061\teval-auc:0.611767\teval-logloss:0.669742\teval-error:0.413223\n",
      "[22]\ttrain-auc:0.698559\ttrain-logloss:0.632984\ttrain-error:0.355601\teval-auc:0.613662\teval-logloss:0.669169\teval-error:0.413223\n",
      "[23]\ttrain-auc:0.700408\ttrain-logloss:0.632155\ttrain-error:0.357208\teval-auc:0.615302\teval-logloss:0.668989\teval-error:0.415289\n",
      "[24]\ttrain-auc:0.701291\ttrain-logloss:0.631398\ttrain-error:0.357208\teval-auc:0.614747\teval-logloss:0.669329\teval-error:0.413223\n",
      "[25]\ttrain-auc:0.701551\ttrain-logloss:0.630685\ttrain-error:0.35652\teval-auc:0.615396\teval-logloss:0.669343\teval-error:0.411157\n",
      "[26]\ttrain-auc:0.701332\ttrain-logloss:0.630045\ttrain-error:0.356749\teval-auc:0.615575\teval-logloss:0.669451\teval-error:0.411157\n",
      "[27]\ttrain-auc:0.702723\ttrain-logloss:0.629452\ttrain-error:0.356749\teval-auc:0.615481\teval-logloss:0.669512\teval-error:0.413223\n",
      "[28]\ttrain-auc:0.703143\ttrain-logloss:0.629018\ttrain-error:0.356061\teval-auc:0.616941\teval-logloss:0.668761\teval-error:0.409091\n",
      "[29]\ttrain-auc:0.704731\ttrain-logloss:0.62817\ttrain-error:0.353306\teval-auc:0.619076\teval-logloss:0.668249\teval-error:0.404959\n",
      "[30]\ttrain-auc:0.705514\ttrain-logloss:0.627659\ttrain-error:0.353306\teval-auc:0.618444\teval-logloss:0.668937\teval-error:0.402893\n",
      "[31]\ttrain-auc:0.705458\ttrain-logloss:0.627171\ttrain-error:0.351928\teval-auc:0.617556\teval-logloss:0.669153\teval-error:0.400826\n",
      "[32]\ttrain-auc:0.706624\ttrain-logloss:0.626488\ttrain-error:0.351928\teval-auc:0.616429\teval-logloss:0.670178\teval-error:0.407025\n",
      "[33]\ttrain-auc:0.707649\ttrain-logloss:0.625771\ttrain-error:0.35124\teval-auc:0.617351\teval-logloss:0.670512\teval-error:0.407025\n",
      "[34]\ttrain-auc:0.708332\ttrain-logloss:0.625015\ttrain-error:0.351469\teval-auc:0.617573\teval-logloss:0.669944\teval-error:0.402893\n",
      "[35]\ttrain-auc:0.709418\ttrain-logloss:0.624362\ttrain-error:0.353076\teval-auc:0.618256\teval-logloss:0.669782\teval-error:0.400826\n",
      "[36]\ttrain-auc:0.710272\ttrain-logloss:0.623959\ttrain-error:0.352388\teval-auc:0.617659\teval-logloss:0.669851\teval-error:0.400826\n",
      "[37]\ttrain-auc:0.710777\ttrain-logloss:0.623602\ttrain-error:0.352158\teval-auc:0.617949\teval-logloss:0.669578\teval-error:0.400826\n",
      "[38]\ttrain-auc:0.711008\ttrain-logloss:0.622923\ttrain-error:0.350781\teval-auc:0.618495\teval-logloss:0.669533\teval-error:0.400826\n",
      "[39]\ttrain-auc:0.712016\ttrain-logloss:0.622431\ttrain-error:0.35101\teval-auc:0.617308\teval-logloss:0.670044\teval-error:0.400826\n",
      "[40]\ttrain-auc:0.712315\ttrain-logloss:0.622107\ttrain-error:0.351699\teval-auc:0.617095\teval-logloss:0.670307\teval-error:0.400826\n",
      "[41]\ttrain-auc:0.713027\ttrain-logloss:0.621481\ttrain-error:0.35124\teval-auc:0.61841\teval-logloss:0.670301\teval-error:0.404959\n",
      "[42]\ttrain-auc:0.713597\ttrain-logloss:0.621001\ttrain-error:0.350781\teval-auc:0.617334\teval-logloss:0.670706\teval-error:0.407025\n",
      "[43]\ttrain-auc:0.71479\ttrain-logloss:0.620351\ttrain-error:0.350321\teval-auc:0.616233\teval-logloss:0.670988\teval-error:0.39876\n",
      "[44]\ttrain-auc:0.715117\ttrain-logloss:0.620008\ttrain-error:0.349403\teval-auc:0.616113\teval-logloss:0.670911\teval-error:0.402893\n",
      "[45]\ttrain-auc:0.715844\ttrain-logloss:0.619581\ttrain-error:0.348026\teval-auc:0.616045\teval-logloss:0.670885\teval-error:0.402893\n",
      "[46]\ttrain-auc:0.71677\ttrain-logloss:0.619051\ttrain-error:0.348255\teval-auc:0.618325\teval-logloss:0.670429\teval-error:0.400826\n",
      "[47]\ttrain-auc:0.716947\ttrain-logloss:0.618778\ttrain-error:0.348255\teval-auc:0.618103\teval-logloss:0.670678\teval-error:0.396694\n",
      "[48]\ttrain-auc:0.717497\ttrain-logloss:0.618165\ttrain-error:0.347337\teval-auc:0.618572\teval-logloss:0.671045\teval-error:0.396694\n",
      "[49]\ttrain-auc:0.717929\ttrain-logloss:0.617882\ttrain-error:0.347567\teval-auc:0.618846\teval-logloss:0.670891\teval-error:0.396694\n",
      "[50]\ttrain-auc:0.718767\ttrain-logloss:0.617348\ttrain-error:0.347796\teval-auc:0.619828\teval-logloss:0.670918\teval-error:0.39876\n",
      "[51]\ttrain-auc:0.719556\ttrain-logloss:0.616922\ttrain-error:0.347337\teval-auc:0.621382\teval-logloss:0.670337\teval-error:0.39876\n",
      "[52]\ttrain-auc:0.71982\ttrain-logloss:0.616672\ttrain-error:0.34596\teval-auc:0.621621\teval-logloss:0.670315\teval-error:0.39876\n",
      "[53]\ttrain-auc:0.72064\ttrain-logloss:0.616181\ttrain-error:0.347107\teval-auc:0.624199\teval-logloss:0.669716\teval-error:0.39876\n",
      "[54]\ttrain-auc:0.720627\ttrain-logloss:0.616004\ttrain-error:0.347796\teval-auc:0.624814\teval-logloss:0.669652\teval-error:0.39876\n",
      "[55]\ttrain-auc:0.721169\ttrain-logloss:0.61552\ttrain-error:0.346648\teval-auc:0.625241\teval-logloss:0.669832\teval-error:0.39876\n",
      "[56]\ttrain-auc:0.722042\ttrain-logloss:0.61505\ttrain-error:0.348255\teval-auc:0.626847\teval-logloss:0.669842\teval-error:0.39876\n",
      "[57]\ttrain-auc:0.723069\ttrain-logloss:0.61445\ttrain-error:0.348026\teval-auc:0.625771\teval-logloss:0.670431\teval-error:0.404959\n",
      "[58]\ttrain-auc:0.723377\ttrain-logloss:0.614111\ttrain-error:0.348485\teval-auc:0.62548\teval-logloss:0.670845\teval-error:0.402893\n",
      "[59]\ttrain-auc:0.723749\ttrain-logloss:0.613851\ttrain-error:0.348485\teval-auc:0.625771\teval-logloss:0.670535\teval-error:0.402893\n",
      "[60]\ttrain-auc:0.724925\ttrain-logloss:0.613153\ttrain-error:0.347567\teval-auc:0.624507\teval-logloss:0.671188\teval-error:0.404959\n",
      "[61]\ttrain-auc:0.725398\ttrain-logloss:0.612562\ttrain-error:0.345271\teval-auc:0.622867\teval-logloss:0.671966\teval-error:0.402893\n",
      "[62]\ttrain-auc:0.726039\ttrain-logloss:0.61212\ttrain-error:0.343664\teval-auc:0.62437\teval-logloss:0.671887\teval-error:0.402893\n",
      "[63]\ttrain-auc:0.726634\ttrain-logloss:0.611749\ttrain-error:0.343434\teval-auc:0.624737\teval-logloss:0.671529\teval-error:0.402893\n",
      "[64]\ttrain-auc:0.727948\ttrain-logloss:0.611095\ttrain-error:0.342516\teval-auc:0.623721\teval-logloss:0.671838\teval-error:0.411157\n",
      "[65]\ttrain-auc:0.728893\ttrain-logloss:0.610524\ttrain-error:0.342975\teval-auc:0.622791\teval-logloss:0.672218\teval-error:0.407025\n",
      "[66]\ttrain-auc:0.729619\ttrain-logloss:0.610112\ttrain-error:0.342975\teval-auc:0.622261\teval-logloss:0.673031\teval-error:0.409091\n",
      "[67]\ttrain-auc:0.730845\ttrain-logloss:0.609572\ttrain-error:0.340909\teval-auc:0.62285\teval-logloss:0.672394\teval-error:0.413223\n",
      "[68]\ttrain-auc:0.731048\ttrain-logloss:0.609343\ttrain-error:0.34068\teval-auc:0.622406\teval-logloss:0.672697\teval-error:0.413223\n",
      "[69]\ttrain-auc:0.731325\ttrain-logloss:0.609079\ttrain-error:0.343434\teval-auc:0.622133\teval-logloss:0.672749\teval-error:0.411157\n",
      "[70]\ttrain-auc:0.731733\ttrain-logloss:0.608758\ttrain-error:0.342746\teval-auc:0.621962\teval-logloss:0.672967\teval-error:0.411157\n",
      "[71]\ttrain-auc:0.732188\ttrain-logloss:0.608318\ttrain-error:0.340909\teval-auc:0.622406\teval-logloss:0.672677\teval-error:0.413223\n",
      "[72]\ttrain-auc:0.732356\ttrain-logloss:0.608149\ttrain-error:0.339991\teval-auc:0.622389\teval-logloss:0.672634\teval-error:0.411157\n",
      "[73]\ttrain-auc:0.732595\ttrain-logloss:0.607875\ttrain-error:0.339532\teval-auc:0.622321\teval-logloss:0.6725\teval-error:0.411157\n",
      "[74]\ttrain-auc:0.733239\ttrain-logloss:0.607593\ttrain-error:0.339991\teval-auc:0.622611\teval-logloss:0.672357\teval-error:0.413223\n",
      "[75]\ttrain-auc:0.734602\ttrain-logloss:0.606766\ttrain-error:0.341139\teval-auc:0.621518\teval-logloss:0.672709\teval-error:0.407025\n",
      "[76]\ttrain-auc:0.735034\ttrain-logloss:0.606205\ttrain-error:0.341139\teval-auc:0.621569\teval-logloss:0.673579\teval-error:0.404959\n",
      "[77]\ttrain-auc:0.735394\ttrain-logloss:0.605965\ttrain-error:0.34022\teval-auc:0.621177\teval-logloss:0.673684\teval-error:0.404959\n",
      "[78]\ttrain-auc:0.735545\ttrain-logloss:0.605743\ttrain-error:0.34022\teval-auc:0.621928\teval-logloss:0.673286\teval-error:0.404959\n",
      "[79]\ttrain-auc:0.735739\ttrain-logloss:0.605526\ttrain-error:0.339532\teval-auc:0.622594\teval-logloss:0.673048\teval-error:0.404959\n",
      "[80]\ttrain-auc:0.736034\ttrain-logloss:0.605313\ttrain-error:0.337466\teval-auc:0.62256\teval-logloss:0.673179\teval-error:0.404959\n",
      "[81]\ttrain-auc:0.736864\ttrain-logloss:0.604725\ttrain-error:0.338843\teval-auc:0.621587\teval-logloss:0.673383\teval-error:0.404959\n",
      "[82]\ttrain-auc:0.737318\ttrain-logloss:0.604523\ttrain-error:0.338154\teval-auc:0.621552\teval-logloss:0.673609\teval-error:0.404959\n",
      "[83]\ttrain-auc:0.737584\ttrain-logloss:0.60424\ttrain-error:0.339073\teval-auc:0.621587\teval-logloss:0.673514\teval-error:0.404959\n",
      "[84]\ttrain-auc:0.737748\ttrain-logloss:0.604076\ttrain-error:0.338613\teval-auc:0.622133\teval-logloss:0.673216\teval-error:0.404959\n",
      "[85]\ttrain-auc:0.738\ttrain-logloss:0.603897\ttrain-error:0.338154\teval-auc:0.622133\teval-logloss:0.673261\teval-error:0.402893\n",
      "[86]\ttrain-auc:0.7381\ttrain-logloss:0.60354\ttrain-error:0.338843\teval-auc:0.621791\teval-logloss:0.673638\teval-error:0.402893\n",
      "[87]\ttrain-auc:0.739026\ttrain-logloss:0.603103\ttrain-error:0.337695\teval-auc:0.622099\teval-logloss:0.67335\teval-error:0.404959\n",
      "[88]\ttrain-auc:0.739496\ttrain-logloss:0.602875\ttrain-error:0.337925\teval-auc:0.621638\teval-logloss:0.673348\teval-error:0.402893\n",
      "[89]\ttrain-auc:0.739848\ttrain-logloss:0.602683\ttrain-error:0.337925\teval-auc:0.621877\teval-logloss:0.673306\teval-error:0.402893\n",
      "[90]\ttrain-auc:0.739962\ttrain-logloss:0.602478\ttrain-error:0.337236\teval-auc:0.62186\teval-logloss:0.673251\teval-error:0.402893\n",
      "[91]\ttrain-auc:0.740355\ttrain-logloss:0.602172\ttrain-error:0.337006\teval-auc:0.62227\teval-logloss:0.673059\teval-error:0.402893\n",
      "[92]\ttrain-auc:0.740845\ttrain-logloss:0.601685\ttrain-error:0.336777\teval-auc:0.622355\teval-logloss:0.673035\teval-error:0.402893\n",
      "[93]\ttrain-auc:0.741228\ttrain-logloss:0.601305\ttrain-error:0.335629\teval-auc:0.62168\teval-logloss:0.673508\teval-error:0.400826\n",
      "[94]\ttrain-auc:0.742213\ttrain-logloss:0.600667\ttrain-error:0.333792\teval-auc:0.621911\teval-logloss:0.673347\teval-error:0.400826\n",
      "[95]\ttrain-auc:0.742739\ttrain-logloss:0.60035\ttrain-error:0.333104\teval-auc:0.621843\teval-logloss:0.673378\teval-error:0.400826\n",
      "[96]\ttrain-auc:0.743459\ttrain-logloss:0.599792\ttrain-error:0.331726\teval-auc:0.621254\teval-logloss:0.673837\teval-error:0.400826\n",
      "[97]\ttrain-auc:0.74409\ttrain-logloss:0.599491\ttrain-error:0.331726\teval-auc:0.621544\teval-logloss:0.673503\teval-error:0.396694\n",
      "[98]\ttrain-auc:0.744561\ttrain-logloss:0.599154\ttrain-error:0.332185\teval-auc:0.621493\teval-logloss:0.673616\teval-error:0.394628\n",
      "[99]\ttrain-auc:0.744913\ttrain-logloss:0.598989\ttrain-error:0.332185\teval-auc:0.621117\teval-logloss:0.673831\teval-error:0.394628\n",
      "[100]\ttrain-auc:0.74605\ttrain-logloss:0.598199\ttrain-error:0.329431\teval-auc:0.620203\teval-logloss:0.674416\teval-error:0.39876\n",
      "[101]\ttrain-auc:0.746204\ttrain-logloss:0.597985\ttrain-error:0.330119\teval-auc:0.619298\teval-logloss:0.674956\teval-error:0.402893\n",
      "[102]\ttrain-auc:0.746763\ttrain-logloss:0.597514\ttrain-error:0.329431\teval-auc:0.619588\teval-logloss:0.675273\teval-error:0.402893\n",
      "[103]\ttrain-auc:0.747037\ttrain-logloss:0.597275\ttrain-error:0.329201\teval-auc:0.619742\teval-logloss:0.675408\teval-error:0.402893\n",
      "[104]\ttrain-auc:0.747367\ttrain-logloss:0.597019\ttrain-error:0.328972\teval-auc:0.619588\teval-logloss:0.675582\teval-error:0.402893\n",
      "[105]\ttrain-auc:0.747796\ttrain-logloss:0.596774\ttrain-error:0.328742\teval-auc:0.619144\teval-logloss:0.675767\teval-error:0.407025\n",
      "[106]\ttrain-auc:0.748959\ttrain-logloss:0.596449\ttrain-error:0.32966\teval-auc:0.618769\teval-logloss:0.675269\teval-error:0.407025\n",
      "[107]\ttrain-auc:0.749991\ttrain-logloss:0.595819\ttrain-error:0.328283\teval-auc:0.618991\teval-logloss:0.675017\teval-error:0.409091\n",
      "[108]\ttrain-auc:0.750149\ttrain-logloss:0.595621\ttrain-error:0.327824\teval-auc:0.618461\teval-logloss:0.675466\teval-error:0.409091\n",
      "[109]\ttrain-auc:0.750471\ttrain-logloss:0.595231\ttrain-error:0.326676\teval-auc:0.618794\teval-logloss:0.675437\teval-error:0.402893\n",
      "[110]\ttrain-auc:0.75117\ttrain-logloss:0.594753\ttrain-error:0.32438\teval-auc:0.619221\teval-logloss:0.675487\teval-error:0.404959\n",
      "[111]\ttrain-auc:0.751759\ttrain-logloss:0.594342\ttrain-error:0.32438\teval-auc:0.618828\teval-logloss:0.675494\teval-error:0.407025\n",
      "[112]\ttrain-auc:0.752231\ttrain-logloss:0.593902\ttrain-error:0.323921\teval-auc:0.61929\teval-logloss:0.675577\teval-error:0.409091\n",
      "[113]\ttrain-auc:0.752657\ttrain-logloss:0.593779\ttrain-error:0.323921\teval-auc:0.619477\teval-logloss:0.675568\teval-error:0.409091\n",
      "[114]\ttrain-auc:0.75276\ttrain-logloss:0.593687\ttrain-error:0.32461\teval-auc:0.619751\teval-logloss:0.675606\teval-error:0.411157\n",
      "[115]\ttrain-auc:0.753747\ttrain-logloss:0.593016\ttrain-error:0.32438\teval-auc:0.620912\teval-logloss:0.675417\teval-error:0.413223\n",
      "[116]\ttrain-auc:0.753956\ttrain-logloss:0.592771\ttrain-error:0.32438\teval-auc:0.621151\teval-logloss:0.675499\teval-error:0.413223\n",
      "[117]\ttrain-auc:0.754861\ttrain-logloss:0.59251\ttrain-error:0.323462\teval-auc:0.62139\teval-logloss:0.675239\teval-error:0.411157\n",
      "[118]\ttrain-auc:0.75508\ttrain-logloss:0.59222\ttrain-error:0.323691\teval-auc:0.621185\teval-logloss:0.675551\teval-error:0.411157\n",
      "[119]\ttrain-auc:0.755343\ttrain-logloss:0.591927\ttrain-error:0.322314\teval-auc:0.620929\teval-logloss:0.676118\teval-error:0.411157\n",
      "[120]\ttrain-auc:0.755559\ttrain-logloss:0.591678\ttrain-error:0.322084\teval-auc:0.620912\teval-logloss:0.676395\teval-error:0.407025\n",
      "[121]\ttrain-auc:0.755673\ttrain-logloss:0.591407\ttrain-error:0.321625\teval-auc:0.621185\teval-logloss:0.676617\teval-error:0.407025\n",
      "[122]\ttrain-auc:0.756047\ttrain-logloss:0.591161\ttrain-error:0.321625\teval-auc:0.620861\teval-logloss:0.676769\teval-error:0.407025\n",
      "[123]\ttrain-auc:0.756365\ttrain-logloss:0.59096\ttrain-error:0.320018\teval-auc:0.621117\teval-logloss:0.67662\teval-error:0.407025\n",
      "[124]\ttrain-auc:0.756869\ttrain-logloss:0.590646\ttrain-error:0.320248\teval-auc:0.622159\teval-logloss:0.676221\teval-error:0.404959\n",
      "[125]\ttrain-auc:0.757897\ttrain-logloss:0.590126\ttrain-error:0.320248\teval-auc:0.623747\teval-logloss:0.675828\teval-error:0.409091\n",
      "[126]\ttrain-auc:0.758834\ttrain-logloss:0.589455\ttrain-error:0.320018\teval-auc:0.622312\teval-logloss:0.676368\teval-error:0.407025\n",
      "[127]\ttrain-auc:0.759104\ttrain-logloss:0.589239\ttrain-error:0.320018\teval-auc:0.621988\teval-logloss:0.676614\teval-error:0.413223\n",
      "[128]\ttrain-auc:0.759623\ttrain-logloss:0.588921\ttrain-error:0.320248\teval-auc:0.622808\teval-logloss:0.67601\teval-error:0.411157\n",
      "[129]\ttrain-auc:0.759775\ttrain-logloss:0.588628\ttrain-error:0.3191\teval-auc:0.622415\teval-logloss:0.676349\teval-error:0.411157\n",
      "[130]\ttrain-auc:0.760595\ttrain-logloss:0.588093\ttrain-error:0.317723\teval-auc:0.622756\teval-logloss:0.676205\teval-error:0.409091\n",
      "[131]\ttrain-auc:0.760706\ttrain-logloss:0.587878\ttrain-error:0.317952\teval-auc:0.622893\teval-logloss:0.676281\teval-error:0.400826\n",
      "[132]\ttrain-auc:0.761565\ttrain-logloss:0.587413\ttrain-error:0.318641\teval-auc:0.622159\teval-logloss:0.676649\teval-error:0.409091\n",
      "[133]\ttrain-auc:0.762062\ttrain-logloss:0.587112\ttrain-error:0.318411\teval-auc:0.62139\teval-logloss:0.676833\teval-error:0.409091\n",
      "[134]\ttrain-auc:0.762544\ttrain-logloss:0.586715\ttrain-error:0.317034\teval-auc:0.622603\teval-logloss:0.675944\teval-error:0.409091\n",
      "[135]\ttrain-auc:0.763103\ttrain-logloss:0.586308\ttrain-error:0.316116\teval-auc:0.622842\teval-logloss:0.676441\teval-error:0.409091\n",
      "[136]\ttrain-auc:0.763235\ttrain-logloss:0.586069\ttrain-error:0.316345\teval-auc:0.623388\teval-logloss:0.67647\teval-error:0.409091\n",
      "[137]\ttrain-auc:0.763761\ttrain-logloss:0.585762\ttrain-error:0.316116\teval-auc:0.6232\teval-logloss:0.676472\teval-error:0.409091\n",
      "[138]\ttrain-auc:0.763859\ttrain-logloss:0.585226\ttrain-error:0.317493\teval-auc:0.623235\teval-logloss:0.676969\teval-error:0.413223\n",
      "[139]\ttrain-auc:0.764193\ttrain-logloss:0.584953\ttrain-error:0.317264\teval-auc:0.622791\teval-logloss:0.677536\teval-error:0.413223\n",
      "[140]\ttrain-auc:0.764293\ttrain-logloss:0.58463\ttrain-error:0.315427\teval-auc:0.622637\teval-logloss:0.677831\teval-error:0.415289\n",
      "[141]\ttrain-auc:0.765175\ttrain-logloss:0.584155\ttrain-error:0.315197\teval-auc:0.6225\teval-logloss:0.677784\teval-error:0.417355\n",
      "[142]\ttrain-auc:0.765667\ttrain-logloss:0.583703\ttrain-error:0.315657\teval-auc:0.622466\teval-logloss:0.677752\teval-error:0.417355\n",
      "[143]\ttrain-auc:0.766059\ttrain-logloss:0.583471\ttrain-error:0.315657\teval-auc:0.622329\teval-logloss:0.678093\teval-error:0.411157\n",
      "[144]\ttrain-auc:0.766559\ttrain-logloss:0.583052\ttrain-error:0.314509\teval-auc:0.620809\teval-logloss:0.679078\teval-error:0.409091\n",
      "[145]\ttrain-auc:0.766831\ttrain-logloss:0.58272\ttrain-error:0.314738\teval-auc:0.620895\teval-logloss:0.679236\teval-error:0.409091\n",
      "[146]\ttrain-auc:0.767592\ttrain-logloss:0.582265\ttrain-error:0.314509\teval-auc:0.620844\teval-logloss:0.679008\teval-error:0.409091\n",
      "[147]\ttrain-auc:0.767781\ttrain-logloss:0.582029\ttrain-error:0.314279\teval-auc:0.620809\teval-logloss:0.67875\teval-error:0.409091\n",
      "[148]\ttrain-auc:0.768386\ttrain-logloss:0.581736\ttrain-error:0.313361\teval-auc:0.619862\teval-logloss:0.679303\teval-error:0.411157\n",
      "[149]\ttrain-auc:0.768474\ttrain-logloss:0.581608\ttrain-error:0.31405\teval-auc:0.618547\teval-logloss:0.679866\teval-error:0.411157\n",
      "[150]\ttrain-auc:0.769082\ttrain-logloss:0.581147\ttrain-error:0.31405\teval-auc:0.619315\teval-logloss:0.679897\teval-error:0.404959\n",
      "[151]\ttrain-auc:0.769303\ttrain-logloss:0.580989\ttrain-error:0.31359\teval-auc:0.618478\teval-logloss:0.680462\teval-error:0.402893\n",
      "[152]\ttrain-auc:0.769173\ttrain-logloss:0.580753\ttrain-error:0.31359\teval-auc:0.618137\teval-logloss:0.681325\teval-error:0.402893\n",
      "[153]\ttrain-auc:0.76963\ttrain-logloss:0.580445\ttrain-error:0.312902\teval-auc:0.617864\teval-logloss:0.68148\teval-error:0.404959\n",
      "[154]\ttrain-auc:0.769953\ttrain-logloss:0.580177\ttrain-error:0.312672\teval-auc:0.61812\teval-logloss:0.68127\teval-error:0.402893\n",
      "[155]\ttrain-auc:0.770589\ttrain-logloss:0.579594\ttrain-error:0.311754\teval-auc:0.617488\teval-logloss:0.681752\teval-error:0.39876\n",
      "[156]\ttrain-auc:0.770737\ttrain-logloss:0.579421\ttrain-error:0.311295\teval-auc:0.617642\teval-logloss:0.681676\teval-error:0.39876\n",
      "[157]\ttrain-auc:0.771259\ttrain-logloss:0.579065\ttrain-error:0.311983\teval-auc:0.616344\teval-logloss:0.682146\teval-error:0.400826\n",
      "[158]\ttrain-auc:0.77151\ttrain-logloss:0.578989\ttrain-error:0.311295\teval-auc:0.616327\teval-logloss:0.682034\teval-error:0.400826\n",
      "[159]\ttrain-auc:0.771885\ttrain-logloss:0.578737\ttrain-error:0.310376\teval-auc:0.61718\teval-logloss:0.681509\teval-error:0.400826\n",
      "[160]\ttrain-auc:0.772274\ttrain-logloss:0.578471\ttrain-error:0.310147\teval-auc:0.61742\teval-logloss:0.681276\teval-error:0.400826\n",
      "[161]\ttrain-auc:0.772473\ttrain-logloss:0.578217\ttrain-error:0.310606\teval-auc:0.617898\teval-logloss:0.68136\teval-error:0.39876\n",
      "[162]\ttrain-auc:0.77271\ttrain-logloss:0.577927\ttrain-error:0.309917\teval-auc:0.617505\teval-logloss:0.681808\teval-error:0.400826\n",
      "[163]\ttrain-auc:0.773199\ttrain-logloss:0.577499\ttrain-error:0.309688\teval-auc:0.61759\teval-logloss:0.682186\teval-error:0.400826\n",
      "[164]\ttrain-auc:0.773928\ttrain-logloss:0.577078\ttrain-error:0.308999\teval-auc:0.618478\teval-logloss:0.681839\teval-error:0.400826\n",
      "[165]\ttrain-auc:0.774901\ttrain-logloss:0.576577\ttrain-error:0.306703\teval-auc:0.617744\teval-logloss:0.681851\teval-error:0.402893\n",
      "[166]\ttrain-auc:0.775718\ttrain-logloss:0.576106\ttrain-error:0.306703\teval-auc:0.61853\teval-logloss:0.681925\teval-error:0.407025\n",
      "[167]\ttrain-auc:0.776226\ttrain-logloss:0.575786\ttrain-error:0.305326\teval-auc:0.618444\teval-logloss:0.6819\teval-error:0.409091\n",
      "[168]\ttrain-auc:0.776539\ttrain-logloss:0.575479\ttrain-error:0.305785\teval-auc:0.617642\teval-logloss:0.68253\teval-error:0.409091\n",
      "[169]\ttrain-auc:0.776621\ttrain-logloss:0.575348\ttrain-error:0.306474\teval-auc:0.617215\teval-logloss:0.682883\teval-error:0.409091\n",
      "[170]\ttrain-auc:0.77749\ttrain-logloss:0.574905\ttrain-error:0.304867\teval-auc:0.616446\teval-logloss:0.682853\teval-error:0.409091\n",
      "[171]\ttrain-auc:0.777476\ttrain-logloss:0.574623\ttrain-error:0.305785\teval-auc:0.615524\teval-logloss:0.683432\teval-error:0.411157\n",
      "[172]\ttrain-auc:0.777771\ttrain-logloss:0.574431\ttrain-error:0.305556\teval-auc:0.615131\teval-logloss:0.683634\teval-error:0.409091\n",
      "[173]\ttrain-auc:0.778545\ttrain-logloss:0.573929\ttrain-error:0.304637\teval-auc:0.616378\teval-logloss:0.683193\teval-error:0.404959\n",
      "[174]\ttrain-auc:0.779027\ttrain-logloss:0.573504\ttrain-error:0.30303\teval-auc:0.616771\teval-logloss:0.683126\teval-error:0.407025\n",
      "[175]\ttrain-auc:0.779103\ttrain-logloss:0.573404\ttrain-error:0.30303\teval-auc:0.616736\teval-logloss:0.683114\teval-error:0.402893\n",
      "[176]\ttrain-auc:0.778861\ttrain-logloss:0.573264\ttrain-error:0.302571\teval-auc:0.617146\teval-logloss:0.682762\teval-error:0.402893\n",
      "[177]\ttrain-auc:0.779492\ttrain-logloss:0.572902\ttrain-error:0.301194\teval-auc:0.617633\teval-logloss:0.68251\teval-error:0.411157\n",
      "[178]\ttrain-auc:0.780238\ttrain-logloss:0.572522\ttrain-error:0.299816\teval-auc:0.617513\teval-logloss:0.682031\teval-error:0.413223\n",
      "[179]\ttrain-auc:0.780639\ttrain-logloss:0.572095\ttrain-error:0.300505\teval-auc:0.618419\teval-logloss:0.681774\teval-error:0.409091\n",
      "[180]\ttrain-auc:0.781048\ttrain-logloss:0.571797\ttrain-error:0.300046\teval-auc:0.618384\teval-logloss:0.681608\teval-error:0.407025\n",
      "[181]\ttrain-auc:0.782364\ttrain-logloss:0.571304\ttrain-error:0.299357\teval-auc:0.618265\teval-logloss:0.681538\teval-error:0.411157\n",
      "[182]\ttrain-auc:0.782922\ttrain-logloss:0.570842\ttrain-error:0.299587\teval-auc:0.617445\teval-logloss:0.68204\teval-error:0.407025\n",
      "[183]\ttrain-auc:0.782986\ttrain-logloss:0.570697\ttrain-error:0.299816\teval-auc:0.617957\teval-logloss:0.681781\teval-error:0.407025\n",
      "[184]\ttrain-auc:0.78305\ttrain-logloss:0.57057\ttrain-error:0.299357\teval-auc:0.618333\teval-logloss:0.681556\teval-error:0.407025\n",
      "[185]\ttrain-auc:0.783181\ttrain-logloss:0.570475\ttrain-error:0.299128\teval-auc:0.617923\teval-logloss:0.681993\teval-error:0.407025\n",
      "[186]\ttrain-auc:0.783279\ttrain-logloss:0.570156\ttrain-error:0.298898\teval-auc:0.61847\teval-logloss:0.681555\teval-error:0.407025\n",
      "[187]\ttrain-auc:0.783555\ttrain-logloss:0.569991\ttrain-error:0.298209\teval-auc:0.617872\teval-logloss:0.682013\teval-error:0.409091\n",
      "[188]\ttrain-auc:0.783853\ttrain-logloss:0.569716\ttrain-error:0.299357\teval-auc:0.618504\teval-logloss:0.681524\teval-error:0.411157\n",
      "[189]\ttrain-auc:0.784194\ttrain-logloss:0.569456\ttrain-error:0.298439\teval-auc:0.618828\teval-logloss:0.681185\teval-error:0.411157\n",
      "[190]\ttrain-auc:0.784452\ttrain-logloss:0.569364\ttrain-error:0.297521\teval-auc:0.618863\teval-logloss:0.681068\teval-error:0.411157\n",
      "[191]\ttrain-auc:0.784838\ttrain-logloss:0.569101\ttrain-error:0.29798\teval-auc:0.61876\teval-logloss:0.681156\teval-error:0.404959\n",
      "[192]\ttrain-auc:0.785056\ttrain-logloss:0.568956\ttrain-error:0.296373\teval-auc:0.617855\teval-logloss:0.681663\teval-error:0.404959\n",
      "[193]\ttrain-auc:0.785311\ttrain-logloss:0.568513\ttrain-error:0.295225\teval-auc:0.617616\teval-logloss:0.682171\teval-error:0.411157\n",
      "[194]\ttrain-auc:0.785571\ttrain-logloss:0.568297\ttrain-error:0.294766\teval-auc:0.617326\teval-logloss:0.682593\teval-error:0.413223\n",
      "[195]\ttrain-auc:0.786114\ttrain-logloss:0.567807\ttrain-error:0.295225\teval-auc:0.616694\teval-logloss:0.683159\teval-error:0.415289\n",
      "[196]\ttrain-auc:0.787097\ttrain-logloss:0.56727\ttrain-error:0.295455\teval-auc:0.616147\teval-logloss:0.683358\teval-error:0.413223\n",
      "[197]\ttrain-auc:0.787347\ttrain-logloss:0.567127\ttrain-error:0.294995\teval-auc:0.615601\teval-logloss:0.683201\teval-error:0.417355\n",
      "[198]\ttrain-auc:0.787549\ttrain-logloss:0.566906\ttrain-error:0.295455\teval-auc:0.615686\teval-logloss:0.683639\teval-error:0.415289\n",
      "Stopping. Best iteration:\n",
      "[98]\ttrain-auc:0.744561\ttrain-logloss:0.599154\ttrain-error:0.332185\teval-auc:0.621493\teval-logloss:0.673616\teval-error:0.394628\n",
      "\n",
      "Validating...\n",
      "Predict test set...\n",
      "Training time: 0.03 minutes\n",
      "<xgboost.core.Booster object at 0x11a858668>\n",
      "roc_auc_score:  0.657477863863\n",
      "Score:  0.657477863863\n"
     ]
    }
   ],
   "source": [
    "X_y = np.vstack((X.T, y)).T\n",
    "train, test = train_test_split(X_y, test_size=0.1)\n",
    "\n",
    "features = newcolumns[3:]\n",
    "target = 'revisit_intention'\n",
    "\n",
    "print('Length of train: ', len(train))\n",
    "print('Length of test: ', len(test))\n",
    "# print('Features [{}]: {}'.format(len(features), sorted(features)))\n",
    "\n",
    "test_prediction, score, explog, gbm = run_xgb(train, test)\n",
    "print('Score: ', score)\n",
    "\n",
    "logPath = '../result/results.json'\n",
    "\n",
    "explog['dataset']= datadir\n",
    "explog['ts']= time.strftime('%Y-%m-%d %H:%M:%S')\n",
    "\n",
    "updateLog(explog, logPath)"
   ]
  }
 ],
 "metadata": {
  "anaconda-cloud": {},
  "kernelspec": {
   "display_name": "Python [py35]",
   "language": "python",
   "name": "Python [py35]"
  },
  "language_info": {
   "codemirror_mode": {
    "name": "ipython",
    "version": 3
   },
   "file_extension": ".py",
   "mimetype": "text/x-python",
   "name": "python",
   "nbconvert_exporter": "python",
   "pygments_lexer": "ipython3",
   "version": "3.5.2"
  }
 },
 "nbformat": 4,
 "nbformat_minor": 0
}
