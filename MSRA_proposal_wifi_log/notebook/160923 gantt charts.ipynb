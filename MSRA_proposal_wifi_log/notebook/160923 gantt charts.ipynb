{
 "cells": [
  {
   "cell_type": "code",
   "execution_count": 1,
   "metadata": {
    "collapsed": true
   },
   "outputs": [],
   "source": [
    "import pickle\n",
    "import pandas as pd\n",
    "import numpy as np\n",
    "import plotly.plotly as py\n",
    "from plotly.tools import FigureFactory as FF\n",
    "import datetime"
   ]
  },
  {
   "cell_type": "code",
   "execution_count": 2,
   "metadata": {
    "collapsed": false
   },
   "outputs": [
    {
     "data": {
      "text/html": [
       "<div>\n",
       "<table border=\"1\" class=\"dataframe\">\n",
       "  <thead>\n",
       "    <tr style=\"text-align: right;\">\n",
       "      <th></th>\n",
       "      <th>date_device_id</th>\n",
       "      <th>logs</th>\n",
       "      <th>traj</th>\n",
       "      <th>ts</th>\n",
       "      <th>dwell_time</th>\n",
       "      <th>hour_start</th>\n",
       "      <th>time_start</th>\n",
       "      <th>ts_end</th>\n",
       "      <th>hour_end</th>\n",
       "      <th>time_end</th>\n",
       "    </tr>\n",
       "  </thead>\n",
       "  <tbody>\n",
       "    <tr>\n",
       "      <th>0</th>\n",
       "      <td>16675_02614c7588f7f8eaa0d3b9047ac08410</td>\n",
       "      <td>[4121217, 4121026, 4121023, 4121020, 4121003, ...</td>\n",
       "      <td>[out, in, 1f, 1f-right, 2f-left, 2f, 2f-right]</td>\n",
       "      <td>[1440750511, 1440751239, 1440751250, 144075126...</td>\n",
       "      <td>[857, 128, 118, 108, 20, 28, 8]</td>\n",
       "      <td>[17, 17, 17, 17, 17, 17, 17]</td>\n",
       "      <td>[17:28:31, 17:40:39, 17:40:50, 17:41:00, 17:41...</td>\n",
       "      <td>[1440751368, 1440751367, 1440751368, 144075136...</td>\n",
       "      <td>[17, 17, 17, 17, 17, 17, 17]</td>\n",
       "      <td>[17:42:48, 17:42:47, 17:42:48, 17:42:48, 17:42...</td>\n",
       "    </tr>\n",
       "    <tr>\n",
       "      <th>1</th>\n",
       "      <td>16675_028a1f4dbca00ed06814fdda60f1b599</td>\n",
       "      <td>[4126375, 4126196, 4126195, 4126145, 4126140, ...</td>\n",
       "      <td>[out, in, 3f, 2f, 2f-right, 2f-inner, 2f-left,...</td>\n",
       "      <td>[1440725175, 1440726721, 1440726721, 144072701...</td>\n",
       "      <td>[3548, 1293, 405, 552, 418, 18, 6, 389, 266, 2...</td>\n",
       "      <td>[10, 10, 10, 10, 10, 11, 11, 11, 11, 11, 11]</td>\n",
       "      <td>[10:26:15, 10:52:01, 10:52:01, 10:56:57, 10:57...</td>\n",
       "      <td>[1440728723, 1440728014, 1440727126, 144072756...</td>\n",
       "      <td>[11, 11, 10, 11, 11, 11, 11, 11, 11, 11, 11]</td>\n",
       "      <td>[11:25:23, 11:13:34, 10:58:46, 11:06:09, 11:04...</td>\n",
       "    </tr>\n",
       "    <tr>\n",
       "      <th>2</th>\n",
       "      <td>16675_062c73a8b307fd05f6af2472a35671ef</td>\n",
       "      <td>[4120452, 4120375, 4120373, 4120262]</td>\n",
       "      <td>[out, in, 1f, 1f-inner]</td>\n",
       "      <td>[1440753481, 1440753683, 1440753683, 1440754065]</td>\n",
       "      <td>[986, 565, 565, 73]</td>\n",
       "      <td>[18, 18, 18, 18]</td>\n",
       "      <td>[18:18:01, 18:21:23, 18:21:23, 18:27:45]</td>\n",
       "      <td>[1440754467, 1440754248, 1440754248, 1440754138]</td>\n",
       "      <td>[18, 18, 18, 18]</td>\n",
       "      <td>[18:34:27, 18:30:48, 18:30:48, 18:28:58]</td>\n",
       "    </tr>\n",
       "    <tr>\n",
       "      <th>3</th>\n",
       "      <td>16675_06c041f68ec481883941d47d99d6903f</td>\n",
       "      <td>[4126346, 4126191, 4126190, 4125983, 4125982, ...</td>\n",
       "      <td>[out, in, 3f, in, 1f, out]</td>\n",
       "      <td>[1440725586, 1440726737, 1440726737, 144072778...</td>\n",
       "      <td>[2957, 200, 168, 459, 459, 16]</td>\n",
       "      <td>[10, 10, 10, 11, 11, 12]</td>\n",
       "      <td>[10:33:06, 10:52:17, 10:52:17, 11:09:40, 11:09...</td>\n",
       "      <td>[1440728543, 1440726937, 1440726905, 144072823...</td>\n",
       "      <td>[11, 10, 10, 11, 11, 12]</td>\n",
       "      <td>[11:22:23, 10:55:37, 10:55:05, 11:17:19, 11:17...</td>\n",
       "    </tr>\n",
       "    <tr>\n",
       "      <th>4</th>\n",
       "      <td>16675_0a47ed78e921824cf54dddcf49ae2911</td>\n",
       "      <td>[4121129, 4120855]</td>\n",
       "      <td>[out, in]</td>\n",
       "      <td>[1440750876, 1440751945]</td>\n",
       "      <td>[2179, 457]</td>\n",
       "      <td>[17, 17]</td>\n",
       "      <td>[17:34:36, 17:52:25]</td>\n",
       "      <td>[1440753055, 1440752402]</td>\n",
       "      <td>[18, 18]</td>\n",
       "      <td>[18:10:55, 18:00:02]</td>\n",
       "    </tr>\n",
       "  </tbody>\n",
       "</table>\n",
       "</div>"
      ],
      "text/plain": [
       "                           date_device_id  \\\n",
       "0  16675_02614c7588f7f8eaa0d3b9047ac08410   \n",
       "1  16675_028a1f4dbca00ed06814fdda60f1b599   \n",
       "2  16675_062c73a8b307fd05f6af2472a35671ef   \n",
       "3  16675_06c041f68ec481883941d47d99d6903f   \n",
       "4  16675_0a47ed78e921824cf54dddcf49ae2911   \n",
       "\n",
       "                                                logs  \\\n",
       "0  [4121217, 4121026, 4121023, 4121020, 4121003, ...   \n",
       "1  [4126375, 4126196, 4126195, 4126145, 4126140, ...   \n",
       "2               [4120452, 4120375, 4120373, 4120262]   \n",
       "3  [4126346, 4126191, 4126190, 4125983, 4125982, ...   \n",
       "4                                 [4121129, 4120855]   \n",
       "\n",
       "                                                traj  \\\n",
       "0     [out, in, 1f, 1f-right, 2f-left, 2f, 2f-right]   \n",
       "1  [out, in, 3f, 2f, 2f-right, 2f-inner, 2f-left,...   \n",
       "2                            [out, in, 1f, 1f-inner]   \n",
       "3                         [out, in, 3f, in, 1f, out]   \n",
       "4                                          [out, in]   \n",
       "\n",
       "                                                  ts  \\\n",
       "0  [1440750511, 1440751239, 1440751250, 144075126...   \n",
       "1  [1440725175, 1440726721, 1440726721, 144072701...   \n",
       "2   [1440753481, 1440753683, 1440753683, 1440754065]   \n",
       "3  [1440725586, 1440726737, 1440726737, 144072778...   \n",
       "4                           [1440750876, 1440751945]   \n",
       "\n",
       "                                          dwell_time  \\\n",
       "0                    [857, 128, 118, 108, 20, 28, 8]   \n",
       "1  [3548, 1293, 405, 552, 418, 18, 6, 389, 266, 2...   \n",
       "2                                [986, 565, 565, 73]   \n",
       "3                     [2957, 200, 168, 459, 459, 16]   \n",
       "4                                        [2179, 457]   \n",
       "\n",
       "                                     hour_start  \\\n",
       "0                  [17, 17, 17, 17, 17, 17, 17]   \n",
       "1  [10, 10, 10, 10, 10, 11, 11, 11, 11, 11, 11]   \n",
       "2                              [18, 18, 18, 18]   \n",
       "3                      [10, 10, 10, 11, 11, 12]   \n",
       "4                                      [17, 17]   \n",
       "\n",
       "                                          time_start  \\\n",
       "0  [17:28:31, 17:40:39, 17:40:50, 17:41:00, 17:41...   \n",
       "1  [10:26:15, 10:52:01, 10:52:01, 10:56:57, 10:57...   \n",
       "2           [18:18:01, 18:21:23, 18:21:23, 18:27:45]   \n",
       "3  [10:33:06, 10:52:17, 10:52:17, 11:09:40, 11:09...   \n",
       "4                               [17:34:36, 17:52:25]   \n",
       "\n",
       "                                              ts_end  \\\n",
       "0  [1440751368, 1440751367, 1440751368, 144075136...   \n",
       "1  [1440728723, 1440728014, 1440727126, 144072756...   \n",
       "2   [1440754467, 1440754248, 1440754248, 1440754138]   \n",
       "3  [1440728543, 1440726937, 1440726905, 144072823...   \n",
       "4                           [1440753055, 1440752402]   \n",
       "\n",
       "                                       hour_end  \\\n",
       "0                  [17, 17, 17, 17, 17, 17, 17]   \n",
       "1  [11, 11, 10, 11, 11, 11, 11, 11, 11, 11, 11]   \n",
       "2                              [18, 18, 18, 18]   \n",
       "3                      [11, 10, 10, 11, 11, 12]   \n",
       "4                                      [18, 18]   \n",
       "\n",
       "                                            time_end  \n",
       "0  [17:42:48, 17:42:47, 17:42:48, 17:42:48, 17:42...  \n",
       "1  [11:25:23, 11:13:34, 10:58:46, 11:06:09, 11:04...  \n",
       "2           [18:34:27, 18:30:48, 18:30:48, 18:28:58]  \n",
       "3  [11:22:23, 10:55:37, 10:55:05, 11:17:19, 11:17...  \n",
       "4                               [18:10:55, 18:00:02]  "
      ]
     },
     "execution_count": 2,
     "metadata": {},
     "output_type": "execute_result"
    }
   ],
   "source": [
    "mpframe = pd.read_pickle(\"../data/786/786_mpframe_160923.p\")\n",
    "mpframe.head(5)   ### Show raw data"
   ]
  },
  {
   "cell_type": "code",
   "execution_count": 7,
   "metadata": {
    "collapsed": true
   },
   "outputs": [],
   "source": [
    "lenlogs = np.asarray([len(x) for x in mpframe.logs])\n",
    "indxx = np.argsort(lenlogs, )\n",
    "largg = indxx[::-1]"
   ]
  },
  {
   "cell_type": "code",
   "execution_count": 10,
   "metadata": {
    "collapsed": false
   },
   "outputs": [],
   "source": [
    "def ganttprint(mfs, i):\n",
    "    qa = mfs['traj'].ix[i] + [1000*y for y in mfs['ts'].ix[i]] + [1000*z for z in mfs['ts_end'].ix[i]]\n",
    "    l = int(len(qa)/3)\n",
    "    qb = np.asarray(qa)\n",
    "    shape = ( 3,l )\n",
    "    qc = qb.reshape( shape ).T\n",
    "    qd = pd.DataFrame(qc, columns=['Task', 'Start', 'Finish'])\n",
    "    qd['Start'] = qd['Start'].astype('int') \n",
    "    qd['Finish'] = qd['Finish'].astype('int')\n",
    "    qd['Complete'] = np.arange(40, 60, (60-40)/l)\n",
    "    qd['t_start'] = qd['Start'].apply(lambda x: datetime.datetime.fromtimestamp(x/1000).strftime('%H:%M:%S'))\n",
    "    qd['t_end'] = qd['Finish'].apply(lambda x: datetime.datetime.fromtimestamp(x/1000).strftime('%H:%M:%S'))\n",
    "    # .as_matrix()\n",
    "    return qd"
   ]
  },
  {
   "cell_type": "code",
   "execution_count": 12,
   "metadata": {
    "collapsed": false
   },
   "outputs": [],
   "source": [
    "qd = ganttprint(mpframe, largg[30]) "
   ]
  },
  {
   "cell_type": "code",
   "execution_count": 13,
   "metadata": {
    "collapsed": false
   },
   "outputs": [],
   "source": [
    "def printchartlah(i):\n",
    "    print(\"---------------\", i,'th longest moving pattern: Sequence #', largg[i])\n",
    "    qd = ganttprint(mpframe, largg[i])  ## .sort_index(ascending=False)\n",
    "    print(qd[['Task','t_start', 't_end']])\n",
    "    return qd"
   ]
  },
  {
   "cell_type": "code",
   "execution_count": 45,
   "metadata": {
    "collapsed": false
   },
   "outputs": [
    {
     "name": "stdout",
     "output_type": "stream",
     "text": [
      "--------------- 5 th longest moving pattern: Sequence # 19758\n",
      "        Task   t_start     t_end\n",
      "0         in  09:30:09  10:33:36\n",
      "1         1f  09:30:09  10:33:36\n",
      "2   1f-right  09:34:11  09:59:05\n",
      "3    1f-left  09:34:52  09:57:35\n",
      "4   1f-inner  09:34:56  10:07:05\n",
      "5   1f-right  10:14:36  10:30:35\n",
      "6   1f-inner  10:29:05  10:33:35\n",
      "7        out  10:57:07  11:39:36\n",
      "8         in  10:57:07  11:39:36\n",
      "9   1f-right  10:57:07  11:36:35\n",
      "10        1f  10:57:07  11:39:36\n",
      "11   1f-left  11:11:06  11:39:36\n",
      "12  1f-inner  11:12:02  11:36:35\n",
      "13       out  12:12:07  12:24:06\n",
      "14        in  12:12:07  12:22:36\n",
      "15  1f-right  12:12:07  12:22:36\n",
      "16        1f  12:12:07  12:22:36\n",
      "17   1f-left  12:12:37  12:19:06\n",
      "18  1f-inner  12:14:06  12:22:36\n",
      "19       out  12:37:07  13:05:06\n",
      "20        in  12:37:07  13:04:56\n",
      "21   1f-left  12:37:07  12:52:38\n",
      "22        1f  12:37:07  13:04:56\n",
      "23  1f-right  12:39:37  13:02:37\n",
      "24  1f-inner  12:40:37  13:04:56\n",
      "25       out  13:39:39  14:09:39\n",
      "26        in  13:39:39  14:09:39\n",
      "27  1f-inner  13:39:39  14:09:39\n",
      "28        1f  13:39:39  14:09:39\n",
      "29   1f-left  13:41:08  14:03:37\n",
      "..       ...       ...       ...\n",
      "49        1f  18:00:11  18:07:41\n",
      "50       out  18:32:41  21:02:42\n",
      "51        in  18:33:13  20:45:05\n",
      "52  1f-inner  18:33:13  18:49:42\n",
      "53        1f  18:33:13  20:45:05\n",
      "54  1f-right  18:34:42  18:50:35\n",
      "55   1f-left  18:40:42  19:29:42\n",
      "56  1f-right  19:12:43  20:09:41\n",
      "57  1f-inner  19:27:42  19:51:06\n",
      "58   1f-left  19:43:36  19:46:42\n",
      "59  1f-inner  20:13:40  20:25:35\n",
      "60   1f-left  20:19:42  20:32:41\n",
      "61        in  21:00:06  21:02:42\n",
      "62        1f  21:00:06  21:02:42\n",
      "63  1f-right  21:01:40  21:02:42\n",
      "64       out  22:16:24  23:16:03\n",
      "65       out  23:33:11  23:38:11\n",
      "66       out  00:07:15  00:23:07\n",
      "67       out  04:24:26  04:30:30\n",
      "68       out  04:44:53  04:46:49\n",
      "69       out  05:09:12  06:35:42\n",
      "70        in  05:14:42  06:19:51\n",
      "71        1f  05:14:42  06:19:51\n",
      "72  1f-right  05:23:43  06:08:50\n",
      "73       out  06:52:33  06:55:32\n",
      "74        in  06:52:33  06:55:32\n",
      "75        1f  06:52:33  06:55:32\n",
      "76  1f-right  06:52:43  06:55:32\n",
      "77       out  07:08:40  07:55:12\n",
      "78       out  08:12:44  08:29:52\n",
      "\n",
      "[79 rows x 3 columns]\n"
     ]
    }
   ],
   "source": [
    "qd2 = printchartlah(5)"
   ]
  },
  {
   "cell_type": "code",
   "execution_count": 46,
   "metadata": {
    "collapsed": false
   },
   "outputs": [
    {
     "data": {
      "text/html": [
       "<iframe id=\"igraph\" scrolling=\"no\" style=\"border:none;\" seamless=\"seamless\" src=\"https://plot.ly/~SundongKim/29.embed\" height=\"600px\" width=\"900px\"></iframe>"
      ],
      "text/plain": [
       "<plotly.tools.PlotlyDisplay object>"
      ]
     },
     "execution_count": 46,
     "metadata": {},
     "output_type": "execute_result"
    }
   ],
   "source": [
    "fig2 = FF.create_gantt(qd2[['Task','Start', 'Finish', 'Complete']], colors='Viridis', index_col='Complete', show_colorbar=True)\n",
    "p2 = py.iplot(fig2, filename='Numeric Variable', world_readable=True)\n",
    "p2"
   ]
  },
  {
   "cell_type": "code",
   "execution_count": 24,
   "metadata": {
    "collapsed": false
   },
   "outputs": [
    {
     "name": "stdout",
     "output_type": "stream",
     "text": [
      "--------------- 1500 th longest moving pattern: Sequence # 25263\n",
      "        Task   t_start     t_end\n",
      "0         in  09:18:49  21:28:37\n",
      "1   1f-inner  09:20:15  10:16:35\n",
      "2         1f  09:20:15  21:28:37\n",
      "3   1f-right  09:20:19  11:27:31\n",
      "4    1f-left  09:25:12  10:57:10\n",
      "5   1f-inner  10:41:33  11:48:17\n",
      "6    1f-left  11:17:31  21:27:41\n",
      "7   1f-right  11:42:30  13:14:22\n",
      "8   1f-inner  12:03:12  12:28:43\n",
      "9   1f-inner  12:44:10  14:20:24\n",
      "10        2f  12:49:21  12:59:24\n",
      "11  1f-right  13:29:31  17:20:52\n",
      "12  1f-inner  14:40:30  14:50:30\n",
      "13  1f-inner  15:05:34  16:10:53\n",
      "14  1f-inner  16:25:58  16:45:59\n",
      "15  1f-inner  17:01:03  17:21:11\n",
      "16  1f-inner  17:36:17  18:06:19\n",
      "17  1f-right  17:40:50  21:27:11\n",
      "18  1f-inner  18:21:36  20:27:39\n",
      "19  1f-inner  20:42:43  21:28:36\n",
      "20       out  00:00:01  23:57:09\n",
      "21        in  08:53:57  21:23:44\n",
      "22   1f-left  08:54:43  12:35:06\n",
      "23        1f  08:54:43  21:23:44\n",
      "24  1f-right  08:54:44  18:24:58\n",
      "25  1f-inner  08:59:23  09:30:37\n"
     ]
    }
   ],
   "source": [
    "qd30 = printchartlah(1500)"
   ]
  },
  {
   "cell_type": "code",
   "execution_count": 25,
   "metadata": {
    "collapsed": false
   },
   "outputs": [
    {
     "data": {
      "text/html": [
       "<iframe id=\"igraph\" scrolling=\"no\" style=\"border:none;\" seamless=\"seamless\" src=\"https://plot.ly/~SundongKim/29.embed\" height=\"600px\" width=\"900px\"></iframe>"
      ],
      "text/plain": [
       "<plotly.tools.PlotlyDisplay object>"
      ]
     },
     "execution_count": 25,
     "metadata": {},
     "output_type": "execute_result"
    }
   ],
   "source": [
    "fig30 = FF.create_gantt(qd30[['Task','Start', 'Finish', 'Complete']], colors='Viridis', index_col='Complete', show_colorbar=True)\n",
    "p30 = py.iplot(fig30, filename='Numeric Variable', world_readable=True)\n",
    "p30"
   ]
  },
  {
   "cell_type": "code",
   "execution_count": 28,
   "metadata": {
    "collapsed": false
   },
   "outputs": [
    {
     "name": "stdout",
     "output_type": "stream",
     "text": [
      "--------------- 4000 th longest moving pattern: Sequence # 18927\n",
      "        Task   t_start     t_end\n",
      "0        out  15:50:20  16:49:28\n",
      "1         in  15:52:48  16:46:07\n",
      "2         1f  15:52:48  15:53:46\n",
      "3   1f-inner  15:52:51  15:53:11\n",
      "4         2f  15:53:47  16:05:02\n",
      "5   2f-right  15:53:58  16:05:01\n",
      "6         3f  15:59:35  16:37:10\n",
      "7         1f  16:10:37  16:46:06\n",
      "8         2f  16:17:43  16:40:27\n",
      "9   1f-inner  16:19:28  16:20:44\n",
      "10  1f-right  16:19:30  16:22:19\n",
      "11  2f-right  16:28:52  16:40:26\n",
      "12  1f-right  16:41:11  16:46:04\n"
     ]
    }
   ],
   "source": [
    "qd84 = printchartlah(4000)"
   ]
  },
  {
   "cell_type": "code",
   "execution_count": 29,
   "metadata": {
    "collapsed": false
   },
   "outputs": [
    {
     "data": {
      "text/html": [
       "<iframe id=\"igraph\" scrolling=\"no\" style=\"border:none;\" seamless=\"seamless\" src=\"https://plot.ly/~SundongKim/29.embed\" height=\"600px\" width=\"900px\"></iframe>"
      ],
      "text/plain": [
       "<plotly.tools.PlotlyDisplay object>"
      ]
     },
     "execution_count": 29,
     "metadata": {},
     "output_type": "execute_result"
    }
   ],
   "source": [
    "fig84 = FF.create_gantt(qd84[['Task','Start', 'Finish', 'Complete']], colors='Viridis', index_col='Complete', show_colorbar=True)\n",
    "p84 = py.iplot(fig84, filename='Numeric Variable', world_readable=True)\n",
    "p84"
   ]
  },
  {
   "cell_type": "code",
   "execution_count": 32,
   "metadata": {
    "collapsed": false
   },
   "outputs": [
    {
     "name": "stdout",
     "output_type": "stream",
     "text": [
      "--------------- 5500 th longest moving pattern: Sequence # 26695\n",
      "       Task   t_start     t_end\n",
      "0       out  15:15:01  15:27:26\n",
      "1        in  15:16:31  15:26:22\n",
      "2  1f-right  15:16:31  15:24:18\n",
      "3        1f  15:16:31  15:26:22\n",
      "4   1f-left  15:16:31  15:18:42\n",
      "5  2f-right  15:20:01  15:23:27\n",
      "6        2f  15:20:01  15:26:16\n",
      "7   2f-left  15:20:21  15:20:41\n",
      "8       out  15:42:34  15:46:47\n",
      "9       out  16:12:12  16:12:59\n"
     ]
    }
   ],
   "source": [
    "qd465 = printchartlah(5500)"
   ]
  },
  {
   "cell_type": "code",
   "execution_count": 33,
   "metadata": {
    "collapsed": false
   },
   "outputs": [
    {
     "data": {
      "text/html": [
       "<iframe id=\"igraph\" scrolling=\"no\" style=\"border:none;\" seamless=\"seamless\" src=\"https://plot.ly/~SundongKim/29.embed\" height=\"600px\" width=\"900px\"></iframe>"
      ],
      "text/plain": [
       "<plotly.tools.PlotlyDisplay object>"
      ]
     },
     "execution_count": 33,
     "metadata": {},
     "output_type": "execute_result"
    }
   ],
   "source": [
    "fig465 = FF.create_gantt(qd465[['Task','Start', 'Finish', 'Complete']], colors='Viridis', index_col='Complete', show_colorbar=True)\n",
    "p465 = py.iplot(fig465, filename='Numeric Variable', world_readable=True)\n",
    "p465"
   ]
  },
  {
   "cell_type": "code",
   "execution_count": 34,
   "metadata": {
    "collapsed": false
   },
   "outputs": [
    {
     "name": "stdout",
     "output_type": "stream",
     "text": [
      "--------------- 10000 th longest moving pattern: Sequence # 25425\n",
      "       Task   t_start     t_end\n",
      "0       out  13:27:50  13:48:04\n",
      "1        in  13:43:31  13:47:10\n",
      "2        1f  13:43:31  13:47:10\n",
      "3   1f-left  13:43:32  13:47:01\n",
      "4  1f-inner  13:45:14  13:47:01\n",
      "5  1f-right  13:45:16  13:47:10\n",
      "6       out  14:05:49  14:06:29\n"
     ]
    }
   ],
   "source": [
    "qd1297 = printchartlah(10000)"
   ]
  },
  {
   "cell_type": "code",
   "execution_count": 35,
   "metadata": {
    "collapsed": false
   },
   "outputs": [
    {
     "data": {
      "text/html": [
       "<iframe id=\"igraph\" scrolling=\"no\" style=\"border:none;\" seamless=\"seamless\" src=\"https://plot.ly/~SundongKim/29.embed\" height=\"600px\" width=\"900px\"></iframe>"
      ],
      "text/plain": [
       "<plotly.tools.PlotlyDisplay object>"
      ]
     },
     "execution_count": 35,
     "metadata": {},
     "output_type": "execute_result"
    }
   ],
   "source": [
    "fig1297 = FF.create_gantt(qd1297[['Task','Start', 'Finish', 'Complete']], colors='Viridis', index_col='Complete', show_colorbar=True)\n",
    "p1297 = py.iplot(fig1297, filename='Numeric Variable', world_readable=True)\n",
    "p1297"
   ]
  },
  {
   "cell_type": "code",
   "execution_count": 41,
   "metadata": {
    "collapsed": false
   },
   "outputs": [
    {
     "name": "stdout",
     "output_type": "stream",
     "text": [
      "--------------- 14500 th longest moving pattern: Sequence # 8053\n",
      "       Task   t_start     t_end\n",
      "0       out  16:20:13  16:21:43\n",
      "1        in  16:20:55  16:21:10\n",
      "2   1f-left  16:20:55  16:21:10\n",
      "3        1f  16:20:55  16:21:10\n",
      "4  1f-right  16:21:02  16:21:10\n"
     ]
    }
   ],
   "source": [
    "qd4792 = printchartlah(14500)"
   ]
  },
  {
   "cell_type": "code",
   "execution_count": 42,
   "metadata": {
    "collapsed": false
   },
   "outputs": [
    {
     "data": {
      "text/html": [
       "<iframe id=\"igraph\" scrolling=\"no\" style=\"border:none;\" seamless=\"seamless\" src=\"https://plot.ly/~SundongKim/29.embed\" height=\"600px\" width=\"900px\"></iframe>"
      ],
      "text/plain": [
       "<plotly.tools.PlotlyDisplay object>"
      ]
     },
     "execution_count": 42,
     "metadata": {},
     "output_type": "execute_result"
    }
   ],
   "source": [
    "fig4792 = FF.create_gantt(qd4792[['Task','Start', 'Finish', 'Complete']], colors='Viridis', index_col='Complete', show_colorbar=True)\n",
    "p4792 = py.iplot(fig4792, filename='Numeric Variable', world_readable=True)\n",
    "p4792"
   ]
  },
  {
   "cell_type": "code",
   "execution_count": 38,
   "metadata": {
    "collapsed": false
   },
   "outputs": [
    {
     "name": "stdout",
     "output_type": "stream",
     "text": [
      "--------------- 20000 th longest moving pattern: Sequence # 7714\n",
      "  Task   t_start     t_end\n",
      "0  out  17:20:51  17:20:55\n",
      "1  out  17:41:29  17:47:00\n",
      "2   in  17:45:27  17:45:35\n",
      "3   1f  17:45:27  17:45:35\n"
     ]
    }
   ],
   "source": [
    "qd7492 = printchartlah(20000)"
   ]
  },
  {
   "cell_type": "code",
   "execution_count": 39,
   "metadata": {
    "collapsed": false
   },
   "outputs": [
    {
     "data": {
      "text/html": [
       "<iframe id=\"igraph\" scrolling=\"no\" style=\"border:none;\" seamless=\"seamless\" src=\"https://plot.ly/~SundongKim/29.embed\" height=\"600px\" width=\"900px\"></iframe>"
      ],
      "text/plain": [
       "<plotly.tools.PlotlyDisplay object>"
      ]
     },
     "execution_count": 39,
     "metadata": {},
     "output_type": "execute_result"
    }
   ],
   "source": [
    "fig7492 = FF.create_gantt(qd7492[['Task','Start', 'Finish', 'Complete']], colors='Viridis', index_col='Complete', show_colorbar=True)\n",
    "p7492 = py.iplot(fig7492, filename='Numeric Variable', world_readable=True)\n",
    "p7492"
   ]
  },
  {
   "cell_type": "code",
   "execution_count": 43,
   "metadata": {
    "collapsed": false
   },
   "outputs": [
    {
     "name": "stdout",
     "output_type": "stream",
     "text": [
      "--------------- 30000 th longest moving pattern: Sequence # 25513\n",
      "  Task   t_start     t_end\n",
      "0  out  17:17:52  17:26:56\n",
      "1   in  17:18:30  17:21:35\n"
     ]
    }
   ],
   "source": [
    "qd11902 = printchartlah(30000)"
   ]
  },
  {
   "cell_type": "code",
   "execution_count": 44,
   "metadata": {
    "collapsed": false
   },
   "outputs": [
    {
     "data": {
      "text/html": [
       "<iframe id=\"igraph\" scrolling=\"no\" style=\"border:none;\" seamless=\"seamless\" src=\"https://plot.ly/~SundongKim/29.embed\" height=\"600px\" width=\"900px\"></iframe>"
      ],
      "text/plain": [
       "<plotly.tools.PlotlyDisplay object>"
      ]
     },
     "execution_count": 44,
     "metadata": {},
     "output_type": "execute_result"
    }
   ],
   "source": [
    "fig11902 = FF.create_gantt(qd11902[['Task','Start', 'Finish', 'Complete']], colors='Viridis', index_col='Complete', show_colorbar=True)\n",
    "p11902 = py.iplot(fig11902, filename='Numeric Variable', world_readable=True)\n",
    "p11902"
   ]
  }
 ],
 "metadata": {
  "anaconda-cloud": {},
  "kernelspec": {
   "display_name": "Python [py35]",
   "language": "python",
   "name": "Python [py35]"
  },
  "language_info": {
   "codemirror_mode": {
    "name": "ipython",
    "version": 3
   },
   "file_extension": ".py",
   "mimetype": "text/x-python",
   "name": "python",
   "nbconvert_exporter": "python",
   "pygments_lexer": "ipython3",
   "version": "3.5.2"
  }
 },
 "nbformat": 4,
 "nbformat_minor": 0
}
