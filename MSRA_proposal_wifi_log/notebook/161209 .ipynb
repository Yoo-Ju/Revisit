{
 "cells": [
  {
   "cell_type": "code",
   "execution_count": 1,
   "metadata": {
    "collapsed": true
   },
   "outputs": [],
   "source": [
    "import pandas as pd"
   ]
  },
  {
   "cell_type": "code",
   "execution_count": 2,
   "metadata": {
    "collapsed": true
   },
   "outputs": [],
   "source": [
    "placeNum = str(786)\n",
    "path = \"../code/data/\"+placeNum+\"/\"+placeNum+\"_mpframe6_train.p\""
   ]
  },
  {
   "cell_type": "code",
   "execution_count": 3,
   "metadata": {
    "collapsed": false
   },
   "outputs": [],
   "source": [
    "df = pd.read_pickle(path)"
   ]
  },
  {
   "cell_type": "code",
   "execution_count": null,
   "metadata": {
    "collapsed": false
   },
   "outputs": [],
   "source": [
    "df.ix[-3]"
   ]
  },
  {
   "cell_type": "code",
   "execution_count": 4,
   "metadata": {
    "collapsed": false
   },
   "outputs": [
    {
     "data": {
      "text/plain": [
       "22    0\n",
       "Name: 16732_113d2d98fc020599d045f4ceadd01853, dtype: object"
      ]
     },
     "execution_count": 4,
     "metadata": {},
     "output_type": "execute_result"
    }
   ],
   "source": [
    "df.ix[-3][35:36]"
   ]
  },
  {
   "cell_type": "code",
   "execution_count": 5,
   "metadata": {
    "collapsed": false,
    "scrolled": true
   },
   "outputs": [],
   "source": [
    "dwelltime1 = df[df.revisit_intention == 1].dwell_time.apply(lambda x: sum(x))"
   ]
  },
  {
   "cell_type": "code",
   "execution_count": 6,
   "metadata": {
    "collapsed": false
   },
   "outputs": [],
   "source": [
    "dwelltime0 = df[df.revisit_intention == 0].dwell_time.apply(lambda x: sum(x))"
   ]
  },
  {
   "cell_type": "code",
   "execution_count": 11,
   "metadata": {
    "collapsed": false
   },
   "outputs": [],
   "source": [
    "plot1data = dwelltime1.value_counts().sort_index()"
   ]
  },
  {
   "cell_type": "code",
   "execution_count": 12,
   "metadata": {
    "collapsed": false,
    "scrolled": false
   },
   "outputs": [
    {
     "data": {
      "text/plain": [
       "<matplotlib.axes._subplots.AxesSubplot at 0x129665ef0>"
      ]
     },
     "execution_count": 12,
     "metadata": {},
     "output_type": "execute_result"
    },
    {
     "data": {
      "image/png": "[encoded data removed]",
      "text/plain": [
       "<matplotlib.figure.Figure at 0x117af2d30>"
      ]
     },
     "metadata": {},
     "output_type": "display_data"
    }
   ],
   "source": [
    "%matplotlib inline \n",
    "plot1data.plot(kind='bar', logy=True)"
   ]
  },
  {
   "cell_type": "code",
   "execution_count": 13,
   "metadata": {
    "collapsed": false
   },
   "outputs": [
    {
     "data": {
      "text/plain": [
       "Index([             'logs',              'traj',                'ts',\n",
       "              'dwell_time',        'hour_start',        'time_start',\n",
       "                  'ts_end',          'hour_end',          'time_end',\n",
       "               'device_id',              'date',   'new_visit_count',\n",
       "       'revisit_intention',                   0,                   1,\n",
       "                         2,                   3,                   4,\n",
       "                         5,                   6,                   7,\n",
       "                         8,                   9,                  10,\n",
       "                        11,                  12,                  13,\n",
       "                        14,                  15,                  16,\n",
       "                        17,                  18,                  19,\n",
       "                        20,                  21,                  22,\n",
       "                        23,                  24,                  25,\n",
       "                        26,                  27,                2001,\n",
       "                      2002,                2003,                2004,\n",
       "                      2005,                2006,                2007,\n",
       "                      2008,                2009,                2010,\n",
       "                      2011,                2012,                2013,\n",
       "                      2014,                2015,                2016,\n",
       "                      2017,                2018,                2019,\n",
       "                      2020,                2021,                2022,\n",
       "                      2023,                2024,                2025,\n",
       "                      2026,                2027,                2028,\n",
       "                      2029,                2030,                2031,\n",
       "                      2032,                2033,                2034,\n",
       "                      2035,                2036,                2037,\n",
       "                      2038],\n",
       "      dtype='object')"
      ]
     },
     "execution_count": 13,
     "metadata": {},
     "output_type": "execute_result"
    }
   ],
   "source": [
    "df.columns"
   ]
  }
 ],
 "metadata": {
  "kernelspec": {
   "display_name": "Python [py35]",
   "language": "python",
   "name": "Python [py35]"
  },
  "language_info": {
   "codemirror_mode": {
    "name": "ipython",
    "version": 3
   },
   "file_extension": ".py",
   "mimetype": "text/x-python",
   "name": "python",
   "nbconvert_exporter": "python",
   "pygments_lexer": "ipython3",
   "version": "3.5.2"
  }
 },
 "nbformat": 4,
 "nbformat_minor": 0
}
