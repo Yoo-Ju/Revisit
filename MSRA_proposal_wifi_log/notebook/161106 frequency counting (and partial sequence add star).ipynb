{
 "cells": [
  {
   "cell_type": "code",
   "execution_count": 3,
   "metadata": {
    "collapsed": true
   },
   "outputs": [],
   "source": [
    "import pandas as pd\n",
    "import numpy as np\n",
    "from scipy.special import entr\n",
    "from collections import defaultdict"
   ]
  },
  {
   "cell_type": "code",
   "execution_count": 8,
   "metadata": {
    "collapsed": true
   },
   "outputs": [],
   "source": [
    "trajs_combined_balanced = pd.read_pickle(\"../data/786/786_trajs_combined_balanced.p\")\n",
    "dfa = trajs_combined_balanced"
   ]
  },
  {
   "cell_type": "code",
   "execution_count": 17,
   "metadata": {
    "collapsed": false
   },
   "outputs": [],
   "source": [
    "### 이 코드에서 계산중에 같이 collect할 수 있을거라 생각했는데 , 포기.\n",
    "from collections import defaultdict\n",
    "\n",
    "def freq_seq_enum(sequences, min_support):\n",
    "    '''Enumerates all frequent sequences.\n",
    "\n",
    "       :param sequences: A sequence of sequences.\n",
    "       :param min_support: The minimal support of a set to be included.\n",
    "       :rtype: A set of (frequent_sequence, support).\n",
    "    '''\n",
    "    freq_seqs = set()\n",
    "    _freq_seq(sequences, tuple(), 0, 0, min_support, freq_seqs)\n",
    "    return freq_seqs\n",
    "\n",
    "\n",
    "def _freq_seq(sdb, prefix, prefix_support, revisit_support, min_support, freq_seqs):\n",
    "    if prefix:\n",
    "        print('prefix: yes', prefix)\n",
    "        freq_seqs.add((prefix, prefix_support, revisit_support))\n",
    "        print('freq seqs', freq_seqs)\n",
    "    locally_frequents = _local_freq_items(sdb, prefix, min_support)\n",
    "    print('locally frequents', locally_frequents)\n",
    "    if not locally_frequents:\n",
    "        print ('not locally frequents')\n",
    "        return\n",
    "    for (item, support1, support2) in locally_frequents:\n",
    "        new_prefix = prefix + (item,)\n",
    "        new_sdb = _project(sdb, new_prefix)\n",
    "        print('new_prefix', new_prefix)\n",
    "        print('new_sdb', new_sdb)\n",
    "        _freq_seq(new_sdb, new_prefix, support1, support2, min_support, freq_seqs)\n",
    "\n",
    "\n",
    "def _local_freq_items(sdb, prefix, min_support):\n",
    "    items = defaultdict(int)  ## for support\n",
    "    items2 = defaultdict(int)  ## for revisit_intention_support\n",
    "    freq_items = []\n",
    "    for entry in sdb:\n",
    "        visited = set()\n",
    "        for element in entry[0]:\n",
    "            print (element)\n",
    "            if element not in visited:\n",
    "                items[element] += 1\n",
    "                items2[element] += entry[1]\n",
    "                visited.add(element)\n",
    "    # Sorted is optional. Just useful for debugging for now.\n",
    "    for item in items:\n",
    "        support = items[item] ## support\n",
    "        support2 = items2[item] ## revisit_intention\n",
    "        if support >= min_support:\n",
    "            freq_items.append((item, support, support2))\n",
    "    return freq_items\n",
    "\n",
    "\n",
    "def _project(sdb, prefix):\n",
    "    new_sdb = []\n",
    "    if not prefix:\n",
    "        return sdb\n",
    "    current_prefix_item = prefix[-1]\n",
    "    for entry in sdb:\n",
    "        j = 0\n",
    "        projection = None\n",
    "        for item in entry[0]:\n",
    "            if item == current_prefix_item:\n",
    "                projection = (entry[0][j + 1:], entry[1])\n",
    "                break\n",
    "            j += 1\n",
    "        if projection:\n",
    "            new_sdb.append(projection)\n",
    "    return new_sdb"
   ]
  },
  {
   "cell_type": "code",
   "execution_count": 12,
   "metadata": {
    "collapsed": true
   },
   "outputs": [],
   "source": [
    "seqs = dfa.apply(lambda x: (x['traj'], x['revisit_intention']), axis=1)"
   ]
  },
  {
   "cell_type": "code",
   "execution_count": 21,
   "metadata": {
    "collapsed": false
   },
   "outputs": [],
   "source": [
    "seqs2 = [('abab', 1.0), ('ab', 1.0)]"
   ]
  },
  {
   "cell_type": "code",
   "execution_count": 14,
   "metadata": {
    "collapsed": false
   },
   "outputs": [
    {
     "data": {
      "text/plain": [
       "16767_25e9517c47319ab64486403f94348dd6         ([out, in, 2f, 2f-inner, 1f], 0.0)\n",
       "16955_53f0a6276486cc80405cf534d913fcbb    ([out, in, 1f, 1f-right, 1f-left], 0.0)\n",
       "16734_5b37d580c76a8c8c245cad3418349acb                       ([out, in, 1f], 0.0)\n",
       "16736_70968e4fb8894b74997f6f4e89b32bee                       ([out, in, 1f], 1.0)\n",
       "16847_e0b87d079ff087efd100c423d88d0fbd                       ([out, in, 1f], 0.0)\n",
       "dtype: object"
      ]
     },
     "execution_count": 14,
     "metadata": {},
     "output_type": "execute_result"
    }
   ],
   "source": [
    "seqs.head(5)"
   ]
  },
  {
   "cell_type": "code",
   "execution_count": 22,
   "metadata": {
    "collapsed": false
   },
   "outputs": [
    {
     "name": "stdout",
     "output_type": "stream",
     "text": [
      "a\n",
      "b\n",
      "a\n",
      "b\n",
      "a\n",
      "b\n",
      "locally frequents [('b', 2, 2.0), ('a', 2, 2.0)]\n",
      "new_prefix ('b',)\n",
      "new_sdb [('ab', 1.0), ('', 1.0)]\n",
      "prefix: yes ('b',)\n",
      "freq seqs {(('b',), 2, 2.0)}\n",
      "a\n",
      "b\n",
      "locally frequents [('b', 1, 1.0), ('a', 1, 1.0)]\n",
      "new_prefix ('b', 'b')\n",
      "new_sdb [('', 1.0)]\n",
      "prefix: yes ('b', 'b')\n",
      "freq seqs {(('b',), 2, 2.0), (('b', 'b'), 1, 1.0)}\n",
      "locally frequents []\n",
      "not locally frequents\n",
      "new_prefix ('b', 'a')\n",
      "new_sdb [('b', 1.0)]\n",
      "prefix: yes ('b', 'a')\n",
      "freq seqs {(('b', 'a'), 1, 1.0), (('b',), 2, 2.0), (('b', 'b'), 1, 1.0)}\n",
      "b\n",
      "locally frequents [('b', 1, 1.0)]\n",
      "new_prefix ('b', 'a', 'b')\n",
      "new_sdb [('', 1.0)]\n",
      "prefix: yes ('b', 'a', 'b')\n",
      "freq seqs {(('b', 'a'), 1, 1.0), (('b',), 2, 2.0), (('b', 'b'), 1, 1.0), (('b', 'a', 'b'), 1, 1.0)}\n",
      "locally frequents []\n",
      "not locally frequents\n",
      "new_prefix ('a',)\n",
      "new_sdb [('bab', 1.0), ('b', 1.0)]\n",
      "prefix: yes ('a',)\n",
      "freq seqs {(('b', 'a'), 1, 1.0), (('a',), 2, 2.0), (('b',), 2, 2.0), (('b', 'b'), 1, 1.0), (('b', 'a', 'b'), 1, 1.0)}\n",
      "b\n",
      "a\n",
      "b\n",
      "b\n",
      "locally frequents [('b', 2, 2.0), ('a', 1, 1.0)]\n",
      "new_prefix ('a', 'b')\n",
      "new_sdb [('ab', 1.0), ('', 1.0)]\n",
      "prefix: yes ('a', 'b')\n",
      "freq seqs {(('a',), 2, 2.0), (('b', 'a'), 1, 1.0), (('b', 'a', 'b'), 1, 1.0), (('a', 'b'), 2, 2.0), (('b',), 2, 2.0), (('b', 'b'), 1, 1.0)}\n",
      "a\n",
      "b\n",
      "locally frequents [('b', 1, 1.0), ('a', 1, 1.0)]\n",
      "new_prefix ('a', 'b', 'b')\n",
      "new_sdb [('', 1.0)]\n",
      "prefix: yes ('a', 'b', 'b')\n",
      "freq seqs {(('a',), 2, 2.0), (('a', 'b', 'b'), 1, 1.0), (('b', 'a'), 1, 1.0), (('b', 'a', 'b'), 1, 1.0), (('a', 'b'), 2, 2.0), (('b',), 2, 2.0), (('b', 'b'), 1, 1.0)}\n",
      "locally frequents []\n",
      "not locally frequents\n",
      "new_prefix ('a', 'b', 'a')\n",
      "new_sdb [('b', 1.0)]\n",
      "prefix: yes ('a', 'b', 'a')\n",
      "freq seqs {(('a',), 2, 2.0), (('a', 'b', 'b'), 1, 1.0), (('b', 'a'), 1, 1.0), (('b', 'a', 'b'), 1, 1.0), (('a', 'b', 'a'), 1, 1.0), (('a', 'b'), 2, 2.0), (('b',), 2, 2.0), (('b', 'b'), 1, 1.0)}\n",
      "b\n",
      "locally frequents [('b', 1, 1.0)]\n",
      "new_prefix ('a', 'b', 'a', 'b')\n",
      "new_sdb [('', 1.0)]\n",
      "prefix: yes ('a', 'b', 'a', 'b')\n",
      "freq seqs {(('a',), 2, 2.0), (('a', 'b', 'a', 'b'), 1, 1.0), (('a', 'b', 'b'), 1, 1.0), (('b', 'a'), 1, 1.0), (('b', 'a', 'b'), 1, 1.0), (('a', 'b', 'a'), 1, 1.0), (('a', 'b'), 2, 2.0), (('b',), 2, 2.0), (('b', 'b'), 1, 1.0)}\n",
      "locally frequents []\n",
      "not locally frequents\n",
      "new_prefix ('a', 'a')\n",
      "new_sdb [('b', 1.0)]\n",
      "prefix: yes ('a', 'a')\n",
      "freq seqs {(('a',), 2, 2.0), (('a', 'b', 'a', 'b'), 1, 1.0), (('a', 'b', 'b'), 1, 1.0), (('a', 'a'), 1, 1.0), (('b', 'a'), 1, 1.0), (('b', 'a', 'b'), 1, 1.0), (('a', 'b', 'a'), 1, 1.0), (('a', 'b'), 2, 2.0), (('b',), 2, 2.0), (('b', 'b'), 1, 1.0)}\n",
      "b\n",
      "locally frequents [('b', 1, 1.0)]\n",
      "new_prefix ('a', 'a', 'b')\n",
      "new_sdb [('', 1.0)]\n",
      "prefix: yes ('a', 'a', 'b')\n",
      "freq seqs {(('a',), 2, 2.0), (('a', 'b', 'a', 'b'), 1, 1.0), (('a', 'b', 'b'), 1, 1.0), (('a', 'a'), 1, 1.0), (('b', 'a'), 1, 1.0), (('b', 'a', 'b'), 1, 1.0), (('a', 'b', 'a'), 1, 1.0), (('a', 'b'), 2, 2.0), (('b',), 2, 2.0), (('b', 'b'), 1, 1.0), (('a', 'a', 'b'), 1, 1.0)}\n",
      "locally frequents []\n",
      "not locally frequents\n"
     ]
    },
    {
     "data": {
      "text/plain": [
       "{(('a',), 2, 2.0),\n",
       " (('a', 'a'), 1, 1.0),\n",
       " (('a', 'a', 'b'), 1, 1.0),\n",
       " (('a', 'b'), 2, 2.0),\n",
       " (('a', 'b', 'a'), 1, 1.0),\n",
       " (('a', 'b', 'a', 'b'), 1, 1.0),\n",
       " (('a', 'b', 'b'), 1, 1.0),\n",
       " (('b',), 2, 2.0),\n",
       " (('b', 'a'), 1, 1.0),\n",
       " (('b', 'a', 'b'), 1, 1.0),\n",
       " (('b', 'b'), 1, 1.0)}"
      ]
     },
     "execution_count": 22,
     "metadata": {},
     "output_type": "execute_result"
    }
   ],
   "source": [
    "freq_seq_enum(seqs2, 1)"
   ]
  },
  {
   "cell_type": "code",
   "execution_count": null,
   "metadata": {
    "collapsed": true
   },
   "outputs": [],
   "source": []
  },
  {
   "cell_type": "code",
   "execution_count": null,
   "metadata": {
    "collapsed": true
   },
   "outputs": [],
   "source": []
  },
  {
   "cell_type": "code",
   "execution_count": null,
   "metadata": {
    "collapsed": true
   },
   "outputs": [],
   "source": []
  },
  {
   "cell_type": "code",
   "execution_count": null,
   "metadata": {
    "collapsed": true
   },
   "outputs": [],
   "source": []
  },
  {
   "cell_type": "code",
   "execution_count": null,
   "metadata": {
    "collapsed": true
   },
   "outputs": [],
   "source": []
  },
  {
   "cell_type": "code",
   "execution_count": null,
   "metadata": {
    "collapsed": true
   },
   "outputs": [],
   "source": []
  },
  {
   "cell_type": "code",
   "execution_count": null,
   "metadata": {
    "collapsed": true
   },
   "outputs": [],
   "source": []
  },
  {
   "cell_type": "code",
   "execution_count": null,
   "metadata": {
    "collapsed": true
   },
   "outputs": [],
   "source": []
  }
 ],
 "metadata": {
  "anaconda-cloud": {},
  "kernelspec": {
   "display_name": "Python [py35]",
   "language": "python",
   "name": "Python [py35]"
  },
  "language_info": {
   "codemirror_mode": {
    "name": "ipython",
    "version": 3
   },
   "file_extension": ".py",
   "mimetype": "text/x-python",
   "name": "python",
   "nbconvert_exporter": "python",
   "pygments_lexer": "ipython3",
   "version": "3.5.2"
  }
 },
 "nbformat": 4,
 "nbformat_minor": 0
}
