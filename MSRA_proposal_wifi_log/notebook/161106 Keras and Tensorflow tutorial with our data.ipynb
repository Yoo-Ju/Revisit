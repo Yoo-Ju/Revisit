{
 "cells": [
  {
   "cell_type": "markdown",
   "metadata": {},
   "source": [
    "Why keras?\n",
    "\n",
    "Why RNN & LSTM? 블로그 포스트들과 우리 연구와의 관련성\n",
    "\n",
    "* http://karpathy.github.io/2015/05/21/rnn-effectiveness/\n",
    "    * Sequences input -> Positive or negative output도 처리 가능\n",
    "    * 예제: Minimal character level RNN language model in python/numpy:\n",
    "    https://gist.github.com/karpathy/d4dee566867f8291f086\n",
    "* http://colah.github.io/posts/2015-08-Understanding-LSTMs/\n"
   ]
  },
  {
   "cell_type": "code",
   "execution_count": 42,
   "metadata": {
    "collapsed": false
   },
   "outputs": [],
   "source": [
    "import pandas as pd\n",
    "import pickle"
   ]
  },
  {
   "cell_type": "code",
   "execution_count": 379,
   "metadata": {
    "collapsed": true
   },
   "outputs": [],
   "source": [
    "placeNum = str(786)\n",
    "# statistical_picklePath2 = \"../code/data/\"+placeNum+\"/\"+placeNum+\"_mpframe3.p\"\n",
    "statistical_picklePath2 = \"../data/\"+placeNum+\"/\"+placeNum+\"_trajs_combined_balanced.p\"\n",
    "df = pd.read_pickle(statistical_picklePath2)"
   ]
  },
  {
   "cell_type": "code",
   "execution_count": 466,
   "metadata": {
    "collapsed": false
   },
   "outputs": [],
   "source": [
    "df2 = df[['traj', 'ts', 'dwell_time', 'time_start', 'ts_end', 'revisit_intention']]  #  'time_end',"
   ]
  },
  {
   "cell_type": "code",
   "execution_count": 467,
   "metadata": {
    "collapsed": false
   },
   "outputs": [
    {
     "data": {
      "text/html": [
       "<div>\n",
       "<table border=\"1\" class=\"dataframe\">\n",
       "  <thead>\n",
       "    <tr style=\"text-align: right;\">\n",
       "      <th></th>\n",
       "      <th>traj</th>\n",
       "      <th>ts</th>\n",
       "      <th>dwell_time</th>\n",
       "      <th>time_start</th>\n",
       "      <th>ts_end</th>\n",
       "      <th>revisit_intention</th>\n",
       "    </tr>\n",
       "  </thead>\n",
       "  <tbody>\n",
       "    <tr>\n",
       "      <th>16767_25e9517c47319ab64486403f94348dd6</th>\n",
       "      <td>[out, in, 2f, 2f-inner, 1f]</td>\n",
       "      <td>[1448711070, 1448711259, 1448711286, 144871128...</td>\n",
       "      <td>[314, 125, 98, 98, 65]</td>\n",
       "      <td>[20:44:30, 20:47:39, 20:48:06, 20:48:06, 20:48...</td>\n",
       "      <td>[1448711384, 1448711384, 1448711384, 144871138...</td>\n",
       "      <td>0.0</td>\n",
       "    </tr>\n",
       "    <tr>\n",
       "      <th>16955_53f0a6276486cc80405cf534d913fcbb</th>\n",
       "      <td>[out, in, 1f, 1f-right, 1f-left]</td>\n",
       "      <td>[1464939171, 1464939171, 1464939171, 146493923...</td>\n",
       "      <td>[266, 263, 263, 198, 156]</td>\n",
       "      <td>[16:32:51, 16:32:51, 16:32:51, 16:33:54, 16:33...</td>\n",
       "      <td>[1464939437, 1464939434, 1464939434, 146493943...</td>\n",
       "      <td>0.0</td>\n",
       "    </tr>\n",
       "    <tr>\n",
       "      <th>16734_5b37d580c76a8c8c245cad3418349acb</th>\n",
       "      <td>[out, in, 1f]</td>\n",
       "      <td>[1445856050, 1445856052, 1445856052]</td>\n",
       "      <td>[662, 527, 527]</td>\n",
       "      <td>[19:40:50, 19:40:52, 19:40:52]</td>\n",
       "      <td>[1445856712, 1445856579, 1445856579]</td>\n",
       "      <td>0.0</td>\n",
       "    </tr>\n",
       "    <tr>\n",
       "      <th>16736_70968e4fb8894b74997f6f4e89b32bee</th>\n",
       "      <td>[out, in, 1f]</td>\n",
       "      <td>[1446031391, 1446031392, 1446031392]</td>\n",
       "      <td>[152, 144, 144]</td>\n",
       "      <td>[20:23:11, 20:23:12, 20:23:12]</td>\n",
       "      <td>[1446031543, 1446031536, 1446031536]</td>\n",
       "      <td>1.0</td>\n",
       "    </tr>\n",
       "    <tr>\n",
       "      <th>16847_e0b87d079ff087efd100c423d88d0fbd</th>\n",
       "      <td>[out, in, 1f]</td>\n",
       "      <td>[1455604283, 1455604408, 1455604408]</td>\n",
       "      <td>[369, 94, 94]</td>\n",
       "      <td>[15:31:23, 15:33:28, 15:33:28]</td>\n",
       "      <td>[1455604652, 1455604502, 1455604502]</td>\n",
       "      <td>0.0</td>\n",
       "    </tr>\n",
       "  </tbody>\n",
       "</table>\n",
       "</div>"
      ],
      "text/plain": [
       "                                                                    traj  \\\n",
       "16767_25e9517c47319ab64486403f94348dd6       [out, in, 2f, 2f-inner, 1f]   \n",
       "16955_53f0a6276486cc80405cf534d913fcbb  [out, in, 1f, 1f-right, 1f-left]   \n",
       "16734_5b37d580c76a8c8c245cad3418349acb                     [out, in, 1f]   \n",
       "16736_70968e4fb8894b74997f6f4e89b32bee                     [out, in, 1f]   \n",
       "16847_e0b87d079ff087efd100c423d88d0fbd                     [out, in, 1f]   \n",
       "\n",
       "                                                                                       ts  \\\n",
       "16767_25e9517c47319ab64486403f94348dd6  [1448711070, 1448711259, 1448711286, 144871128...   \n",
       "16955_53f0a6276486cc80405cf534d913fcbb  [1464939171, 1464939171, 1464939171, 146493923...   \n",
       "16734_5b37d580c76a8c8c245cad3418349acb               [1445856050, 1445856052, 1445856052]   \n",
       "16736_70968e4fb8894b74997f6f4e89b32bee               [1446031391, 1446031392, 1446031392]   \n",
       "16847_e0b87d079ff087efd100c423d88d0fbd               [1455604283, 1455604408, 1455604408]   \n",
       "\n",
       "                                                       dwell_time  \\\n",
       "16767_25e9517c47319ab64486403f94348dd6     [314, 125, 98, 98, 65]   \n",
       "16955_53f0a6276486cc80405cf534d913fcbb  [266, 263, 263, 198, 156]   \n",
       "16734_5b37d580c76a8c8c245cad3418349acb            [662, 527, 527]   \n",
       "16736_70968e4fb8894b74997f6f4e89b32bee            [152, 144, 144]   \n",
       "16847_e0b87d079ff087efd100c423d88d0fbd              [369, 94, 94]   \n",
       "\n",
       "                                                                               time_start  \\\n",
       "16767_25e9517c47319ab64486403f94348dd6  [20:44:30, 20:47:39, 20:48:06, 20:48:06, 20:48...   \n",
       "16955_53f0a6276486cc80405cf534d913fcbb  [16:32:51, 16:32:51, 16:32:51, 16:33:54, 16:33...   \n",
       "16734_5b37d580c76a8c8c245cad3418349acb                     [19:40:50, 19:40:52, 19:40:52]   \n",
       "16736_70968e4fb8894b74997f6f4e89b32bee                     [20:23:11, 20:23:12, 20:23:12]   \n",
       "16847_e0b87d079ff087efd100c423d88d0fbd                     [15:31:23, 15:33:28, 15:33:28]   \n",
       "\n",
       "                                                                                   ts_end  \\\n",
       "16767_25e9517c47319ab64486403f94348dd6  [1448711384, 1448711384, 1448711384, 144871138...   \n",
       "16955_53f0a6276486cc80405cf534d913fcbb  [1464939437, 1464939434, 1464939434, 146493943...   \n",
       "16734_5b37d580c76a8c8c245cad3418349acb               [1445856712, 1445856579, 1445856579]   \n",
       "16736_70968e4fb8894b74997f6f4e89b32bee               [1446031543, 1446031536, 1446031536]   \n",
       "16847_e0b87d079ff087efd100c423d88d0fbd               [1455604652, 1455604502, 1455604502]   \n",
       "\n",
       "                                        revisit_intention  \n",
       "16767_25e9517c47319ab64486403f94348dd6                0.0  \n",
       "16955_53f0a6276486cc80405cf534d913fcbb                0.0  \n",
       "16734_5b37d580c76a8c8c245cad3418349acb                0.0  \n",
       "16736_70968e4fb8894b74997f6f4e89b32bee                1.0  \n",
       "16847_e0b87d079ff087efd100c423d88d0fbd                0.0  "
      ]
     },
     "execution_count": 467,
     "metadata": {},
     "output_type": "execute_result"
    }
   ],
   "source": [
    "df2.head(5)"
   ]
  },
  {
   "cell_type": "code",
   "execution_count": 468,
   "metadata": {
    "collapsed": false
   },
   "outputs": [
    {
     "data": {
      "text/plain": [
       "(1000, 10, 9)"
      ]
     },
     "execution_count": 468,
     "metadata": {},
     "output_type": "execute_result"
    }
   ],
   "source": [
    "# generate dummy training data\n",
    "x_train = np.random.random((1000, timesteps, data_dim))\n",
    "y_train = np.random.random((1000, nb_classes))\n",
    "\n",
    "# generate dummy validation data\n",
    "x_val = np.random.random((100, timesteps, data_dim))\n",
    "y_val = np.random.random((100, nb_classes))\n",
    "\n",
    "\n",
    "\n",
    "x_train.shape"
   ]
  },
  {
   "cell_type": "code",
   "execution_count": 103,
   "metadata": {
    "collapsed": false
   },
   "outputs": [
    {
     "data": {
      "text/plain": [
       "(10,)"
      ]
     },
     "execution_count": 103,
     "metadata": {},
     "output_type": "execute_result"
    }
   ],
   "source": [
    "a = np.zeros(10)\n",
    "a.shape"
   ]
  },
  {
   "cell_type": "code",
   "execution_count": 90,
   "metadata": {
    "collapsed": false
   },
   "outputs": [
    {
     "data": {
      "text/plain": [
       "array([ 2.,  3.])"
      ]
     },
     "execution_count": 90,
     "metadata": {},
     "output_type": "execute_result"
    }
   ],
   "source": [
    "a = np.zeros(0)\n",
    "a = np.append(a, 2)\n",
    "a = np.append(a, 3)\n",
    "a"
   ]
  },
  {
   "cell_type": "code",
   "execution_count": 123,
   "metadata": {
    "collapsed": false
   },
   "outputs": [
    {
     "name": "stdout",
     "output_type": "stream",
     "text": [
      "[array([ 4.,  4.,  4.]), array([ 8.,  8.,  8.])]\n"
     ]
    },
    {
     "data": {
      "text/plain": [
       "array([[ 4.,  4.,  4.],\n",
       "       [ 8.,  8.,  8.]])"
      ]
     },
     "execution_count": 123,
     "metadata": {},
     "output_type": "execute_result"
    }
   ],
   "source": [
    "x = []\n",
    "da = embedding(df2.ix[0])\n",
    "db = embedding(df2.ix[1])\n",
    "x.append(da)\n",
    "x.append(db)\n",
    "print(x)\n",
    "np.stack(x, axis=0)"
   ]
  },
  {
   "cell_type": "code",
   "execution_count": 129,
   "metadata": {
    "collapsed": false
   },
   "outputs": [
    {
     "data": {
      "text/plain": [
       "(1000, 6)"
      ]
     },
     "execution_count": 129,
     "metadata": {},
     "output_type": "execute_result"
    }
   ],
   "source": [
    "df3 = df2.head(1000)\n",
    "embeddedvector = df3.apply(lambda x: embedding(x), axis=1)\n",
    "np.asarray(embeddedvector).shape"
   ]
  },
  {
   "cell_type": "code",
   "execution_count": 187,
   "metadata": {
    "collapsed": false
   },
   "outputs": [
    {
     "data": {
      "text/plain": [
       "array([ 0.,  0.,  0.])"
      ]
     },
     "execution_count": 187,
     "metadata": {},
     "output_type": "execute_result"
    }
   ],
   "source": [
    "ab = np.zeros((10, 1, 3))\n",
    "ab[0, 0]"
   ]
  },
  {
   "cell_type": "code",
   "execution_count": 251,
   "metadata": {
    "collapsed": false
   },
   "outputs": [
    {
     "data": {
      "text/plain": [
       "array([[ 1.,  0.],\n",
       "       [ 1.,  0.],\n",
       "       [ 1.,  0.],\n",
       "       ..., \n",
       "       [ 1.,  0.],\n",
       "       [ 0.,  1.],\n",
       "       [ 1.,  0.]])"
      ]
     },
     "execution_count": 251,
     "metadata": {},
     "output_type": "execute_result"
    }
   ],
   "source": [
    "dff = df2.head(1000)\n",
    "np.asarray(pd.get_dummies(dff['revisit_intention']))"
   ]
  },
  {
   "cell_type": "code",
   "execution_count": 302,
   "metadata": {
    "collapsed": false
   },
   "outputs": [
    {
     "data": {
      "text/plain": [
       "array([ 0.,  0.,  1.,  0.])"
      ]
     },
     "execution_count": 302,
     "metadata": {},
     "output_type": "execute_result"
    }
   ],
   "source": [
    "np.equal.outer(2, np.arange(4)).astype(np.float)"
   ]
  },
  {
   "cell_type": "code",
   "execution_count": 359,
   "metadata": {
    "collapsed": false
   },
   "outputs": [
    {
     "name": "stdout",
     "output_type": "stream",
     "text": [
      "36\n"
     ]
    }
   ],
   "source": [
    "a = np.array([1, 2])\n",
    "b = np.array([3, 4])\n",
    "c = 5\n",
    "aa = np.append(a,b)\n",
    "np.append(aa, c)\n",
    "\n",
    "twod_result = np.zeros((10, 36)).shape[1]\n",
    "print(twod_result)"
   ]
  },
  {
   "cell_type": "code",
   "execution_count": 442,
   "metadata": {
    "collapsed": false
   },
   "outputs": [],
   "source": [
    "areavecdict = {}\n",
    "areavecdict['out'] =      np.array([0, 0, 0, 0, 0, 0, 0])\n",
    "areavecdict['in'] =       np.array([1, 0, 0, 0, 0, 0, 0])\n",
    "areavecdict['1f'] =       np.array([1, 1, 0, 0, 0, 0, 0])\n",
    "areavecdict['2f'] =       np.array([1, 0, 1, 0, 0, 0, 0])\n",
    "areavecdict['3f'] =       np.array([1, 0, 0, 1, 0, 0, 0])\n",
    "areavecdict['1f-inner'] = np.array([1, 1, 0, 0, 1, 0, 0])\n",
    "areavecdict['1f-left'] =  np.array([1, 1, 0, 0, 0, 1, 0])\n",
    "areavecdict['1f-right'] = np.array([1, 1, 0, 0, 0, 0, 1])\n",
    "areavecdict['2f-inner'] = np.array([1, 0, 1, 0, 1, 0, 0])\n",
    "areavecdict['2f-left'] =  np.array([1, 0, 1, 0, 0, 1, 0])\n",
    "areavecdict['2f-right'] = np.array([1, 0, 1, 0, 0, 0, 1])"
   ]
  },
  {
   "cell_type": "code",
   "execution_count": 476,
   "metadata": {
    "collapsed": false
   },
   "outputs": [
    {
     "data": {
      "text/plain": [
       "array([ 0.,  0.,  1.,  1.,  1.])"
      ]
     },
     "execution_count": 476,
     "metadata": {},
     "output_type": "execute_result"
    }
   ],
   "source": [
    "ztzt = np.zeros(5)\n",
    "for i in range(2, 5):\n",
    "    ztzt[i] = 1\n",
    "ztzt"
   ]
  },
  {
   "cell_type": "code",
   "execution_count": 481,
   "metadata": {
    "collapsed": false
   },
   "outputs": [],
   "source": [
    "# Future work의 한계를 극복하고 탑티어 컨퍼런스를 만들고 그거슬 저널 확장한후에 프로포절을 하고 또 하나의 state-of-the-art를 만들어서 탑티어 컨퍼런스에서 발표해야 우리 교수님 기준 디펜스가 가능함\n",
    "\n",
    "import itertools\n",
    "import math\n",
    "\n",
    "def getuniqueareas(trajseries):\n",
    "    aggregated_traj = list(itertools.chain.from_iterable(trajseries))\n",
    "    uniqueareas = sorted(list(set(aggregated_traj)))\n",
    "    return uniqueareas\n",
    "\n",
    "        \n",
    "areas = getuniqueareas(df3.traj)\n",
    "\n",
    "\n",
    "# print(str(df3.traj).value_count())\n",
    "def embedding(x, areas):\n",
    "    datalen = len(x.traj)\n",
    "    twod_result = np.zeros((10, 1447)) \n",
    "    for idx in range(datalen):\n",
    "#         print(idx)\n",
    "#         print(twod_result.shape[0])\n",
    "        if(idx < twod_result.shape[0]):\n",
    "            \n",
    "            area_name = x.traj[idx]\n",
    "            area_num = areas.index(area_name)\n",
    "            area_vec = areavecdict.get(area_name)\n",
    "            \n",
    "#             area_vec = np.equal.outer(area_num, np.arange(len(areas))).astype(np.float)\n",
    "#             print(area_num)\n",
    "#             print(area_vec)\n",
    "\n",
    "\n",
    "            starttime_name = x.ts[idx]\n",
    "#             starttime_num = int(starttime_name[:starttime_name.index( ':')]) \n",
    "            starttime_num = int(starttime_name)\n",
    "            snum_refine = (starttime_num /60 % 1440 + 540) % 1440\n",
    "            \n",
    "    \n",
    "#             starttime_name = x.time_start[idx]\n",
    "\n",
    "#             starttime_vec = np.equal.outer(starttime_num, np.arange(24)).astype(np.float)\n",
    "            \n",
    "    #         print(starttime_name)\n",
    "    #         print(starttime_num)\n",
    "    #         print(starttime_vec)\n",
    "    \n",
    "            endtime_name = x.ts_end[idx]\n",
    "            endtime_num = int(endtime_name)\n",
    "            enum_refine = (endtime_num /60 % 1440 + 540) % 1440\n",
    "            \n",
    "            sr = math.floor(snum_refine)\n",
    "            er = math.ceil(enum_refine)\n",
    "            \n",
    "            dt_vec = np.zeros(1440)\n",
    "            for i in range(sr, er):\n",
    "                dt_vec[i] = 1\n",
    "            \n",
    "            \n",
    "            \n",
    "            \n",
    "\n",
    "#             dwelltime_num = int(x.dwell_time[idx])\n",
    "#             print('d', dwelltime_num % 60)\n",
    "\n",
    "            total_vec = np.append(area_vec, dt_vec)\n",
    "#             total_vec = np.append(total_vec, dt_vec)\n",
    "#             print(total_vec)\n",
    "            \n",
    "            twod_result[idx, :] = total_vec\n",
    "    \n",
    "    return twod_result\n",
    "\n",
    "\n",
    "\n",
    "def dataGenerator():\n",
    "    df3 = df2   ## .head(1000)\n",
    "    areas = getuniqueareas(df3.traj)\n",
    "    length = df3.shape[0]\n",
    "    steps = 10\n",
    "    dim = 1447\n",
    "    x = np.zeros((length, steps, dim))\n",
    "    idx = 0\n",
    "    \n",
    "    for row in df3.itertuples():  \n",
    "#         print(len(row.traj))\n",
    "        rowrst = embedding(row, areas)\n",
    "        x[idx, :, :] = rowrst\n",
    "        idx += 1\n",
    "    \n",
    "    x_train = x[:7500, :, :]\n",
    "    x_val = x[7500:,:, :]\n",
    "    \n",
    "    y = np.asarray(pd.get_dummies(df3['revisit_intention']))\n",
    "    y_train = y[:7500, :]\n",
    "    y_val = y[7500:, :]\n",
    "    \n",
    "    return x_train, x_val, y_train, y_val  \n",
    "    \n",
    "\n",
    "    \n",
    "# print(df3.ix[39])\n",
    "# print('-----')\n",
    "# print(embedding(df3.ix[1], areas))\n",
    "\n",
    "x_train, x_val, y_train, y_val = dataGenerator()\n",
    "\n"
   ]
  },
  {
   "cell_type": "code",
   "execution_count": 452,
   "metadata": {
    "collapsed": false
   },
   "outputs": [
    {
     "data": {
      "text/plain": [
       "10"
      ]
     },
     "execution_count": 452,
     "metadata": {},
     "output_type": "execute_result"
    }
   ],
   "source": [
    "x_val.shape[1]"
   ]
  },
  {
   "cell_type": "code",
   "execution_count": 270,
   "metadata": {
    "collapsed": false,
    "scrolled": true
   },
   "outputs": [],
   "source": [
    "# def embedding(x):\n",
    "    \n",
    "    \n",
    "    \n",
    "#     a = np.zeros(0)\n",
    "#     b = len(x.traj)\n",
    "#     c = len(x.time_start)\n",
    "#     d = len(x.dwell_time)\n",
    "#     e = x.revisit_intention\n",
    "#     a = np.append(a, b)\n",
    "#     a = np.append(a, c)\n",
    "#     a = np.append(a, d)\n",
    "#     a = np.append(a, e)\n",
    "#     return a\n",
    "\n",
    "# def dataGenerator():\n",
    "#     df3 = df2.head(1000)\n",
    "    \n",
    "#     length = df3.shape[0]\n",
    "#     steps = 1\n",
    "#     dim = 3\n",
    "#     x = np.zeros((length, steps, dim))\n",
    "#     idx = 0\n",
    "#     for row in df3.itertuples():  \n",
    "#         b = len(row.traj)\n",
    "#         c = len(row.time_start)\n",
    "#         d = len(row.dwell_time)\n",
    "#         rowrst = np.asarray([b, c, d])\n",
    "#         x[idx, 0] = rowrst\n",
    "#         idx += 1\n",
    "    \n",
    "#     x_train = x[:900, :, :]\n",
    "#     x_val = x[900:,:, :]\n",
    "    \n",
    "#     y = np.asarray(pd.get_dummies(dff['revisit_intention']))\n",
    "#     y_train = y[:900, :]\n",
    "#     y_val = y[900:, :]\n",
    "    \n",
    "#     return x_train, x_val, y_train, y_val     \n",
    "\n",
    "# #     df3['result'] = df3.apply(lambda x: embedding(x), axis=1)\n",
    "# #     result = np.asarray(df3['result'])\n",
    "# #     return result\n",
    "    \n",
    "# x_train, x_val, y_train, y_val = dataGenerator()\n",
    "\n"
   ]
  },
  {
   "cell_type": "code",
   "execution_count": 497,
   "metadata": {
    "collapsed": false
   },
   "outputs": [
    {
     "name": "stdout",
     "output_type": "stream",
     "text": [
      "Train on 7500 samples, validate on 1386 samples\n",
      "Epoch 1/20\n",
      "7500/7500 [==============================] - 17s - loss: 0.6811 - acc: 0.5537 - val_loss: 0.6831 - val_acc: 0.5455\n",
      "Epoch 2/20\n",
      "7500/7500 [==============================] - 12s - loss: 0.6694 - acc: 0.5799 - val_loss: 0.6797 - val_acc: 0.5693\n",
      "Epoch 3/20\n",
      "7500/7500 [==============================] - 11s - loss: 0.6613 - acc: 0.5947 - val_loss: 0.6795 - val_acc: 0.5649\n",
      "Epoch 4/20\n",
      "7500/7500 [==============================] - 11s - loss: 0.6520 - acc: 0.6115 - val_loss: 0.7058 - val_acc: 0.5527\n",
      "Epoch 5/20\n",
      "7500/7500 [==============================] - 11s - loss: 0.6422 - acc: 0.6251 - val_loss: 0.7077 - val_acc: 0.5433\n",
      "Epoch 6/20\n",
      "7500/7500 [==============================] - 11s - loss: 0.6316 - acc: 0.6391 - val_loss: 0.7061 - val_acc: 0.5527\n",
      "Epoch 7/20\n",
      "7500/7500 [==============================] - 12s - loss: 0.6190 - acc: 0.6497 - val_loss: 0.7042 - val_acc: 0.5519\n",
      "Epoch 8/20\n",
      "7500/7500 [==============================] - 11s - loss: 0.6081 - acc: 0.6635 - val_loss: 0.7252 - val_acc: 0.5512\n",
      "Epoch 9/20\n",
      "7500/7500 [==============================] - 12s - loss: 0.5935 - acc: 0.6811 - val_loss: 0.7659 - val_acc: 0.5397\n",
      "Epoch 10/20\n",
      "7500/7500 [==============================] - 11s - loss: 0.5777 - acc: 0.6892 - val_loss: 0.7658 - val_acc: 0.5310\n",
      "Epoch 11/20\n",
      "7500/7500 [==============================] - 11s - loss: 0.5627 - acc: 0.7059 - val_loss: 0.7671 - val_acc: 0.5274\n",
      "Epoch 12/20\n",
      "7500/7500 [==============================] - 12s - loss: 0.5450 - acc: 0.7124 - val_loss: 0.7785 - val_acc: 0.5491\n",
      "Epoch 13/20\n",
      "7500/7500 [==============================] - 12s - loss: 0.5290 - acc: 0.7271 - val_loss: 0.8486 - val_acc: 0.5469\n",
      "Epoch 14/20\n",
      "7500/7500 [==============================] - 11s - loss: 0.5110 - acc: 0.7399 - val_loss: 0.8895 - val_acc: 0.5289\n",
      "Epoch 15/20\n",
      "7500/7500 [==============================] - 11s - loss: 0.4964 - acc: 0.7520 - val_loss: 0.8950 - val_acc: 0.5260\n",
      "Epoch 16/20\n",
      "7500/7500 [==============================] - 11s - loss: 0.4768 - acc: 0.7616 - val_loss: 0.9326 - val_acc: 0.5332\n",
      "Epoch 17/20\n",
      "7500/7500 [==============================] - 11s - loss: 0.4593 - acc: 0.7768 - val_loss: 0.9967 - val_acc: 0.5310\n",
      "Epoch 18/20\n",
      "7500/7500 [==============================] - 11s - loss: 0.4372 - acc: 0.7945 - val_loss: 0.9842 - val_acc: 0.5325\n",
      "Epoch 19/20\n",
      "7500/7500 [==============================] - 11s - loss: 0.4235 - acc: 0.7961 - val_loss: 0.9781 - val_acc: 0.5238\n",
      "Epoch 20/20\n",
      "7500/7500 [==============================] - 11s - loss: 0.4021 - acc: 0.8155 - val_loss: 1.0897 - val_acc: 0.5202\n"
     ]
    },
    {
     "data": {
      "text/plain": [
       "<keras.callbacks.History at 0x208d25ba8>"
      ]
     },
     "execution_count": 497,
     "metadata": {},
     "output_type": "execute_result"
    }
   ],
   "source": [
    "from keras.models import Sequential\n",
    "from keras.layers import LSTM, Dense\n",
    "import numpy as np\n",
    "\n",
    "data_dim = x_val.shape[2]\n",
    "timesteps = x_val.shape[1]\n",
    "nb_classes = 2\n",
    "\n",
    "# def modelGenerator():\n",
    "model = Sequential()\n",
    "model.add(LSTM(32, return_sequences=True,\n",
    "               input_shape=(timesteps, data_dim)))  # returns a sequence of vectors of dimension 32\n",
    "model.add(LSTM(32, return_sequences=True))  # returns a sequence of vectors of dimension 32\n",
    "model.add(LSTM(32))  # return a single vector of dimension 32\n",
    "model.add(Dense(2, activation='softmax'))\n",
    "\n",
    "model.compile(loss='binary_crossentropy',\n",
    "              optimizer='rmsprop',\n",
    "              metrics=['accuracy'])\n",
    "\n",
    "# # generate dummy training data\n",
    "# x_train = np.random.random((1000, timesteps, data_dim))\n",
    "# y_train = np.random.random((1000, nb_classes))\n",
    "\n",
    "# # generate dummy validation data\n",
    "# x_val = np.random.random((100, timesteps, data_dim))\n",
    "# y_val = np.random.random((100, nb_classes))\n",
    "\n",
    "model.fit(x_train, y_train,\n",
    "          batch_size=64, nb_epoch=20,\n",
    "          validation_data=(x_val, y_val))\n",
    "\n",
    "\n",
    "\n",
    "\n",
    "# def LSTMtrial(x_train, y_train):\n",
    "    \n",
    "    "
   ]
  },
  {
   "cell_type": "code",
   "execution_count": null,
   "metadata": {
    "collapsed": true
   },
   "outputs": [],
   "source": []
  },
  {
   "cell_type": "code",
   "execution_count": null,
   "metadata": {
    "collapsed": true
   },
   "outputs": [],
   "source": [
    "# data_dim = 16\n",
    "# timesteps = 1\n",
    "# nb_classes = 10\n",
    "\n",
    "# # expected input data shape: (batch_size, timesteps, data_dim)\n",
    "# model = Sequential()\n",
    "# model.add(LSTM(32, return_sequences=True,\n",
    "#                input_shape=(timesteps, data_dim)))  # returns a sequence of vectors of dimension 32\n",
    "# model.add(LSTM(32, return_sequences=True))  # returns a sequence of vectors of dimension 32\n",
    "# model.add(LSTM(32))  # return a single vector of dimension 32\n",
    "# model.add(Dense(10, activation='softmax'))\n",
    "\n",
    "# model.compile(loss='categorical_crossentropy',\n",
    "#               optimizer='rmsprop',\n",
    "#               metrics=['accuracy'])\n",
    "\n",
    "# # generate dummy training data\n",
    "# x_train = np.random.random((1000, timesteps, data_dim))\n",
    "# y_train = np.random.random((1000, nb_classes))\n",
    "\n",
    "# # generate dummy validation data\n",
    "# x_val = np.random.random((100, timesteps, data_dim))\n",
    "# y_val = np.random.random((100, nb_classes))\n",
    "\n",
    "# model.fit(x_train, y_train,\n",
    "#           batch_size=64, nb_epoch=20,\n",
    "#           validation_data=(x_val, y_val))"
   ]
  },
  {
   "cell_type": "code",
   "execution_count": null,
   "metadata": {
    "collapsed": true
   },
   "outputs": [],
   "source": []
  },
  {
   "cell_type": "code",
   "execution_count": null,
   "metadata": {
    "collapsed": true
   },
   "outputs": [],
   "source": []
  },
  {
   "cell_type": "code",
   "execution_count": null,
   "metadata": {
    "collapsed": true
   },
   "outputs": [],
   "source": [
    "#Stratified K-Fold  (https://github.com/fchollet/keras/issues/1711)\n",
    "### http://machinelearningmastery.com/evaluate-performance-deep-learning-models-keras/\n",
    "\n",
    "\n",
    "from sklearn.cross_validation import StratifiedKFold\n",
    "\n",
    "def load_data():\n",
    "    # load your data using this function\n",
    "\n",
    "def create model():\n",
    "    # create your model using this function\n",
    "\n",
    "def train_and_evaluate__model(model, data[train], labels[train], data[test], labels[test)):\n",
    "    model.fit...\n",
    "    # fit and evaluate here.\n",
    "\n",
    "if __name__ == \"__main__\":\n",
    "    n_folds = 10\n",
    "    data, labels, header_info = load_data()\n",
    "    skf = StratifiedKFold(labels, n_folds=n_folds, shuffle=True)\n",
    "\n",
    "    for i, (train, test) in enumerate(skf):\n",
    "            print \"Running Fold\", i+1, \"/\", n_folds\n",
    "            model = None # Clearing the NN.\n",
    "            model = create_model()\n",
    "            train_and_evaluate_model(model, data[train], labels[train], data[test], labels[test))"
   ]
  },
  {
   "cell_type": "code",
   "execution_count": null,
   "metadata": {
    "collapsed": true
   },
   "outputs": [],
   "source": []
  },
  {
   "cell_type": "code",
   "execution_count": null,
   "metadata": {
    "collapsed": true
   },
   "outputs": [],
   "source": []
  },
  {
   "cell_type": "code",
   "execution_count": null,
   "metadata": {
    "collapsed": true
   },
   "outputs": [],
   "source": []
  },
  {
   "cell_type": "code",
   "execution_count": null,
   "metadata": {
    "collapsed": true
   },
   "outputs": [],
   "source": []
  },
  {
   "cell_type": "code",
   "execution_count": null,
   "metadata": {
    "collapsed": true
   },
   "outputs": [],
   "source": []
  },
  {
   "cell_type": "markdown",
   "metadata": {},
   "source": [
    "## Other examples (Not directly related to our project from here)"
   ]
  },
  {
   "cell_type": "code",
   "execution_count": 34,
   "metadata": {
    "collapsed": false
   },
   "outputs": [
    {
     "name": "stdout",
     "output_type": "stream",
     "text": [
      "Train on 1000 samples, validate on 100 samples\n",
      "Epoch 1/20\n",
      "1000/1000 [==============================] - 1s - loss: 11.5468 - acc: 0.0980 - val_loss: 12.0041 - val_acc: 0.1200\n",
      "Epoch 2/20\n",
      "1000/1000 [==============================] - 0s - loss: 11.5459 - acc: 0.0940 - val_loss: 12.0037 - val_acc: 0.1700\n",
      "Epoch 3/20\n",
      "1000/1000 [==============================] - 0s - loss: 11.5457 - acc: 0.1060 - val_loss: 12.0038 - val_acc: 0.1600\n",
      "Epoch 4/20\n",
      "1000/1000 [==============================] - 0s - loss: 11.5456 - acc: 0.1090 - val_loss: 12.0037 - val_acc: 0.1700\n",
      "Epoch 5/20\n",
      "1000/1000 [==============================] - 0s - loss: 11.5453 - acc: 0.1110 - val_loss: 12.0039 - val_acc: 0.1600\n",
      "Epoch 6/20\n",
      "1000/1000 [==============================] - 0s - loss: 11.5451 - acc: 0.1030 - val_loss: 12.0039 - val_acc: 0.1700\n",
      "Epoch 7/20\n",
      "1000/1000 [==============================] - 0s - loss: 11.5449 - acc: 0.1050 - val_loss: 12.0037 - val_acc: 0.1600\n",
      "Epoch 8/20\n",
      "1000/1000 [==============================] - 0s - loss: 11.5446 - acc: 0.1030 - val_loss: 12.0033 - val_acc: 0.1600\n",
      "Epoch 9/20\n",
      "1000/1000 [==============================] - 0s - loss: 11.5443 - acc: 0.1140 - val_loss: 12.0034 - val_acc: 0.1800\n",
      "Epoch 10/20\n",
      "1000/1000 [==============================] - 0s - loss: 11.5440 - acc: 0.1030 - val_loss: 12.0034 - val_acc: 0.1700\n",
      "Epoch 11/20\n",
      "1000/1000 [==============================] - 0s - loss: 11.5438 - acc: 0.1020 - val_loss: 12.0032 - val_acc: 0.1800\n",
      "Epoch 12/20\n",
      "1000/1000 [==============================] - 0s - loss: 11.5433 - acc: 0.1110 - val_loss: 12.0035 - val_acc: 0.1300\n",
      "Epoch 13/20\n",
      "1000/1000 [==============================] - 0s - loss: 11.5429 - acc: 0.1140 - val_loss: 12.0036 - val_acc: 0.1600\n",
      "Epoch 14/20\n",
      "1000/1000 [==============================] - 0s - loss: 11.5425 - acc: 0.1230 - val_loss: 12.0033 - val_acc: 0.1600\n",
      "Epoch 15/20\n",
      "1000/1000 [==============================] - 0s - loss: 11.5421 - acc: 0.1150 - val_loss: 12.0035 - val_acc: 0.1600\n",
      "Epoch 16/20\n",
      "1000/1000 [==============================] - 0s - loss: 11.5417 - acc: 0.1230 - val_loss: 12.0031 - val_acc: 0.1500\n",
      "Epoch 17/20\n",
      "1000/1000 [==============================] - 0s - loss: 11.5413 - acc: 0.1320 - val_loss: 12.0032 - val_acc: 0.1400\n",
      "Epoch 18/20\n",
      "1000/1000 [==============================] - 0s - loss: 11.5407 - acc: 0.1280 - val_loss: 12.0042 - val_acc: 0.1300\n",
      "Epoch 19/20\n",
      "1000/1000 [==============================] - 0s - loss: 11.5405 - acc: 0.1230 - val_loss: 12.0035 - val_acc: 0.1400\n",
      "Epoch 20/20\n",
      "1000/1000 [==============================] - 0s - loss: 11.5400 - acc: 0.1310 - val_loss: 12.0036 - val_acc: 0.1500\n"
     ]
    },
    {
     "data": {
      "text/plain": [
       "<keras.callbacks.History at 0x1256c0898>"
      ]
     },
     "execution_count": 34,
     "metadata": {},
     "output_type": "execute_result"
    }
   ],
   "source": [
    "from keras.models import Sequential\n",
    "from keras.layers import LSTM, Dense\n",
    "import numpy as np\n",
    "\n",
    "data_dim = 16\n",
    "timesteps = 1\n",
    "nb_classes = 10\n",
    "\n",
    "# expected input data shape: (batch_size, timesteps, data_dim)\n",
    "model = Sequential()\n",
    "model.add(LSTM(32, return_sequences=True,\n",
    "               input_shape=(timesteps, data_dim)))  # returns a sequence of vectors of dimension 32\n",
    "model.add(LSTM(32, return_sequences=True))  # returns a sequence of vectors of dimension 32\n",
    "model.add(LSTM(32))  # return a single vector of dimension 32\n",
    "model.add(Dense(10, activation='softmax'))\n",
    "\n",
    "model.compile(loss='categorical_crossentropy',\n",
    "              optimizer='rmsprop',\n",
    "              metrics=['accuracy'])\n",
    "\n",
    "# generate dummy training data\n",
    "x_train = np.random.random((1000, timesteps, data_dim))\n",
    "y_train = np.random.random((1000, nb_classes))\n",
    "\n",
    "# generate dummy validation data\n",
    "x_val = np.random.random((100, timesteps, data_dim))\n",
    "y_val = np.random.random((100, nb_classes))\n",
    "\n",
    "model.fit(x_train, y_train,\n",
    "          batch_size=64, nb_epoch=20,\n",
    "          validation_data=(x_val, y_val))"
   ]
  },
  {
   "cell_type": "code",
   "execution_count": 31,
   "metadata": {
    "collapsed": false
   },
   "outputs": [
    {
     "data": {
      "text/plain": [
       "(100, 8, 16)"
      ]
     },
     "execution_count": 31,
     "metadata": {},
     "output_type": "execute_result"
    }
   ],
   "source": [
    "x_val.shape"
   ]
  },
  {
   "cell_type": "code",
   "execution_count": 32,
   "metadata": {
    "collapsed": false
   },
   "outputs": [
    {
     "data": {
      "text/plain": [
       "(100, 10)"
      ]
     },
     "execution_count": 32,
     "metadata": {},
     "output_type": "execute_result"
    }
   ],
   "source": [
    "y_val.shape"
   ]
  },
  {
   "cell_type": "code",
   "execution_count": 429,
   "metadata": {
    "collapsed": false,
    "scrolled": true
   },
   "outputs": [
    {
     "name": "stdout",
     "output_type": "stream",
     "text": [
      "Loading data...\n"
     ]
    }
   ],
   "source": [
    "'''Compare LSTM implementations on the IMDB sentiment classification task.\n",
    "consume_less='cpu' preprocesses input to the LSTM which typically results in\n",
    "faster computations at the expense of increased peak memory usage as the\n",
    "preprocessed input must be kept in memory.\n",
    "consume_less='mem' does away with the preprocessing, meaning that it might take\n",
    "a little longer, but should require less peak memory.\n",
    "consume_less='gpu' concatenates the input, output and forget gate's weights\n",
    "into one, large matrix, resulting in faster computation time as the GPU can\n",
    "utilize more cores, at the expense of reduced regularization because the same\n",
    "dropout is shared across the gates.\n",
    "Note that the relative performance of the different `consume_less` modes\n",
    "can vary depending on your device, your model and the size of your data.\n",
    "'''\n",
    "\n",
    "import time\n",
    "import numpy as np\n",
    "import matplotlib.pyplot as plt\n",
    "\n",
    "from keras.preprocessing import sequence\n",
    "from keras.models import Sequential\n",
    "from keras.layers import Embedding, Dense, LSTM\n",
    "from keras.datasets import imdb\n",
    "import tensorflow as tf\n",
    "tf.python.control_flow_ops = tf\n",
    "\n",
    "max_features = 20000\n",
    "max_length = 80\n",
    "embedding_dim = 256\n",
    "batch_size = 128\n",
    "epochs = 10\n",
    "modes = ['cpu', 'mem', 'gpu']\n",
    "\n",
    "print('Loading data...')\n",
    "(X_train, y_train), (X_test, y_test) = imdb.load_data(nb_words=max_features)\n",
    "X_train = sequence.pad_sequences(X_train, max_length)\n",
    "X_test = sequence.pad_sequences(X_test, max_length)\n",
    "\n"
   ]
  },
  {
   "cell_type": "code",
   "execution_count": 430,
   "metadata": {
    "collapsed": false
   },
   "outputs": [
    {
     "data": {
      "text/plain": [
       "80"
      ]
     },
     "execution_count": 430,
     "metadata": {},
     "output_type": "execute_result"
    }
   ],
   "source": [
    "len(X_train[3])"
   ]
  },
  {
   "cell_type": "code",
   "execution_count": 431,
   "metadata": {
    "collapsed": false
   },
   "outputs": [
    {
     "name": "stdout",
     "output_type": "stream",
     "text": [
      "Testing mode: consume_less=\"cpu\"\n"
     ]
    },
    {
     "name": "stderr",
     "output_type": "stream",
     "text": [
      "/Users/sundong/anaconda/envs/py35/lib/python3.5/site-packages/tensorflow/python/ops/gradients.py:90: UserWarning: Converting sparse IndexedSlices to a dense Tensor of unknown shape. This may consume a large amount of memory.\n",
      "  \"Converting sparse IndexedSlices to a dense Tensor of unknown shape. \"\n"
     ]
    },
    {
     "name": "stdout",
     "output_type": "stream",
     "text": [
      "Train on 25000 samples, validate on 25000 samples\n",
      "Epoch 1/10\n",
      "25000/25000 [==============================] - 602s - loss: 0.5455 - acc: 0.7157 - val_loss: 0.4051 - val_acc: 0.8210\n",
      "Epoch 2/10\n",
      "25000/25000 [==============================] - 635s - loss: 0.3822 - acc: 0.8353 - val_loss: 0.3721 - val_acc: 0.8371\n",
      "Epoch 3/10\n",
      "25000/25000 [==============================] - 719s - loss: 0.3192 - acc: 0.8673 - val_loss: 0.3989 - val_acc: 0.8286\n",
      "Epoch 4/10\n",
      "23296/25000 [==========================>...] - ETA: 29s - loss: 0.2750 - acc: 0.8865"
     ]
    },
    {
     "ename": "KeyboardInterrupt",
     "evalue": "",
     "output_type": "error",
     "traceback": [
      "\u001b[0;31m---------------------------------------------------------------------------\u001b[0m",
      "\u001b[0;31mKeyboardInterrupt\u001b[0m                         Traceback (most recent call last)",
      "\u001b[0;32m<ipython-input-431-9d759df588ad>\u001b[0m in \u001b[0;36m<module>\u001b[0;34m()\u001b[0m\n\u001b[1;32m     16\u001b[0m                         \u001b[0mbatch_size\u001b[0m\u001b[0;34m=\u001b[0m\u001b[0mbatch_size\u001b[0m\u001b[0;34m,\u001b[0m\u001b[0;34m\u001b[0m\u001b[0m\n\u001b[1;32m     17\u001b[0m                         \u001b[0mnb_epoch\u001b[0m\u001b[0;34m=\u001b[0m\u001b[0mepochs\u001b[0m\u001b[0;34m,\u001b[0m\u001b[0;34m\u001b[0m\u001b[0m\n\u001b[0;32m---> 18\u001b[0;31m                         validation_data=(X_test, y_test))\n\u001b[0m\u001b[1;32m     19\u001b[0m     \u001b[0maverage_time_per_epoch\u001b[0m \u001b[0;34m=\u001b[0m \u001b[0;34m(\u001b[0m\u001b[0mtime\u001b[0m\u001b[0;34m.\u001b[0m\u001b[0mtime\u001b[0m\u001b[0;34m(\u001b[0m\u001b[0;34m)\u001b[0m \u001b[0;34m-\u001b[0m \u001b[0mstart_time\u001b[0m\u001b[0;34m)\u001b[0m \u001b[0;34m/\u001b[0m \u001b[0mepochs\u001b[0m\u001b[0;34m\u001b[0m\u001b[0m\n\u001b[1;32m     20\u001b[0m \u001b[0;34m\u001b[0m\u001b[0m\n",
      "\u001b[0;32m/Users/sundong/anaconda/envs/py35/lib/python3.5/site-packages/keras/models.py\u001b[0m in \u001b[0;36mfit\u001b[0;34m(self, x, y, batch_size, nb_epoch, verbose, callbacks, validation_split, validation_data, shuffle, class_weight, sample_weight, **kwargs)\u001b[0m\n\u001b[1;32m    595\u001b[0m                               \u001b[0mshuffle\u001b[0m\u001b[0;34m=\u001b[0m\u001b[0mshuffle\u001b[0m\u001b[0;34m,\u001b[0m\u001b[0;34m\u001b[0m\u001b[0m\n\u001b[1;32m    596\u001b[0m                               \u001b[0mclass_weight\u001b[0m\u001b[0;34m=\u001b[0m\u001b[0mclass_weight\u001b[0m\u001b[0;34m,\u001b[0m\u001b[0;34m\u001b[0m\u001b[0m\n\u001b[0;32m--> 597\u001b[0;31m                               sample_weight=sample_weight)\n\u001b[0m\u001b[1;32m    598\u001b[0m \u001b[0;34m\u001b[0m\u001b[0m\n\u001b[1;32m    599\u001b[0m     def evaluate(self, x, y, batch_size=32, verbose=1,\n",
      "\u001b[0;32m/Users/sundong/anaconda/envs/py35/lib/python3.5/site-packages/keras/engine/training.py\u001b[0m in \u001b[0;36mfit\u001b[0;34m(self, x, y, batch_size, nb_epoch, verbose, callbacks, validation_split, validation_data, shuffle, class_weight, sample_weight)\u001b[0m\n\u001b[1;32m   1105\u001b[0m                               \u001b[0mverbose\u001b[0m\u001b[0;34m=\u001b[0m\u001b[0mverbose\u001b[0m\u001b[0;34m,\u001b[0m \u001b[0mcallbacks\u001b[0m\u001b[0;34m=\u001b[0m\u001b[0mcallbacks\u001b[0m\u001b[0;34m,\u001b[0m\u001b[0;34m\u001b[0m\u001b[0m\n\u001b[1;32m   1106\u001b[0m                               \u001b[0mval_f\u001b[0m\u001b[0;34m=\u001b[0m\u001b[0mval_f\u001b[0m\u001b[0;34m,\u001b[0m \u001b[0mval_ins\u001b[0m\u001b[0;34m=\u001b[0m\u001b[0mval_ins\u001b[0m\u001b[0;34m,\u001b[0m \u001b[0mshuffle\u001b[0m\u001b[0;34m=\u001b[0m\u001b[0mshuffle\u001b[0m\u001b[0;34m,\u001b[0m\u001b[0;34m\u001b[0m\u001b[0m\n\u001b[0;32m-> 1107\u001b[0;31m                               callback_metrics=callback_metrics)\n\u001b[0m\u001b[1;32m   1108\u001b[0m \u001b[0;34m\u001b[0m\u001b[0m\n\u001b[1;32m   1109\u001b[0m     \u001b[0;32mdef\u001b[0m \u001b[0mevaluate\u001b[0m\u001b[0;34m(\u001b[0m\u001b[0mself\u001b[0m\u001b[0;34m,\u001b[0m \u001b[0mx\u001b[0m\u001b[0;34m,\u001b[0m \u001b[0my\u001b[0m\u001b[0;34m,\u001b[0m \u001b[0mbatch_size\u001b[0m\u001b[0;34m=\u001b[0m\u001b[0;36m32\u001b[0m\u001b[0;34m,\u001b[0m \u001b[0mverbose\u001b[0m\u001b[0;34m=\u001b[0m\u001b[0;36m1\u001b[0m\u001b[0;34m,\u001b[0m \u001b[0msample_weight\u001b[0m\u001b[0;34m=\u001b[0m\u001b[0;32mNone\u001b[0m\u001b[0;34m)\u001b[0m\u001b[0;34m:\u001b[0m\u001b[0;34m\u001b[0m\u001b[0m\n",
      "\u001b[0;32m/Users/sundong/anaconda/envs/py35/lib/python3.5/site-packages/keras/engine/training.py\u001b[0m in \u001b[0;36m_fit_loop\u001b[0;34m(self, f, ins, out_labels, batch_size, nb_epoch, verbose, callbacks, val_f, val_ins, shuffle, callback_metrics)\u001b[0m\n\u001b[1;32m    823\u001b[0m                 \u001b[0mbatch_logs\u001b[0m\u001b[0;34m[\u001b[0m\u001b[0;34m'size'\u001b[0m\u001b[0;34m]\u001b[0m \u001b[0;34m=\u001b[0m \u001b[0mlen\u001b[0m\u001b[0;34m(\u001b[0m\u001b[0mbatch_ids\u001b[0m\u001b[0;34m)\u001b[0m\u001b[0;34m\u001b[0m\u001b[0m\n\u001b[1;32m    824\u001b[0m                 \u001b[0mcallbacks\u001b[0m\u001b[0;34m.\u001b[0m\u001b[0mon_batch_begin\u001b[0m\u001b[0;34m(\u001b[0m\u001b[0mbatch_index\u001b[0m\u001b[0;34m,\u001b[0m \u001b[0mbatch_logs\u001b[0m\u001b[0;34m)\u001b[0m\u001b[0;34m\u001b[0m\u001b[0m\n\u001b[0;32m--> 825\u001b[0;31m                 \u001b[0mouts\u001b[0m \u001b[0;34m=\u001b[0m \u001b[0mf\u001b[0m\u001b[0;34m(\u001b[0m\u001b[0mins_batch\u001b[0m\u001b[0;34m)\u001b[0m\u001b[0;34m\u001b[0m\u001b[0m\n\u001b[0m\u001b[1;32m    826\u001b[0m                 \u001b[0;32mif\u001b[0m \u001b[0mtype\u001b[0m\u001b[0;34m(\u001b[0m\u001b[0mouts\u001b[0m\u001b[0;34m)\u001b[0m \u001b[0;34m!=\u001b[0m \u001b[0mlist\u001b[0m\u001b[0;34m:\u001b[0m\u001b[0;34m\u001b[0m\u001b[0m\n\u001b[1;32m    827\u001b[0m                     \u001b[0mouts\u001b[0m \u001b[0;34m=\u001b[0m \u001b[0;34m[\u001b[0m\u001b[0mouts\u001b[0m\u001b[0;34m]\u001b[0m\u001b[0;34m\u001b[0m\u001b[0m\n",
      "\u001b[0;32m/Users/sundong/anaconda/envs/py35/lib/python3.5/site-packages/keras/backend/tensorflow_backend.py\u001b[0m in \u001b[0;36m__call__\u001b[0;34m(self, inputs)\u001b[0m\n\u001b[1;32m    932\u001b[0m         \u001b[0mfeed_dict\u001b[0m \u001b[0;34m=\u001b[0m \u001b[0mdict\u001b[0m\u001b[0;34m(\u001b[0m\u001b[0mzip\u001b[0m\u001b[0;34m(\u001b[0m\u001b[0mnames\u001b[0m\u001b[0;34m,\u001b[0m \u001b[0minputs\u001b[0m\u001b[0;34m)\u001b[0m\u001b[0;34m)\u001b[0m\u001b[0;34m\u001b[0m\u001b[0m\n\u001b[1;32m    933\u001b[0m         \u001b[0msession\u001b[0m \u001b[0;34m=\u001b[0m \u001b[0mget_session\u001b[0m\u001b[0;34m(\u001b[0m\u001b[0;34m)\u001b[0m\u001b[0;34m\u001b[0m\u001b[0m\n\u001b[0;32m--> 934\u001b[0;31m         \u001b[0mupdated\u001b[0m \u001b[0;34m=\u001b[0m \u001b[0msession\u001b[0m\u001b[0;34m.\u001b[0m\u001b[0mrun\u001b[0m\u001b[0;34m(\u001b[0m\u001b[0mself\u001b[0m\u001b[0;34m.\u001b[0m\u001b[0moutputs\u001b[0m \u001b[0;34m+\u001b[0m \u001b[0;34m[\u001b[0m\u001b[0mself\u001b[0m\u001b[0;34m.\u001b[0m\u001b[0mupdates_op\u001b[0m\u001b[0;34m]\u001b[0m\u001b[0;34m,\u001b[0m \u001b[0mfeed_dict\u001b[0m\u001b[0;34m=\u001b[0m\u001b[0mfeed_dict\u001b[0m\u001b[0;34m)\u001b[0m\u001b[0;34m\u001b[0m\u001b[0m\n\u001b[0m\u001b[1;32m    935\u001b[0m         \u001b[0;32mreturn\u001b[0m \u001b[0mupdated\u001b[0m\u001b[0;34m[\u001b[0m\u001b[0;34m:\u001b[0m\u001b[0mlen\u001b[0m\u001b[0;34m(\u001b[0m\u001b[0mself\u001b[0m\u001b[0;34m.\u001b[0m\u001b[0moutputs\u001b[0m\u001b[0;34m)\u001b[0m\u001b[0;34m]\u001b[0m\u001b[0;34m\u001b[0m\u001b[0m\n\u001b[1;32m    936\u001b[0m \u001b[0;34m\u001b[0m\u001b[0m\n",
      "\u001b[0;32m/Users/sundong/anaconda/envs/py35/lib/python3.5/site-packages/tensorflow/python/client/session.py\u001b[0m in \u001b[0;36mrun\u001b[0;34m(self, fetches, feed_dict, options, run_metadata)\u001b[0m\n\u001b[1;32m    715\u001b[0m     \u001b[0;32mtry\u001b[0m\u001b[0;34m:\u001b[0m\u001b[0;34m\u001b[0m\u001b[0m\n\u001b[1;32m    716\u001b[0m       result = self._run(None, fetches, feed_dict, options_ptr,\n\u001b[0;32m--> 717\u001b[0;31m                          run_metadata_ptr)\n\u001b[0m\u001b[1;32m    718\u001b[0m       \u001b[0;32mif\u001b[0m \u001b[0mrun_metadata\u001b[0m\u001b[0;34m:\u001b[0m\u001b[0;34m\u001b[0m\u001b[0m\n\u001b[1;32m    719\u001b[0m         \u001b[0mproto_data\u001b[0m \u001b[0;34m=\u001b[0m \u001b[0mtf_session\u001b[0m\u001b[0;34m.\u001b[0m\u001b[0mTF_GetBuffer\u001b[0m\u001b[0;34m(\u001b[0m\u001b[0mrun_metadata_ptr\u001b[0m\u001b[0;34m)\u001b[0m\u001b[0;34m\u001b[0m\u001b[0m\n",
      "\u001b[0;32m/Users/sundong/anaconda/envs/py35/lib/python3.5/site-packages/tensorflow/python/client/session.py\u001b[0m in \u001b[0;36m_run\u001b[0;34m(self, handle, fetches, feed_dict, options, run_metadata)\u001b[0m\n\u001b[1;32m    913\u001b[0m     \u001b[0;32mif\u001b[0m \u001b[0mfinal_fetches\u001b[0m \u001b[0;32mor\u001b[0m \u001b[0mfinal_targets\u001b[0m\u001b[0;34m:\u001b[0m\u001b[0;34m\u001b[0m\u001b[0m\n\u001b[1;32m    914\u001b[0m       results = self._do_run(handle, final_targets, final_fetches,\n\u001b[0;32m--> 915\u001b[0;31m                              feed_dict_string, options, run_metadata)\n\u001b[0m\u001b[1;32m    916\u001b[0m     \u001b[0;32melse\u001b[0m\u001b[0;34m:\u001b[0m\u001b[0;34m\u001b[0m\u001b[0m\n\u001b[1;32m    917\u001b[0m       \u001b[0mresults\u001b[0m \u001b[0;34m=\u001b[0m \u001b[0;34m[\u001b[0m\u001b[0;34m]\u001b[0m\u001b[0;34m\u001b[0m\u001b[0m\n",
      "\u001b[0;32m/Users/sundong/anaconda/envs/py35/lib/python3.5/site-packages/tensorflow/python/client/session.py\u001b[0m in \u001b[0;36m_do_run\u001b[0;34m(self, handle, target_list, fetch_list, feed_dict, options, run_metadata)\u001b[0m\n\u001b[1;32m    963\u001b[0m     \u001b[0;32mif\u001b[0m \u001b[0mhandle\u001b[0m \u001b[0;32mis\u001b[0m \u001b[0;32mNone\u001b[0m\u001b[0;34m:\u001b[0m\u001b[0;34m\u001b[0m\u001b[0m\n\u001b[1;32m    964\u001b[0m       return self._do_call(_run_fn, self._session, feed_dict, fetch_list,\n\u001b[0;32m--> 965\u001b[0;31m                            target_list, options, run_metadata)\n\u001b[0m\u001b[1;32m    966\u001b[0m     \u001b[0;32melse\u001b[0m\u001b[0;34m:\u001b[0m\u001b[0;34m\u001b[0m\u001b[0m\n\u001b[1;32m    967\u001b[0m       return self._do_call(_prun_fn, self._session, handle, feed_dict,\n",
      "\u001b[0;32m/Users/sundong/anaconda/envs/py35/lib/python3.5/site-packages/tensorflow/python/client/session.py\u001b[0m in \u001b[0;36m_do_call\u001b[0;34m(self, fn, *args)\u001b[0m\n\u001b[1;32m    970\u001b[0m   \u001b[0;32mdef\u001b[0m \u001b[0m_do_call\u001b[0m\u001b[0;34m(\u001b[0m\u001b[0mself\u001b[0m\u001b[0;34m,\u001b[0m \u001b[0mfn\u001b[0m\u001b[0;34m,\u001b[0m \u001b[0;34m*\u001b[0m\u001b[0margs\u001b[0m\u001b[0;34m)\u001b[0m\u001b[0;34m:\u001b[0m\u001b[0;34m\u001b[0m\u001b[0m\n\u001b[1;32m    971\u001b[0m     \u001b[0;32mtry\u001b[0m\u001b[0;34m:\u001b[0m\u001b[0;34m\u001b[0m\u001b[0m\n\u001b[0;32m--> 972\u001b[0;31m       \u001b[0;32mreturn\u001b[0m \u001b[0mfn\u001b[0m\u001b[0;34m(\u001b[0m\u001b[0;34m*\u001b[0m\u001b[0margs\u001b[0m\u001b[0;34m)\u001b[0m\u001b[0;34m\u001b[0m\u001b[0m\n\u001b[0m\u001b[1;32m    973\u001b[0m     \u001b[0;32mexcept\u001b[0m \u001b[0merrors\u001b[0m\u001b[0;34m.\u001b[0m\u001b[0mOpError\u001b[0m \u001b[0;32mas\u001b[0m \u001b[0me\u001b[0m\u001b[0;34m:\u001b[0m\u001b[0;34m\u001b[0m\u001b[0m\n\u001b[1;32m    974\u001b[0m       \u001b[0mmessage\u001b[0m \u001b[0;34m=\u001b[0m \u001b[0mcompat\u001b[0m\u001b[0;34m.\u001b[0m\u001b[0mas_text\u001b[0m\u001b[0;34m(\u001b[0m\u001b[0me\u001b[0m\u001b[0;34m.\u001b[0m\u001b[0mmessage\u001b[0m\u001b[0;34m)\u001b[0m\u001b[0;34m\u001b[0m\u001b[0m\n",
      "\u001b[0;32m/Users/sundong/anaconda/envs/py35/lib/python3.5/site-packages/tensorflow/python/client/session.py\u001b[0m in \u001b[0;36m_run_fn\u001b[0;34m(session, feed_dict, fetch_list, target_list, options, run_metadata)\u001b[0m\n\u001b[1;32m    952\u001b[0m         return tf_session.TF_Run(session, options,\n\u001b[1;32m    953\u001b[0m                                  \u001b[0mfeed_dict\u001b[0m\u001b[0;34m,\u001b[0m \u001b[0mfetch_list\u001b[0m\u001b[0;34m,\u001b[0m \u001b[0mtarget_list\u001b[0m\u001b[0;34m,\u001b[0m\u001b[0;34m\u001b[0m\u001b[0m\n\u001b[0;32m--> 954\u001b[0;31m                                  status, run_metadata)\n\u001b[0m\u001b[1;32m    955\u001b[0m \u001b[0;34m\u001b[0m\u001b[0m\n\u001b[1;32m    956\u001b[0m     \u001b[0;32mdef\u001b[0m \u001b[0m_prun_fn\u001b[0m\u001b[0;34m(\u001b[0m\u001b[0msession\u001b[0m\u001b[0;34m,\u001b[0m \u001b[0mhandle\u001b[0m\u001b[0;34m,\u001b[0m \u001b[0mfeed_dict\u001b[0m\u001b[0;34m,\u001b[0m \u001b[0mfetch_list\u001b[0m\u001b[0;34m)\u001b[0m\u001b[0;34m:\u001b[0m\u001b[0;34m\u001b[0m\u001b[0m\n",
      "\u001b[0;31mKeyboardInterrupt\u001b[0m: "
     ]
    }
   ],
   "source": [
    "# Compile and train different models while meauring performance.\n",
    "results = []\n",
    "for mode in modes:\n",
    "    print('Testing mode: consume_less=\"{}\"'.format(mode))\n",
    "\n",
    "    model = Sequential()\n",
    "    model.add(Embedding(max_features, embedding_dim, input_length=max_length, dropout=0.2))\n",
    "    model.add(LSTM(embedding_dim, dropout_W=0.2, dropout_U=0.2, consume_less=mode))\n",
    "    model.add(Dense(1, activation='sigmoid'))\n",
    "    model.compile(loss='binary_crossentropy',\n",
    "                  optimizer='adam',\n",
    "                  metrics=['accuracy'])\n",
    "\n",
    "    start_time = time.time()\n",
    "    history = model.fit(X_train, y_train,\n",
    "                        batch_size=batch_size,\n",
    "                        nb_epoch=epochs,\n",
    "                        validation_data=(X_test, y_test))\n",
    "    average_time_per_epoch = (time.time() - start_time) / epochs\n",
    "\n",
    "    results.append((history, average_time_per_epoch))\n",
    "\n",
    "# Compare models' accuracy, loss and elapsed time per epoch.\n",
    "plt.style.use('ggplot')\n",
    "ax1 = plt.subplot2grid((2, 2), (0, 0))\n",
    "ax1.set_title('Accuracy')\n",
    "ax1.set_ylabel('Validation Accuracy')\n",
    "ax1.set_xlabel('Epochs')\n",
    "ax2 = plt.subplot2grid((2, 2), (1, 0))\n",
    "ax2.set_title('Loss')\n",
    "ax2.set_ylabel('Validation Loss')\n",
    "ax2.set_xlabel('Epochs')\n",
    "ax3 = plt.subplot2grid((2, 2), (0, 1), rowspan=2)\n",
    "ax3.set_title('Time')\n",
    "ax3.set_ylabel('Seconds')\n",
    "for mode, result in zip(modes, results):\n",
    "    ax1.plot(result[0].epoch, result[0].history['val_acc'], label=mode)\n",
    "    ax2.plot(result[0].epoch, result[0].history['val_loss'], label=mode)\n",
    "ax1.legend()\n",
    "ax2.legend()\n",
    "ax3.bar(np.arange(len(results)), [x[1] for x in results],\n",
    "        tick_label=modes, align='center')\n",
    "plt.tight_layout()\n",
    "plt.show()"
   ]
  },
  {
   "cell_type": "code",
   "execution_count": 36,
   "metadata": {
    "collapsed": false
   },
   "outputs": [
    {
     "name": "stdout",
     "output_type": "stream",
     "text": [
      "Generating Data\n",
      "Input shape: (50000, 1, 1)\n",
      "Output shape\n",
      "(50000, 1)\n",
      "Creating Model\n",
      "Training\n",
      "Epoch 0 / 25\n",
      "Epoch 1/1\n",
      "50000/50000 [==============================] - 21s - loss: 351.3465    \n",
      "Epoch 1 / 25\n",
      "Epoch 1/1\n",
      "50000/50000 [==============================] - 23s - loss: 171.3398    \n",
      "Epoch 2 / 25\n",
      "Epoch 1/1\n",
      "50000/50000 [==============================] - 26s - loss: 93.2602    \n",
      "Epoch 3 / 25\n",
      "Epoch 1/1\n",
      "50000/50000 [==============================] - 23s - loss: 60.4686    \n",
      "Epoch 4 / 25\n",
      "Epoch 1/1\n",
      "50000/50000 [==============================] - 28s - loss: 46.5839    \n",
      "Epoch 5 / 25\n",
      "Epoch 1/1\n",
      "50000/50000 [==============================] - 20s - loss: 35.5704    \n",
      "Epoch 6 / 25\n",
      "Epoch 1/1\n",
      "50000/50000 [==============================] - 18s - loss: 21.8389    \n",
      "Epoch 7 / 25\n",
      "Epoch 1/1\n",
      "50000/50000 [==============================] - 16s - loss: 16.1920    \n",
      "Epoch 8 / 25\n",
      "Epoch 1/1\n",
      "50000/50000 [==============================] - 16s - loss: 13.3390    \n",
      "Epoch 9 / 25\n",
      "Epoch 1/1\n",
      "50000/50000 [==============================] - 16s - loss: 10.5758    \n",
      "Epoch 10 / 25\n",
      "Epoch 1/1\n",
      "50000/50000 [==============================] - 17s - loss: 8.8063    \n",
      "Epoch 11 / 25\n",
      "Epoch 1/1\n",
      "50000/50000 [==============================] - 20s - loss: 7.3773    \n",
      "Epoch 12 / 25\n",
      "Epoch 1/1\n",
      "50000/50000 [==============================] - 27s - loss: 6.3475    \n",
      "Epoch 13 / 25\n",
      "Epoch 1/1\n",
      "50000/50000 [==============================] - 26s - loss: 5.6289    \n",
      "Epoch 14 / 25\n",
      "Epoch 1/1\n",
      "50000/50000 [==============================] - 29s - loss: 6.1465    \n",
      "Epoch 15 / 25\n",
      "Epoch 1/1\n",
      "50000/50000 [==============================] - 20s - loss: 5.6031    \n",
      "Epoch 16 / 25\n",
      "Epoch 1/1\n",
      "50000/50000 [==============================] - 19s - loss: 4.9063    \n",
      "Epoch 17 / 25\n",
      "Epoch 1/1\n",
      "50000/50000 [==============================] - 20s - loss: 5.5068    \n",
      "Epoch 18 / 25\n",
      "Epoch 1/1\n",
      "50000/50000 [==============================] - 22s - loss: 4.4726    \n",
      "Epoch 19 / 25\n",
      "Epoch 1/1\n",
      "50000/50000 [==============================] - 23s - loss: 5.0388    \n",
      "Epoch 20 / 25\n",
      "Epoch 1/1\n",
      "50000/50000 [==============================] - 20s - loss: 4.6618    \n",
      "Epoch 21 / 25\n",
      "Epoch 1/1\n",
      "50000/50000 [==============================] - 20s - loss: 3.8356    \n",
      "Epoch 22 / 25\n",
      "Epoch 1/1\n",
      "50000/50000 [==============================] - 18s - loss: 4.0736    \n",
      "Epoch 23 / 25\n",
      "Epoch 1/1\n",
      "50000/50000 [==============================] - 15s - loss: 3.9417    \n",
      "Epoch 24 / 25\n",
      "Epoch 1/1\n",
      "50000/50000 [==============================] - 13s - loss: 7.7293    \n",
      "Predicting\n",
      "Plotting Results\n"
     ]
    },
    {
     "data": {
      "image/png": "[encoded data removed]",
      "text/plain": [
       "<matplotlib.figure.Figure at 0x12be30860>"
      ]
     },
     "metadata": {},
     "output_type": "display_data"
    }
   ],
   "source": [
    "'''Example script showing how to use stateful RNNs\n",
    "to model long sequences efficiently.\n",
    "'''\n",
    "\n",
    "%matplotlib inline\n",
    "from __future__ import print_function\n",
    "import numpy as np\n",
    "import matplotlib.pyplot as plt\n",
    "from keras.models import Sequential\n",
    "from keras.layers import Dense, LSTM\n",
    "\n",
    "\n",
    "# since we are using stateful rnn tsteps can be set to 1\n",
    "tsteps = 1\n",
    "batch_size = 25\n",
    "epochs = 25\n",
    "# number of elements ahead that are used to make the prediction\n",
    "lahead = 1\n",
    "\n",
    "\n",
    "def gen_cosine_amp(amp=100, period=1000, x0=0, xn=50000, step=1, k=0.0001):\n",
    "    \"\"\"Generates an absolute cosine time series with the amplitude\n",
    "    exponentially decreasing\n",
    "    Arguments:\n",
    "        amp: amplitude of the cosine function\n",
    "        period: period of the cosine function\n",
    "        x0: initial x of the time series\n",
    "        xn: final x of the time series\n",
    "        step: step of the time series discretization\n",
    "        k: exponential rate\n",
    "    \"\"\"\n",
    "    cos = np.zeros(((xn - x0) * step, 1, 1))\n",
    "    for i in range(len(cos)):\n",
    "        idx = x0 + i * step\n",
    "        cos[i, 0, 0] = amp * np.cos(2 * np.pi * idx / period)\n",
    "        cos[i, 0, 0] = cos[i, 0, 0] * np.exp(-k * idx)\n",
    "    return cos\n",
    "\n",
    "\n",
    "print('Generating Data')\n",
    "cos = gen_cosine_amp()\n",
    "print('Input shape:', cos.shape)\n",
    "\n",
    "expected_output = np.zeros((len(cos), 1))\n",
    "for i in range(len(cos) - lahead):\n",
    "    expected_output[i, 0] = np.mean(cos[i + 1:i + lahead + 1])\n",
    "\n",
    "print('Output shape')\n",
    "print(expected_output.shape)\n",
    "\n",
    "print('Creating Model')\n",
    "model = Sequential()\n",
    "model.add(LSTM(50,\n",
    "               batch_input_shape=(batch_size, tsteps, 1),\n",
    "               return_sequences=True,\n",
    "               stateful=True))\n",
    "model.add(LSTM(50,\n",
    "               batch_input_shape=(batch_size, tsteps, 1),\n",
    "               return_sequences=False,\n",
    "               stateful=True))\n",
    "model.add(Dense(1))\n",
    "model.compile(loss='mse', optimizer='rmsprop')\n",
    "\n",
    "print('Training')\n",
    "for i in range(epochs):\n",
    "    print('Epoch', i, '/', epochs)\n",
    "    model.fit(cos,\n",
    "              expected_output,\n",
    "              batch_size=batch_size,\n",
    "              verbose=1,\n",
    "              nb_epoch=1,\n",
    "              shuffle=False)\n",
    "    model.reset_states()\n",
    "\n",
    "print('Predicting')\n",
    "predicted_output = model.predict(cos, batch_size=batch_size)\n",
    "\n",
    "print('Plotting Results')\n",
    "plt.subplot(2, 1, 1)\n",
    "plt.plot(expected_output)\n",
    "plt.title('Expected')\n",
    "plt.subplot(2, 1, 2)\n",
    "plt.plot(predicted_output)\n",
    "plt.title('Predicted')\n",
    "plt.show()"
   ]
  },
  {
   "cell_type": "code",
   "execution_count": null,
   "metadata": {
    "collapsed": true
   },
   "outputs": [],
   "source": []
  },
  {
   "cell_type": "code",
   "execution_count": null,
   "metadata": {
    "collapsed": true
   },
   "outputs": [],
   "source": []
  },
  {
   "cell_type": "code",
   "execution_count": null,
   "metadata": {
    "collapsed": true
   },
   "outputs": [],
   "source": []
  },
  {
   "cell_type": "code",
   "execution_count": null,
   "metadata": {
    "collapsed": true
   },
   "outputs": [],
   "source": []
  },
  {
   "cell_type": "code",
   "execution_count": null,
   "metadata": {
    "collapsed": true
   },
   "outputs": [],
   "source": []
  },
  {
   "cell_type": "code",
   "execution_count": null,
   "metadata": {
    "collapsed": true
   },
   "outputs": [],
   "source": []
  },
  {
   "cell_type": "code",
   "execution_count": null,
   "metadata": {
    "collapsed": true
   },
   "outputs": [],
   "source": []
  }
 ],
 "metadata": {
  "anaconda-cloud": {},
  "kernelspec": {
   "display_name": "Python [py35]",
   "language": "python",
   "name": "Python [py35]"
  },
  "language_info": {
   "codemirror_mode": {
    "name": "ipython",
    "version": 3
   },
   "file_extension": ".py",
   "mimetype": "text/x-python",
   "name": "python",
   "nbconvert_exporter": "python",
   "pygments_lexer": "ipython3",
   "version": "3.5.2"
  }
 },
 "nbformat": 4,
 "nbformat_minor": 0
}
