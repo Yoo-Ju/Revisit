{
 "cells": [
  {
   "cell_type": "code",
   "execution_count": 10,
   "metadata": {
    "collapsed": true
   },
   "outputs": [],
   "source": [
    "import pickle\n",
    "import pandas as pd\n",
    "import subprocess\n",
    "import itertools"
   ]
  },
  {
   "cell_type": "code",
   "execution_count": 3,
   "metadata": {
    "collapsed": false
   },
   "outputs": [],
   "source": [
    "df = pd.read_pickle('../data/786/786_trajs_combined_balanced.p')"
   ]
  },
  {
   "cell_type": "code",
   "execution_count": 15,
   "metadata": {
    "collapsed": false
   },
   "outputs": [],
   "source": [
    "def getuniqueareas(trajseries):\n",
    "    aggregated_traj = list(itertools.chain.from_iterable(trajseries))\n",
    "    uniqueareas = sorted(list(set(aggregated_traj)))\n",
    "    return uniqueareas"
   ]
  },
  {
   "cell_type": "code",
   "execution_count": 38,
   "metadata": {
    "collapsed": false
   },
   "outputs": [
    {
     "name": "stdout",
     "output_type": "stream",
     "text": [
      "{'1f-inner': 2, 'out': 11, '1f-right': 4, '2f': 5, 'in': 10, '3f': 9, '1f-left': 3, '1f': 1, '2f-inner': 6, '2f-left': 7, '2f-right': 8}\n"
     ]
    }
   ],
   "source": [
    "\n",
    "\n",
    "arealist = getuniqueareas(df.traj)\n",
    "areadict = {}\n",
    "\n",
    "i = 1\n",
    "for item in arealist:\n",
    "    areadict[item] = i\n",
    "    i += 1\n",
    "    \n",
    "print(areadict)"
   ]
  },
  {
   "cell_type": "code",
   "execution_count": 63,
   "metadata": {
    "collapsed": false
   },
   "outputs": [],
   "source": [
    "f = open('../code/code/spmftestsample.txt', 'w')\n",
    "\n",
    "num = 0\n",
    "for i, item in enumerate(df.traj.head(1000)):\n",
    "    if(i > 0):\n",
    "        f.write('\\n')\n",
    "    num += 1\n",
    "    item2 = []\n",
    "    for area in item:\n",
    "        item2.append(areadict[area])\n",
    "        item2.append(-1)\n",
    "    item2.append(-2)\n",
    "    eachline = ' '.join(map(str, item2))\n",
    "    f.write(eachline)\n",
    "    \n",
    "f.close()"
   ]
  },
  {
   "cell_type": "code",
   "execution_count": null,
   "metadata": {
    "collapsed": true
   },
   "outputs": [],
   "source": []
  }
 ],
 "metadata": {
  "anaconda-cloud": {},
  "kernelspec": {
   "display_name": "Python [py35]",
   "language": "python",
   "name": "Python [py35]"
  },
  "language_info": {
   "codemirror_mode": {
    "name": "ipython",
    "version": 3
   },
   "file_extension": ".py",
   "mimetype": "text/x-python",
   "name": "python",
   "nbconvert_exporter": "python",
   "pygments_lexer": "ipython3",
   "version": "3.5.2"
  }
 },
 "nbformat": 4,
 "nbformat_minor": 0
}
