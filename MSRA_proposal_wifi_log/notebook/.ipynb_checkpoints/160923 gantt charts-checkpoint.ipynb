{
 "cells": [
  {
   "cell_type": "code",
   "execution_count": 39,
   "metadata": {
    "collapsed": true
   },
   "outputs": [],
   "source": [
    "import pickle\n",
    "import pandas as pd\n",
    "import numpy as np\n",
    "import plotly.plotly as py\n",
    "from plotly.tools import FigureFactory as FF\n",
    "import datetime"
   ]
  },
  {
   "cell_type": "code",
   "execution_count": 2,
   "metadata": {
    "collapsed": false
   },
   "outputs": [
    {
     "data": {
      "text/html": [
       "<div>\n",
       "<table border=\"1\" class=\"dataframe\">\n",
       "  <thead>\n",
       "    <tr style=\"text-align: right;\">\n",
       "      <th></th>\n",
       "      <th>date_device_id</th>\n",
       "      <th>logs</th>\n",
       "      <th>traj</th>\n",
       "      <th>ts_area</th>\n",
       "      <th>dwelltime_area</th>\n",
       "      <th>hour_start</th>\n",
       "      <th>time_start</th>\n",
       "      <th>ts_area_end</th>\n",
       "      <th>hour_end</th>\n",
       "      <th>time_end</th>\n",
       "    </tr>\n",
       "  </thead>\n",
       "  <tbody>\n",
       "    <tr>\n",
       "      <th>0</th>\n",
       "      <td>16675_02614c7588f7f8eaa0d3b9047ac08410</td>\n",
       "      <td>[4121217, 4121026, 4121023, 4121020, 4121003, ...</td>\n",
       "      <td>[out, in, 1f, 1f-right, 2f-left, 2f, 2f-right]</td>\n",
       "      <td>[1440750511, 1440751239, 1440751250, 144075126...</td>\n",
       "      <td>[857, 128, 118, 108, 20, 28, 8]</td>\n",
       "      <td>[17, 17, 17, 17, 17, 17, 17]</td>\n",
       "      <td>[17:28:31, 17:40:39, 17:40:50, 17:41:00, 17:41...</td>\n",
       "      <td>[1440751368, 1440751367, 1440751368, 144075136...</td>\n",
       "      <td>[17, 17, 17, 17, 17, 17, 17]</td>\n",
       "      <td>[17:42:48, 17:42:47, 17:42:48, 17:42:48, 17:42...</td>\n",
       "    </tr>\n",
       "    <tr>\n",
       "      <th>1</th>\n",
       "      <td>16675_028a1f4dbca00ed06814fdda60f1b599</td>\n",
       "      <td>[4126375, 4126196, 4126195, 4126145, 4126140, ...</td>\n",
       "      <td>[out, in, 3f, 2f, 2f-right, 2f-inner, 2f-left,...</td>\n",
       "      <td>[1440725175, 1440726721, 1440726721, 144072701...</td>\n",
       "      <td>[3548, 1293, 405, 552, 418, 18, 6, 389, 266, 2...</td>\n",
       "      <td>[10, 10, 10, 10, 10, 11, 11, 11, 11, 11, 11]</td>\n",
       "      <td>[10:26:15, 10:52:01, 10:52:01, 10:56:57, 10:57...</td>\n",
       "      <td>[1440728723, 1440728014, 1440727126, 144072756...</td>\n",
       "      <td>[11, 11, 10, 11, 11, 11, 11, 11, 11, 11, 11]</td>\n",
       "      <td>[11:25:23, 11:13:34, 10:58:46, 11:06:09, 11:04...</td>\n",
       "    </tr>\n",
       "    <tr>\n",
       "      <th>2</th>\n",
       "      <td>16675_062c73a8b307fd05f6af2472a35671ef</td>\n",
       "      <td>[4120452, 4120375, 4120373, 4120262]</td>\n",
       "      <td>[out, in, 1f, 1f-inner]</td>\n",
       "      <td>[1440753481, 1440753683, 1440753683, 1440754065]</td>\n",
       "      <td>[986, 565, 565, 73]</td>\n",
       "      <td>[18, 18, 18, 18]</td>\n",
       "      <td>[18:18:01, 18:21:23, 18:21:23, 18:27:45]</td>\n",
       "      <td>[1440754467, 1440754248, 1440754248, 1440754138]</td>\n",
       "      <td>[18, 18, 18, 18]</td>\n",
       "      <td>[18:34:27, 18:30:48, 18:30:48, 18:28:58]</td>\n",
       "    </tr>\n",
       "    <tr>\n",
       "      <th>3</th>\n",
       "      <td>16675_06c041f68ec481883941d47d99d6903f</td>\n",
       "      <td>[4126346, 4126191, 4126190, 4125983, 4125982, ...</td>\n",
       "      <td>[out, in, 3f, in, 1f, out]</td>\n",
       "      <td>[1440725586, 1440726737, 1440726737, 144072778...</td>\n",
       "      <td>[2957, 200, 168, 459, 459, 16]</td>\n",
       "      <td>[10, 10, 10, 11, 11, 12]</td>\n",
       "      <td>[10:33:06, 10:52:17, 10:52:17, 11:09:40, 11:09...</td>\n",
       "      <td>[1440728543, 1440726937, 1440726905, 144072823...</td>\n",
       "      <td>[11, 10, 10, 11, 11, 12]</td>\n",
       "      <td>[11:22:23, 10:55:37, 10:55:05, 11:17:19, 11:17...</td>\n",
       "    </tr>\n",
       "    <tr>\n",
       "      <th>4</th>\n",
       "      <td>16675_0a47ed78e921824cf54dddcf49ae2911</td>\n",
       "      <td>[4121129, 4120855]</td>\n",
       "      <td>[out, in]</td>\n",
       "      <td>[1440750876, 1440751945]</td>\n",
       "      <td>[2179, 457]</td>\n",
       "      <td>[17, 17]</td>\n",
       "      <td>[17:34:36, 17:52:25]</td>\n",
       "      <td>[1440753055, 1440752402]</td>\n",
       "      <td>[18, 18]</td>\n",
       "      <td>[18:10:55, 18:00:02]</td>\n",
       "    </tr>\n",
       "  </tbody>\n",
       "</table>\n",
       "</div>"
      ],
      "text/plain": [
       "                           date_device_id  \\\n",
       "0  16675_02614c7588f7f8eaa0d3b9047ac08410   \n",
       "1  16675_028a1f4dbca00ed06814fdda60f1b599   \n",
       "2  16675_062c73a8b307fd05f6af2472a35671ef   \n",
       "3  16675_06c041f68ec481883941d47d99d6903f   \n",
       "4  16675_0a47ed78e921824cf54dddcf49ae2911   \n",
       "\n",
       "                                                logs  \\\n",
       "0  [4121217, 4121026, 4121023, 4121020, 4121003, ...   \n",
       "1  [4126375, 4126196, 4126195, 4126145, 4126140, ...   \n",
       "2               [4120452, 4120375, 4120373, 4120262]   \n",
       "3  [4126346, 4126191, 4126190, 4125983, 4125982, ...   \n",
       "4                                 [4121129, 4120855]   \n",
       "\n",
       "                                                traj  \\\n",
       "0     [out, in, 1f, 1f-right, 2f-left, 2f, 2f-right]   \n",
       "1  [out, in, 3f, 2f, 2f-right, 2f-inner, 2f-left,...   \n",
       "2                            [out, in, 1f, 1f-inner]   \n",
       "3                         [out, in, 3f, in, 1f, out]   \n",
       "4                                          [out, in]   \n",
       "\n",
       "                                             ts_area  \\\n",
       "0  [1440750511, 1440751239, 1440751250, 144075126...   \n",
       "1  [1440725175, 1440726721, 1440726721, 144072701...   \n",
       "2   [1440753481, 1440753683, 1440753683, 1440754065]   \n",
       "3  [1440725586, 1440726737, 1440726737, 144072778...   \n",
       "4                           [1440750876, 1440751945]   \n",
       "\n",
       "                                      dwelltime_area  \\\n",
       "0                    [857, 128, 118, 108, 20, 28, 8]   \n",
       "1  [3548, 1293, 405, 552, 418, 18, 6, 389, 266, 2...   \n",
       "2                                [986, 565, 565, 73]   \n",
       "3                     [2957, 200, 168, 459, 459, 16]   \n",
       "4                                        [2179, 457]   \n",
       "\n",
       "                                     hour_start  \\\n",
       "0                  [17, 17, 17, 17, 17, 17, 17]   \n",
       "1  [10, 10, 10, 10, 10, 11, 11, 11, 11, 11, 11]   \n",
       "2                              [18, 18, 18, 18]   \n",
       "3                      [10, 10, 10, 11, 11, 12]   \n",
       "4                                      [17, 17]   \n",
       "\n",
       "                                          time_start  \\\n",
       "0  [17:28:31, 17:40:39, 17:40:50, 17:41:00, 17:41...   \n",
       "1  [10:26:15, 10:52:01, 10:52:01, 10:56:57, 10:57...   \n",
       "2           [18:18:01, 18:21:23, 18:21:23, 18:27:45]   \n",
       "3  [10:33:06, 10:52:17, 10:52:17, 11:09:40, 11:09...   \n",
       "4                               [17:34:36, 17:52:25]   \n",
       "\n",
       "                                         ts_area_end  \\\n",
       "0  [1440751368, 1440751367, 1440751368, 144075136...   \n",
       "1  [1440728723, 1440728014, 1440727126, 144072756...   \n",
       "2   [1440754467, 1440754248, 1440754248, 1440754138]   \n",
       "3  [1440728543, 1440726937, 1440726905, 144072823...   \n",
       "4                           [1440753055, 1440752402]   \n",
       "\n",
       "                                       hour_end  \\\n",
       "0                  [17, 17, 17, 17, 17, 17, 17]   \n",
       "1  [11, 11, 10, 11, 11, 11, 11, 11, 11, 11, 11]   \n",
       "2                              [18, 18, 18, 18]   \n",
       "3                      [11, 10, 10, 11, 11, 12]   \n",
       "4                                      [18, 18]   \n",
       "\n",
       "                                            time_end  \n",
       "0  [17:42:48, 17:42:47, 17:42:48, 17:42:48, 17:42...  \n",
       "1  [11:25:23, 11:13:34, 10:58:46, 11:06:09, 11:04...  \n",
       "2           [18:34:27, 18:30:48, 18:30:48, 18:28:58]  \n",
       "3  [11:22:23, 10:55:37, 10:55:05, 11:17:19, 11:17...  \n",
       "4                               [18:10:55, 18:00:02]  "
      ]
     },
     "execution_count": 2,
     "metadata": {},
     "output_type": "execute_result"
    }
   ],
   "source": [
    "mpframe = pd.read_pickle(\"../data/786/786_mpframe_160923.p\")\n",
    "mpframe.head(5)   ### Show raw data"
   ]
  },
  {
   "cell_type": "code",
   "execution_count": 3,
   "metadata": {
    "collapsed": true
   },
   "outputs": [],
   "source": [
    "lenlogs = np.asarray([len(x) for x in mpframe.logs])\n",
    "indxx = np.argsort(lenlogs, )\n",
    "largg = indxx[::-1]"
   ]
  },
  {
   "cell_type": "code",
   "execution_count": 45,
   "metadata": {
    "collapsed": true
   },
   "outputs": [],
   "source": [
    "def ganttprint(mfs, i):\n",
    "    \n",
    "    qa = mfs['traj'].ix[i] + [1000*y for y in mfs['ts_area'].ix[i]] + [1000*z for z in mfs['ts_area_end'].ix[i]]\n",
    "    l = int(len(qa)/3)\n",
    "    qb = np.asarray(qa)\n",
    "    shape = ( 3,l )\n",
    "    qc = qb.reshape( shape ).T\n",
    "    qd = pd.DataFrame(qc, columns=['Task', 'Start', 'Finish'])\n",
    "    qd['Start'] = qd['Start'].astype('int') \n",
    "    qd['Finish'] = qd['Finish'].astype('int')\n",
    "    qd['Complete'] = np.arange(40, 60, (60-40)/l)\n",
    "    qd['t_start'] = qd['Start'].apply(lambda x: datetime.datetime.fromtimestamp(x/1000).strftime('%H:%M:%S'))\n",
    "    qd['t_end'] = qd['Finish'].apply(lambda x: datetime.datetime.fromtimestamp(x/1000).strftime('%H:%M:%S'))\n",
    "    # .as_matrix()\n",
    "\n",
    "    return qd"
   ]
  },
  {
   "cell_type": "code",
   "execution_count": 47,
   "metadata": {
    "collapsed": false
   },
   "outputs": [
    {
     "data": {
      "text/html": [
       "<div>\n",
       "<table border=\"1\" class=\"dataframe\">\n",
       "  <thead>\n",
       "    <tr style=\"text-align: right;\">\n",
       "      <th></th>\n",
       "      <th>Task</th>\n",
       "      <th>t_start</th>\n",
       "      <th>t_end</th>\n",
       "    </tr>\n",
       "  </thead>\n",
       "  <tbody>\n",
       "    <tr>\n",
       "      <th>0</th>\n",
       "      <td>out</td>\n",
       "      <td>12:57:30</td>\n",
       "      <td>13:12:19</td>\n",
       "    </tr>\n",
       "    <tr>\n",
       "      <th>1</th>\n",
       "      <td>in</td>\n",
       "      <td>12:57:38</td>\n",
       "      <td>13:12:18</td>\n",
       "    </tr>\n",
       "    <tr>\n",
       "      <th>2</th>\n",
       "      <td>1f-right</td>\n",
       "      <td>12:57:38</td>\n",
       "      <td>12:57:54</td>\n",
       "    </tr>\n",
       "    <tr>\n",
       "      <th>3</th>\n",
       "      <td>1f</td>\n",
       "      <td>12:57:38</td>\n",
       "      <td>12:57:58</td>\n",
       "    </tr>\n",
       "    <tr>\n",
       "      <th>4</th>\n",
       "      <td>2f</td>\n",
       "      <td>13:07:20</td>\n",
       "      <td>13:08:25</td>\n",
       "    </tr>\n",
       "    <tr>\n",
       "      <th>5</th>\n",
       "      <td>2f-left</td>\n",
       "      <td>13:07:30</td>\n",
       "      <td>13:08:15</td>\n",
       "    </tr>\n",
       "    <tr>\n",
       "      <th>6</th>\n",
       "      <td>3f</td>\n",
       "      <td>13:09:37</td>\n",
       "      <td>13:11:49</td>\n",
       "    </tr>\n",
       "    <tr>\n",
       "      <th>7</th>\n",
       "      <td>out</td>\n",
       "      <td>13:40:40</td>\n",
       "      <td>14:15:08</td>\n",
       "    </tr>\n",
       "    <tr>\n",
       "      <th>8</th>\n",
       "      <td>in</td>\n",
       "      <td>13:40:40</td>\n",
       "      <td>14:15:04</td>\n",
       "    </tr>\n",
       "    <tr>\n",
       "      <th>9</th>\n",
       "      <td>1f</td>\n",
       "      <td>13:45:09</td>\n",
       "      <td>14:06:03</td>\n",
       "    </tr>\n",
       "    <tr>\n",
       "      <th>10</th>\n",
       "      <td>1f-right</td>\n",
       "      <td>13:45:30</td>\n",
       "      <td>14:06:03</td>\n",
       "    </tr>\n",
       "    <tr>\n",
       "      <th>11</th>\n",
       "      <td>1f-left</td>\n",
       "      <td>14:02:45</td>\n",
       "      <td>14:05:45</td>\n",
       "    </tr>\n",
       "    <tr>\n",
       "      <th>12</th>\n",
       "      <td>1f-inner</td>\n",
       "      <td>14:05:37</td>\n",
       "      <td>14:05:51</td>\n",
       "    </tr>\n",
       "    <tr>\n",
       "      <th>13</th>\n",
       "      <td>2f</td>\n",
       "      <td>14:06:51</td>\n",
       "      <td>14:08:29</td>\n",
       "    </tr>\n",
       "    <tr>\n",
       "      <th>14</th>\n",
       "      <td>2f-inner</td>\n",
       "      <td>14:06:53</td>\n",
       "      <td>14:07:09</td>\n",
       "    </tr>\n",
       "    <tr>\n",
       "      <th>15</th>\n",
       "      <td>2f-right</td>\n",
       "      <td>14:07:13</td>\n",
       "      <td>14:08:28</td>\n",
       "    </tr>\n",
       "    <tr>\n",
       "      <th>16</th>\n",
       "      <td>3f</td>\n",
       "      <td>14:08:41</td>\n",
       "      <td>14:08:56</td>\n",
       "    </tr>\n",
       "  </tbody>\n",
       "</table>\n",
       "</div>"
      ],
      "text/plain": [
       "        Task   t_start     t_end\n",
       "0        out  12:57:30  13:12:19\n",
       "1         in  12:57:38  13:12:18\n",
       "2   1f-right  12:57:38  12:57:54\n",
       "3         1f  12:57:38  12:57:58\n",
       "4         2f  13:07:20  13:08:25\n",
       "5    2f-left  13:07:30  13:08:15\n",
       "6         3f  13:09:37  13:11:49\n",
       "7        out  13:40:40  14:15:08\n",
       "8         in  13:40:40  14:15:04\n",
       "9         1f  13:45:09  14:06:03\n",
       "10  1f-right  13:45:30  14:06:03\n",
       "11   1f-left  14:02:45  14:05:45\n",
       "12  1f-inner  14:05:37  14:05:51\n",
       "13        2f  14:06:51  14:08:29\n",
       "14  2f-inner  14:06:53  14:07:09\n",
       "15  2f-right  14:07:13  14:08:28\n",
       "16        3f  14:08:41  14:08:56"
      ]
     },
     "execution_count": 47,
     "metadata": {},
     "output_type": "execute_result"
    }
   ],
   "source": [
    "qd = ganttprint(mpframe, largg[30]) "
   ]
  },
  {
   "cell_type": "code",
   "execution_count": 79,
   "metadata": {
    "collapsed": false
   },
   "outputs": [],
   "source": [
    "def printchartlah(i):\n",
    "    print(\"---------------\", i,'th longest moving pattern: Sequence #', largg[i])\n",
    "    qd = ganttprint(mpframe, largg[i])  ## .sort_index(ascending=False)\n",
    "    print(qd[['Task','t_start', 't_end']])\n",
    "    return qd"
   ]
  },
  {
   "cell_type": "code",
   "execution_count": 80,
   "metadata": {
    "collapsed": false
   },
   "outputs": [
    {
     "name": "stdout",
     "output_type": "stream",
     "text": [
      "--------------- 2 th longest moving pattern: Sequence # 14457\n",
      "        Task   t_start     t_end\n",
      "0        out  15:48:29  16:08:19\n",
      "1         in  15:49:19  15:56:26\n",
      "2    1f-left  15:49:19  15:56:26\n",
      "3         1f  15:49:19  15:56:26\n",
      "4   1f-right  15:49:21  15:56:26\n",
      "5   2f-inner  15:49:56  15:55:50\n",
      "6         2f  15:49:56  15:55:50\n",
      "7   2f-right  15:50:04  15:55:50\n",
      "8        out  16:22:38  16:40:52\n",
      "9         in  16:24:20  16:40:51\n",
      "10        1f  16:24:20  16:24:33\n",
      "11  1f-right  16:24:23  16:24:33\n",
      "12  2f-inner  16:24:43  16:24:54\n",
      "13        2f  16:24:43  16:39:34\n",
      "14  2f-right  16:26:19  16:38:36\n",
      "15  2f-inner  16:39:24  16:39:33\n",
      "16        1f  16:39:47  16:40:51\n",
      "17  1f-right  16:39:51  16:40:36\n",
      "18  1f-inner  16:40:03  16:40:48\n",
      "19   1f-left  16:40:03  16:40:51\n",
      "20       out  16:59:04  17:04:21\n",
      "21        in  16:59:04  17:04:13\n",
      "22        1f  16:59:04  17:04:13\n",
      "23  1f-right  16:59:07  17:00:04\n"
     ]
    }
   ],
   "source": [
    "qd2 = printchartlah(2)"
   ]
  },
  {
   "cell_type": "code",
   "execution_count": 62,
   "metadata": {
    "collapsed": false
   },
   "outputs": [
    {
     "data": {
      "text/html": [
       "<iframe id=\"igraph\" scrolling=\"no\" style=\"border:none;\" seamless=\"seamless\" src=\"https://plot.ly/~SundongKim/29.embed\" height=\"600px\" width=\"900px\"></iframe>"
      ],
      "text/plain": [
       "<plotly.tools.PlotlyDisplay object>"
      ]
     },
     "execution_count": 62,
     "metadata": {},
     "output_type": "execute_result"
    }
   ],
   "source": [
    "fig2 = FF.create_gantt(qd2[['Task','Start', 'Finish', 'Complete']], colors='Viridis', index_col='Complete', show_colorbar=True)\n",
    "p2 = py.iplot(fig2, filename='Numeric Variable', world_readable=True)\n",
    "p2"
   ]
  },
  {
   "cell_type": "code",
   "execution_count": 81,
   "metadata": {
    "collapsed": false
   },
   "outputs": [
    {
     "name": "stdout",
     "output_type": "stream",
     "text": [
      "--------------- 30 th longest moving pattern: Sequence # 7790\n",
      "        Task   t_start     t_end\n",
      "0        out  12:57:30  13:12:19\n",
      "1         in  12:57:38  13:12:18\n",
      "2   1f-right  12:57:38  12:57:54\n",
      "3         1f  12:57:38  12:57:58\n",
      "4         2f  13:07:20  13:08:25\n",
      "5    2f-left  13:07:30  13:08:15\n",
      "6         3f  13:09:37  13:11:49\n",
      "7        out  13:40:40  14:15:08\n",
      "8         in  13:40:40  14:15:04\n",
      "9         1f  13:45:09  14:06:03\n",
      "10  1f-right  13:45:30  14:06:03\n",
      "11   1f-left  14:02:45  14:05:45\n",
      "12  1f-inner  14:05:37  14:05:51\n",
      "13        2f  14:06:51  14:08:29\n",
      "14  2f-inner  14:06:53  14:07:09\n",
      "15  2f-right  14:07:13  14:08:28\n",
      "16        3f  14:08:41  14:08:56\n"
     ]
    }
   ],
   "source": [
    "qd30 = printchartlah(30)"
   ]
  },
  {
   "cell_type": "code",
   "execution_count": 64,
   "metadata": {
    "collapsed": false
   },
   "outputs": [
    {
     "data": {
      "text/html": [
       "<iframe id=\"igraph\" scrolling=\"no\" style=\"border:none;\" seamless=\"seamless\" src=\"https://plot.ly/~SundongKim/29.embed\" height=\"600px\" width=\"900px\"></iframe>"
      ],
      "text/plain": [
       "<plotly.tools.PlotlyDisplay object>"
      ]
     },
     "execution_count": 64,
     "metadata": {},
     "output_type": "execute_result"
    }
   ],
   "source": [
    "fig30 = FF.create_gantt(qd30[['Task','Start', 'Finish', 'Complete']], colors='Viridis', index_col='Complete', show_colorbar=True)\n",
    "p30 = py.iplot(fig30, filename='Numeric Variable', world_readable=True)\n",
    "p30"
   ]
  },
  {
   "cell_type": "code",
   "execution_count": 82,
   "metadata": {
    "collapsed": false
   },
   "outputs": [
    {
     "name": "stdout",
     "output_type": "stream",
     "text": [
      "--------------- 84 th longest moving pattern: Sequence # 21289\n",
      "        Task   t_start     t_end\n",
      "0        out  17:52:07  19:04:45\n",
      "1         in  17:52:08  18:12:40\n",
      "2   2f-inner  17:52:48  17:52:52\n",
      "3         2f  17:52:48  18:12:05\n",
      "4   2f-right  17:52:53  17:53:08\n",
      "5         3f  18:00:19  18:09:31\n",
      "6         in  18:28:38  19:04:45\n",
      "7   2f-right  18:28:38  18:33:45\n",
      "8         2f  18:28:38  18:35:17\n",
      "9    2f-left  18:30:36  18:35:17\n",
      "10        3f  18:42:51  18:51:54\n",
      "11        2f  18:51:54  18:58:29\n",
      "12        1f  18:51:56  19:04:45\n",
      "13  1f-right  18:52:28  19:03:46\n",
      "14   1f-left  18:52:33  19:04:45\n"
     ]
    }
   ],
   "source": [
    "qd84 = printchartlah(84)"
   ]
  },
  {
   "cell_type": "code",
   "execution_count": 68,
   "metadata": {
    "collapsed": false
   },
   "outputs": [
    {
     "data": {
      "text/html": [
       "<iframe id=\"igraph\" scrolling=\"no\" style=\"border:none;\" seamless=\"seamless\" src=\"https://plot.ly/~SundongKim/29.embed\" height=\"600px\" width=\"900px\"></iframe>"
      ],
      "text/plain": [
       "<plotly.tools.PlotlyDisplay object>"
      ]
     },
     "execution_count": 68,
     "metadata": {},
     "output_type": "execute_result"
    }
   ],
   "source": [
    "fig84 = FF.create_gantt(qd84[['Task','Start', 'Finish', 'Complete']], colors='Viridis', index_col='Complete', show_colorbar=True)\n",
    "p84 = py.iplot(fig84, filename='Numeric Variable', world_readable=True)\n",
    "p84"
   ]
  },
  {
   "cell_type": "code",
   "execution_count": 83,
   "metadata": {
    "collapsed": false
   },
   "outputs": [
    {
     "name": "stdout",
     "output_type": "stream",
     "text": [
      "--------------- 465 th longest moving pattern: Sequence # 20739\n",
      "        Task   t_start     t_end\n",
      "0        out  17:10:16  17:45:17\n",
      "1         in  17:12:21  17:43:56\n",
      "2         1f  17:12:21  17:43:56\n",
      "3   1f-right  17:12:33  17:15:50\n",
      "4    1f-left  17:13:02  17:15:08\n",
      "5   1f-inner  17:13:15  17:15:51\n",
      "6         2f  17:16:32  17:34:31\n",
      "7    2f-left  17:17:22  17:25:27\n",
      "8   2f-inner  17:18:06  17:34:30\n",
      "9   2f-right  17:19:58  17:23:37\n",
      "10  1f-right  17:35:16  17:43:09\n",
      "11       out  18:04:17  18:06:43\n"
     ]
    }
   ],
   "source": [
    "qd465 = printchartlah(465)"
   ]
  },
  {
   "cell_type": "code",
   "execution_count": 69,
   "metadata": {
    "collapsed": false
   },
   "outputs": [
    {
     "data": {
      "text/html": [
       "<iframe id=\"igraph\" scrolling=\"no\" style=\"border:none;\" seamless=\"seamless\" src=\"https://plot.ly/~SundongKim/29.embed\" height=\"600px\" width=\"900px\"></iframe>"
      ],
      "text/plain": [
       "<plotly.tools.PlotlyDisplay object>"
      ]
     },
     "execution_count": 69,
     "metadata": {},
     "output_type": "execute_result"
    }
   ],
   "source": [
    "fig465 = FF.create_gantt(qd465[['Task','Start', 'Finish', 'Complete']], colors='Viridis', index_col='Complete', show_colorbar=True)\n",
    "p465 = py.iplot(fig465, filename='Numeric Variable', world_readable=True)\n",
    "p465"
   ]
  },
  {
   "cell_type": "code",
   "execution_count": 84,
   "metadata": {
    "collapsed": false
   },
   "outputs": [
    {
     "name": "stdout",
     "output_type": "stream",
     "text": [
      "--------------- 1297 th longest moving pattern: Sequence # 18870\n",
      "       Task   t_start     t_end\n",
      "0       out  14:16:58  14:17:24\n",
      "1       out  14:38:37  14:41:32\n",
      "2       out  14:54:23  15:16:41\n",
      "3        in  15:01:32  15:13:44\n",
      "4        1f  15:01:32  15:13:44\n",
      "5        2f  15:02:00  15:12:07\n",
      "6  2f-inner  15:02:01  15:08:39\n",
      "7   2f-left  15:02:50  15:03:14\n",
      "8  2f-right  15:03:56  15:05:38\n",
      "9  1f-right  15:13:07  15:13:42\n"
     ]
    }
   ],
   "source": [
    "qd1297 = printchartlah(1297)"
   ]
  },
  {
   "cell_type": "code",
   "execution_count": 72,
   "metadata": {
    "collapsed": false
   },
   "outputs": [
    {
     "data": {
      "text/html": [
       "<iframe id=\"igraph\" scrolling=\"no\" style=\"border:none;\" seamless=\"seamless\" src=\"https://plot.ly/~SundongKim/29.embed\" height=\"600px\" width=\"900px\"></iframe>"
      ],
      "text/plain": [
       "<plotly.tools.PlotlyDisplay object>"
      ]
     },
     "execution_count": 72,
     "metadata": {},
     "output_type": "execute_result"
    }
   ],
   "source": [
    "fig1297 = FF.create_gantt(qd1297[['Task','Start', 'Finish', 'Complete']], colors='Viridis', index_col='Complete', show_colorbar=True)\n",
    "p1297 = py.iplot(fig1297, filename='Numeric Variable', world_readable=True)\n",
    "p1297"
   ]
  },
  {
   "cell_type": "code",
   "execution_count": 85,
   "metadata": {
    "collapsed": false
   },
   "outputs": [
    {
     "name": "stdout",
     "output_type": "stream",
     "text": [
      "--------------- 4792 th longest moving pattern: Sequence # 19083\n",
      "       Task   t_start     t_end\n",
      "0       out  15:35:36  16:44:59\n",
      "1        in  16:19:17  16:20:53\n",
      "2        1f  16:19:17  16:20:53\n",
      "3  1f-right  16:19:20  16:20:35\n",
      "4   1f-left  16:19:29  16:20:51\n",
      "5  1f-inner  16:19:32  16:20:07\n",
      "6       out  16:58:08  17:01:17\n"
     ]
    }
   ],
   "source": [
    "qd4792 = printchartlah(4792)"
   ]
  },
  {
   "cell_type": "code",
   "execution_count": 86,
   "metadata": {
    "collapsed": false
   },
   "outputs": [
    {
     "data": {
      "text/html": [
       "<iframe id=\"igraph\" scrolling=\"no\" style=\"border:none;\" seamless=\"seamless\" src=\"https://plot.ly/~SundongKim/29.embed\" height=\"600px\" width=\"900px\"></iframe>"
      ],
      "text/plain": [
       "<plotly.tools.PlotlyDisplay object>"
      ]
     },
     "execution_count": 86,
     "metadata": {},
     "output_type": "execute_result"
    }
   ],
   "source": [
    "fig4792 = FF.create_gantt(qd4792[['Task','Start', 'Finish', 'Complete']], colors='Viridis', index_col='Complete', show_colorbar=True)\n",
    "p4792 = py.iplot(fig4792, filename='Numeric Variable', world_readable=True)\n",
    "p4792"
   ]
  },
  {
   "cell_type": "code",
   "execution_count": 88,
   "metadata": {
    "collapsed": false
   },
   "outputs": [
    {
     "name": "stdout",
     "output_type": "stream",
     "text": [
      "--------------- 7492 th longest moving pattern: Sequence # 11748\n",
      "       Task   t_start     t_end\n",
      "0       out  12:59:27  13:13:54\n",
      "1        in  12:59:27  13:01:48\n",
      "2        2f  12:59:28  13:01:49\n",
      "3  2f-right  12:59:43  13:01:27\n",
      "4   2f-left  12:59:48  13:00:44\n",
      "5  2f-inner  13:01:47  13:01:49\n"
     ]
    }
   ],
   "source": [
    "qd7492 = printchartlah(7492)"
   ]
  },
  {
   "cell_type": "code",
   "execution_count": 94,
   "metadata": {
    "collapsed": false
   },
   "outputs": [
    {
     "data": {
      "text/html": [
       "<iframe id=\"igraph\" scrolling=\"no\" style=\"border:none;\" seamless=\"seamless\" src=\"https://plot.ly/~SundongKim/29.embed\" height=\"600px\" width=\"900px\"></iframe>"
      ],
      "text/plain": [
       "<plotly.tools.PlotlyDisplay object>"
      ]
     },
     "execution_count": 94,
     "metadata": {},
     "output_type": "execute_result"
    }
   ],
   "source": [
    "fig7492 = FF.create_gantt(qd7492[['Task','Start', 'Finish', 'Complete']], colors='Viridis', index_col='Complete', show_colorbar=True)\n",
    "p7492 = py.iplot(fig7492, filename='Numeric Variable', world_readable=True)\n",
    "p7492"
   ]
  },
  {
   "cell_type": "code",
   "execution_count": 95,
   "metadata": {
    "collapsed": false
   },
   "outputs": [
    {
     "name": "stdout",
     "output_type": "stream",
     "text": [
      "--------------- 11902 th longest moving pattern: Sequence # 4713\n",
      "       Task   t_start     t_end\n",
      "0       out  15:19:59  15:40:00\n",
      "1        in  15:19:59  15:39:59\n",
      "2        2f  15:19:59  15:33:43\n",
      "3  2f-right  15:23:31  15:25:06\n"
     ]
    }
   ],
   "source": [
    "qd11902 = printchartlah(11902)"
   ]
  },
  {
   "cell_type": "code",
   "execution_count": 96,
   "metadata": {
    "collapsed": false
   },
   "outputs": [
    {
     "data": {
      "text/html": [
       "<iframe id=\"igraph\" scrolling=\"no\" style=\"border:none;\" seamless=\"seamless\" src=\"https://plot.ly/~SundongKim/29.embed\" height=\"600px\" width=\"900px\"></iframe>"
      ],
      "text/plain": [
       "<plotly.tools.PlotlyDisplay object>"
      ]
     },
     "execution_count": 96,
     "metadata": {},
     "output_type": "execute_result"
    }
   ],
   "source": [
    "fig11902 = FF.create_gantt(qd11902[['Task','Start', 'Finish', 'Complete']], colors='Viridis', index_col='Complete', show_colorbar=True)\n",
    "p11902 = py.iplot(fig11902, filename='Numeric Variable', world_readable=True)\n",
    "p11902"
   ]
  },
  {
   "cell_type": "code",
   "execution_count": 97,
   "metadata": {
    "collapsed": false
   },
   "outputs": [
    {
     "name": "stdout",
     "output_type": "stream",
     "text": [
      "--------------- 17831 th longest moving pattern: Sequence # 18387\n",
      "  Task   t_start     t_end\n",
      "0  out  20:15:30  20:34:54\n",
      "1   in  20:27:01  20:31:26\n",
      "2   1f  20:27:01  20:31:26\n"
     ]
    }
   ],
   "source": [
    "qd17831 = printchartlah(17831)"
   ]
  },
  {
   "cell_type": "code",
   "execution_count": 98,
   "metadata": {
    "collapsed": false
   },
   "outputs": [
    {
     "data": {
      "text/html": [
       "<iframe id=\"igraph\" scrolling=\"no\" style=\"border:none;\" seamless=\"seamless\" src=\"https://plot.ly/~SundongKim/29.embed\" height=\"600px\" width=\"900px\"></iframe>"
      ],
      "text/plain": [
       "<plotly.tools.PlotlyDisplay object>"
      ]
     },
     "execution_count": 98,
     "metadata": {},
     "output_type": "execute_result"
    }
   ],
   "source": [
    "fig17831 = FF.create_gantt(qd17831[['Task','Start', 'Finish', 'Complete']], colors='Viridis', index_col='Complete', show_colorbar=True)\n",
    "p17831 = py.iplot(fig17831, filename='Numeric Variable', world_readable=True)\n",
    "p17831"
   ]
  },
  {
   "cell_type": "code",
   "execution_count": 99,
   "metadata": {
    "collapsed": false
   },
   "outputs": [
    {
     "name": "stdout",
     "output_type": "stream",
     "text": [
      "--------------- 23607 th longest moving pattern: Sequence # 2911\n",
      "  Task   t_start     t_end\n",
      "0  out  11:56:19  12:00:13\n",
      "1   in  11:56:19  12:00:13\n"
     ]
    }
   ],
   "source": [
    "qd23607 = printchartlah(23607)"
   ]
  },
  {
   "cell_type": "code",
   "execution_count": 100,
   "metadata": {
    "collapsed": false
   },
   "outputs": [
    {
     "data": {
      "text/html": [
       "<iframe id=\"igraph\" scrolling=\"no\" style=\"border:none;\" seamless=\"seamless\" src=\"https://plot.ly/~SundongKim/29.embed\" height=\"600px\" width=\"900px\"></iframe>"
      ],
      "text/plain": [
       "<plotly.tools.PlotlyDisplay object>"
      ]
     },
     "execution_count": 100,
     "metadata": {},
     "output_type": "execute_result"
    }
   ],
   "source": [
    "fig23607 = FF.create_gantt(qd23607[['Task','Start', 'Finish', 'Complete']], colors='Viridis', index_col='Complete', show_colorbar=True)\n",
    "p23607 = py.iplot(fig23607, filename='Numeric Variable', world_readable=True)\n",
    "p23607"
   ]
  },
  {
   "cell_type": "code",
   "execution_count": null,
   "metadata": {
    "collapsed": true
   },
   "outputs": [],
   "source": []
  }
 ],
 "metadata": {
  "anaconda-cloud": {},
  "kernelspec": {
   "display_name": "Python [py35]",
   "language": "python",
   "name": "Python [py35]"
  },
  "language_info": {
   "codemirror_mode": {
    "name": "ipython",
    "version": 3
   },
   "file_extension": ".py",
   "mimetype": "text/x-python",
   "name": "python",
   "nbconvert_exporter": "python",
   "pygments_lexer": "ipython3",
   "version": "3.5.2"
  }
 },
 "nbformat": 4,
 "nbformat_minor": 0
}
