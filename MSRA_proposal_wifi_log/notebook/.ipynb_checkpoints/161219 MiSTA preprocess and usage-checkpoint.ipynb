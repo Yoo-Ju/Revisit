{
 "cells": [
  {
   "cell_type": "code",
   "execution_count": 1,
   "metadata": {
    "collapsed": true
   },
   "outputs": [],
   "source": [
    "import pickle\n",
    "import pandas as pd\n",
    "import subprocess\n",
    "import itertools"
   ]
  },
  {
   "cell_type": "code",
   "execution_count": 2,
   "metadata": {
    "collapsed": true
   },
   "outputs": [],
   "source": [
    "df = pd.read_pickle('../data/786/786_trajs_combined_balanced.p')"
   ]
  },
  {
   "cell_type": "code",
   "execution_count": 6,
   "metadata": {
    "collapsed": false
   },
   "outputs": [
    {
     "name": "stdout",
     "output_type": "stream",
     "text": [
      "[266, 263, 263, 198, 156]\n",
      "['out', 'in', '1f', '1f-right', '1f-left']\n"
     ]
    }
   ],
   "source": [
    "print(df.dwell_time[1])\n",
    "print(df.traj[1])"
   ]
  },
  {
   "cell_type": "code",
   "execution_count": null,
   "metadata": {
    "collapsed": true
   },
   "outputs": [],
   "source": [
    "def toSPMFconverter(traj, ts):\n",
    "    \n",
    "    num = 0\n",
    "    for i, item in enumerate(trajs):  \n",
    "        if(i > 0):\n",
    "            f.write('\\n')\n",
    "        num += 1\n",
    "        item2 = []\n",
    "        for area in item:\n",
    "            item2.append(areadict[area])\n",
    "            item2.append(-1)\n",
    "        item2.append(-2)\n",
    "        eachline = ' '.join(map(str, item2))\n",
    "        f.write(eachline)\n",
    "    f.close()"
   ]
  },
  {
   "cell_type": "code",
   "execution_count": 31,
   "metadata": {
    "collapsed": false
   },
   "outputs": [],
   "source": [
    "f = open('../code/code/mista_src/MSRAEXAMPLE.tas', 'w')\n",
    "\n",
    "a = zip(df.head(1000).traj, df.head(1000).ts)\n",
    "num = 0\n",
    "for x,y in a:\n",
    "    if(num > 0):\n",
    "        f.write('\\n')\n",
    "    for i in range(len(x)):\n",
    "        if(i > 0):\n",
    "            f.write(' * ')\n",
    "        f.write(str(x[i])+' '+str(y[i]))\n",
    "    f.write(' #')\n",
    "    num += 1\n",
    "f.close()"
   ]
  },
  {
   "cell_type": "code",
   "execution_count": null,
   "metadata": {
    "collapsed": true
   },
   "outputs": [],
   "source": []
  },
  {
   "cell_type": "code",
   "execution_count": null,
   "metadata": {
    "collapsed": true
   },
   "outputs": [],
   "source": []
  },
  {
   "cell_type": "code",
   "execution_count": null,
   "metadata": {
    "collapsed": true
   },
   "outputs": [],
   "source": []
  },
  {
   "cell_type": "code",
   "execution_count": null,
   "metadata": {
    "collapsed": true
   },
   "outputs": [],
   "source": []
  },
  {
   "cell_type": "code",
   "execution_count": null,
   "metadata": {
    "collapsed": true
   },
   "outputs": [],
   "source": []
  }
 ],
 "metadata": {
  "kernelspec": {
   "display_name": "Python [py35]",
   "language": "python",
   "name": "Python [py35]"
  },
  "language_info": {
   "codemirror_mode": {
    "name": "ipython",
    "version": 3
   },
   "file_extension": ".py",
   "mimetype": "text/x-python",
   "name": "python",
   "nbconvert_exporter": "python",
   "pygments_lexer": "ipython3",
   "version": "3.5.2"
  }
 },
 "nbformat": 4,
 "nbformat_minor": 0
}
