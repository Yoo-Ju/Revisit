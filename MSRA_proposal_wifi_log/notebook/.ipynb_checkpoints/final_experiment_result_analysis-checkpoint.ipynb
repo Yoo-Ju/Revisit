{
 "cells": [
  {
   "cell_type": "markdown",
   "metadata": {},
   "source": [
    "### Result analysis\n",
    "\n",
    "This notebook is for analyzing final experimental result file(../result/results.json)\n"
   ]
  },
  {
   "cell_type": "code",
   "execution_count": 1,
   "metadata": {
    "collapsed": true
   },
   "outputs": [],
   "source": [
    "### Importing libraries\n",
    "import json\n"
   ]
  },
  {
   "cell_type": "code",
   "execution_count": 9,
   "metadata": {
    "collapsed": true
   },
   "outputs": [],
   "source": [
    "outputPath = '../result/results.json'\n",
    "\n",
    "with open(outputPath, 'r') as f:\n",
    "    rs = json.load(f)\n",
    "    f.close()\n",
    "\n",
    "\n"
   ]
  },
  {
   "cell_type": "code",
   "execution_count": 15,
   "metadata": {
    "collapsed": false
   },
   "outputs": [
    {
     "name": "stdout",
     "output_type": "stream",
     "text": [
      "../data/781/781.p 0.29 0.024642324419795192 dict_keys(['dataset', 'features', 'length_train', 'training_time', 'target', 'ts', 'score', 'length_valid', 'params'])\n",
      "{'num_boost_round': 200, 'eval_metric': 'rmse', 'subsample': 0.7, 'silent': 1, 'max_depth': 3, 'test_size': 0.3, 'eta': 0.1, 'seed': 0, 'objective': 'reg:linear', 'early_stopping_rounds': 20, 'booster': 'gbtree', 'colsample_bytree': 0.7}\n"
     ]
    }
   ],
   "source": [
    "\n",
    "print(rs[0]['dataset'], rs[0]['training_time'], rs[0]['score'], rs[0].keys())\n",
    "print(rs[0]['params'])"
   ]
  },
  {
   "cell_type": "code",
   "execution_count": 16,
   "metadata": {
    "collapsed": false,
    "scrolled": true
   },
   "outputs": [
    {
     "name": "stdout",
     "output_type": "stream",
     "text": [
      "../data/781/781.p 0.34 0.01718772837068298 dict_keys(['dataset', 'features', 'length_train', 'training_time', 'target', 'ts', 'score', 'length_valid', 'params'])\n",
      "{'num_boost_round': 200, 'seed': 0, 'eval_metric': 'rmse', 'subsample': 0.7, 'silent': 1, 'max_depth': 3, 'test_size': 0.2, 'eta': 0.1, 'booster': 'gbtree', 'objective': 'reg:linear', 'early_stopping_rounds': 20, 'colsample_bytree': 0.7}\n"
     ]
    }
   ],
   "source": [
    "print(rs[1]['dataset'], rs[1]['training_time'], rs[1]['score'], rs[1].keys())\n",
    "print(rs[1]['params'])"
   ]
  },
  {
   "cell_type": "code",
   "execution_count": null,
   "metadata": {
    "collapsed": true
   },
   "outputs": [],
   "source": []
  },
  {
   "cell_type": "code",
   "execution_count": null,
   "metadata": {
    "collapsed": true
   },
   "outputs": [],
   "source": []
  }
 ],
 "metadata": {
  "kernelspec": {
   "display_name": "Python [py35]",
   "language": "python",
   "name": "Python [py35]"
  },
  "language_info": {
   "codemirror_mode": {
    "name": "ipython",
    "version": 3
   },
   "file_extension": ".py",
   "mimetype": "text/x-python",
   "name": "python",
   "nbconvert_exporter": "python",
   "pygments_lexer": "ipython3",
   "version": "3.5.2"
  }
 },
 "nbformat": 4,
 "nbformat_minor": 0
}
