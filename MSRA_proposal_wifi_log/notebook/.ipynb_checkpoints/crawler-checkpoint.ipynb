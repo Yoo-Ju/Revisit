{
 "cells": [
  {
   "cell_type": "markdown",
   "metadata": {},
   "source": [
    "### Crawler\n",
    "\n",
    "Date: 2016-08-23<br>\n",
    "Writer: Sundong Kim<br>\n",
    "1. Python porting of sojin/Craw.java \n",
    "2. shops/781(커스텀멜로우 홍대점), shops/786(코오롱 스포츠 문정직영점)에 대해 크롤링함"
   ]
  },
  {
   "cell_type": "code",
   "execution_count": 3,
   "metadata": {
    "collapsed": false
   },
   "outputs": [],
   "source": [
    "### import libraries\n",
    "import urllib.request, json, re\n",
    "import pandas as pd\n",
    "import datetime\n",
    "import time, calendar"
   ]
  },
  {
   "cell_type": "markdown",
   "metadata": {},
   "source": [
    "Final recorded timestep: 1456109531149 : 02/22/2016 @ 2:52am (UTC)"
   ]
  },
  {
   "cell_type": "markdown",
   "metadata": {},
   "source": [
    "시간에 관한 코드들 (참고용)"
   ]
  },
  {
   "cell_type": "code",
   "execution_count": 2,
   "metadata": {
    "collapsed": false,
    "scrolled": true
   },
   "outputs": [
    {
     "data": {
      "text/plain": [
       "datetime.datetime(2016, 9, 1, 9, 47, 33, 723315)"
      ]
     },
     "execution_count": 2,
     "metadata": {},
     "output_type": "execute_result"
    }
   ],
   "source": [
    "datetime.datetime.now()"
   ]
  },
  {
   "cell_type": "code",
   "execution_count": 3,
   "metadata": {
    "collapsed": false
   },
   "outputs": [
    {
     "data": {
      "text/plain": [
       "1472690855364.739"
      ]
     },
     "execution_count": 3,
     "metadata": {},
     "output_type": "execute_result"
    }
   ],
   "source": [
    "time.time()*1000"
   ]
  },
  {
   "cell_type": "code",
   "execution_count": 4,
   "metadata": {
    "collapsed": false
   },
   "outputs": [],
   "source": [
    "since = ((0x7FFFFFFFFFFFFFFF - (time.time() * 1000)*0x1000))"
   ]
  },
  {
   "cell_type": "code",
   "execution_count": 5,
   "metadata": {
    "collapsed": false,
    "scrolled": true
   },
   "outputs": [
    {
     "name": "stdout",
     "output_type": "stream",
     "text": [
      "0x7fea91cc8db99400\n"
     ]
    }
   ],
   "source": [
    "print(hex(int(since)))"
   ]
  },
  {
   "cell_type": "code",
   "execution_count": 6,
   "metadata": {
    "collapsed": false
   },
   "outputs": [
    {
     "name": "stdout",
     "output_type": "stream",
     "text": [
      "4096\n"
     ]
    }
   ],
   "source": [
    "print (0x1000)"
   ]
  },
  {
   "cell_type": "code",
   "execution_count": 16,
   "metadata": {
    "collapsed": false
   },
   "outputs": [],
   "source": [
    "urlstrip1 = \"http://walkinsights.com/api/v1/shops/786/sessions?\"\n",
    "urlstrip2 =\"limit=1000&user_token=77eFJPB37UkgYyLjWZrx&user_email=jeeyeachung@kolon.com\"\n",
    "url = urlstrip1 + urlstrip2\n",
    "response = urllib.request.urlopen(url)\n",
    "str_response = response.read().decode('utf-8')\n",
    "obj = json.loads(str_response)"
   ]
  },
  {
   "cell_type": "code",
   "execution_count": 17,
   "metadata": {
    "collapsed": false
   },
   "outputs": [
    {
     "data": {
      "text/plain": [
       "'7fea91fa7c312d11:out'"
      ]
     },
     "execution_count": 17,
     "metadata": {},
     "output_type": "execute_result"
    }
   ],
   "source": [
    "obj['since']"
   ]
  },
  {
   "cell_type": "code",
   "execution_count": 18,
   "metadata": {
    "collapsed": false
   },
   "outputs": [],
   "source": [
    "with open('../data/786/786_7fea91fa7c312d11:out.json', 'w') as f:\n",
    "    json.dump(obj, f)\n",
    "f.close()"
   ]
  },
  {
   "cell_type": "code",
   "execution_count": 19,
   "metadata": {
    "collapsed": false,
    "scrolled": false
   },
   "outputs": [
    {
     "data": {
      "text/plain": [
       "'7fea91fa7c312d11:out'"
      ]
     },
     "execution_count": 19,
     "metadata": {},
     "output_type": "execute_result"
    }
   ],
   "source": [
    "# ts = obj['sessions'][-1]['key']\n",
    "# ts = ts.split(':')[1]\n",
    "# ts\n",
    "ts = obj['since']\n",
    "ts"
   ]
  },
  {
   "cell_type": "code",
   "execution_count": 20,
   "metadata": {
    "collapsed": false,
    "scrolled": false
   },
   "outputs": [
    {
     "ename": "KeyError",
     "evalue": "'since'",
     "output_type": "error",
     "traceback": [
      "\u001b[0;31m---------------------------------------------------------------------------\u001b[0m",
      "\u001b[0;31mKeyError\u001b[0m                                  Traceback (most recent call last)",
      "\u001b[0;32m<ipython-input-20-8bb43a0024a3>\u001b[0m in \u001b[0;36m<module>\u001b[0;34m()\u001b[0m\n\u001b[1;32m      9\u001b[0m         \u001b[0mjson\u001b[0m\u001b[0;34m.\u001b[0m\u001b[0mdump\u001b[0m\u001b[0;34m(\u001b[0m\u001b[0mobj2\u001b[0m\u001b[0;34m,\u001b[0m \u001b[0mf\u001b[0m\u001b[0;34m)\u001b[0m\u001b[0;34m\u001b[0m\u001b[0m\n\u001b[1;32m     10\u001b[0m     \u001b[0mf\u001b[0m\u001b[0;34m.\u001b[0m\u001b[0mclose\u001b[0m\u001b[0;34m(\u001b[0m\u001b[0;34m)\u001b[0m\u001b[0;34m\u001b[0m\u001b[0m\n\u001b[0;32m---> 11\u001b[0;31m     \u001b[0mts\u001b[0m \u001b[0;34m=\u001b[0m \u001b[0mts\u001b[0m \u001b[0;34m=\u001b[0m \u001b[0mobj2\u001b[0m\u001b[0;34m[\u001b[0m\u001b[0;34m'since'\u001b[0m\u001b[0;34m]\u001b[0m\u001b[0;34m\u001b[0m\u001b[0m\n\u001b[0m",
      "\u001b[0;31mKeyError\u001b[0m: 'since'"
     ]
    }
   ],
   "source": [
    "while(True):\n",
    "    urlstrip3 = \"since=\"+ts+\"&limit=1000&\"\n",
    "    url = urlstrip1 + urlstrip3 + urlstrip2\n",
    "    response = urllib.request.urlopen(url)\n",
    "    str_response = response.read().decode('utf-8')\n",
    "    obj2 = json.loads(str_response)\n",
    "    filename = '../data/786/786_'+ts+'.json'\n",
    "    with open(filename, 'w') as f:\n",
    "        json.dump(obj2, f)\n",
    "    f.close()\n",
    "    try:\n",
    "        ts = ts = obj2['since']\n",
    "    except KeyError:\n",
    "        print(\"Crawling is done\")\n",
    "        break"
   ]
  },
  {
   "cell_type": "code",
   "execution_count": 21,
   "metadata": {
    "collapsed": false
   },
   "outputs": [
    {
     "data": {
      "text/plain": [
       "dict_keys(['sessions'])"
      ]
     },
     "execution_count": 21,
     "metadata": {},
     "output_type": "execute_result"
    }
   ],
   "source": [
    "### check the last json file has 'since' key or not -- shouldn't have.\n",
    "\n",
    "with open('../data/786/786_7feb08def889ea29:out.json', 'r') as f:\n",
    "    obob = json.load(f)\n",
    "    f.close()\n",
    "obob.keys() "
   ]
  },
  {
   "cell_type": "code",
   "execution_count": null,
   "metadata": {
    "collapsed": true
   },
   "outputs": [],
   "source": []
  },
  {
   "cell_type": "code",
   "execution_count": null,
   "metadata": {
    "collapsed": true
   },
   "outputs": [],
   "source": []
  },
  {
   "cell_type": "code",
   "execution_count": null,
   "metadata": {
    "collapsed": true
   },
   "outputs": [],
   "source": []
  },
  {
   "cell_type": "code",
   "execution_count": 22,
   "metadata": {
    "collapsed": false
   },
   "outputs": [
    {
     "ename": "FileNotFoundError",
     "evalue": "[Errno 2] No such file or directory: '../data/786/786_7fea9a0c3e00bff2:out.json'",
     "output_type": "error",
     "traceback": [
      "\u001b[0;31m---------------------------------------------------------------------------\u001b[0m",
      "\u001b[0;31mFileNotFoundError\u001b[0m                         Traceback (most recent call last)",
      "\u001b[0;32m<ipython-input-22-c2996aec53eb>\u001b[0m in \u001b[0;36m<module>\u001b[0;34m()\u001b[0m\n\u001b[0;32m----> 1\u001b[0;31m \u001b[0;32mwith\u001b[0m \u001b[0mopen\u001b[0m\u001b[0;34m(\u001b[0m\u001b[0;34m'../data/786/786_7fea9a0c3e00bff2:out.json'\u001b[0m\u001b[0;34m)\u001b[0m \u001b[0;32mas\u001b[0m \u001b[0mf\u001b[0m\u001b[0;34m:\u001b[0m\u001b[0;34m\u001b[0m\u001b[0m\n\u001b[0m\u001b[1;32m      2\u001b[0m     \u001b[0md\u001b[0m \u001b[0;34m=\u001b[0m \u001b[0mjson\u001b[0m\u001b[0;34m.\u001b[0m\u001b[0mload\u001b[0m\u001b[0;34m(\u001b[0m\u001b[0mf\u001b[0m\u001b[0;34m)\u001b[0m\u001b[0;34m\u001b[0m\u001b[0m\n\u001b[1;32m      3\u001b[0m     \u001b[0mdf\u001b[0m \u001b[0;34m=\u001b[0m \u001b[0mpd\u001b[0m\u001b[0;34m.\u001b[0m\u001b[0mDataFrame\u001b[0m\u001b[0;34m(\u001b[0m\u001b[0md\u001b[0m\u001b[0;34m[\u001b[0m\u001b[0;34m'sessions'\u001b[0m\u001b[0;34m]\u001b[0m\u001b[0;34m)\u001b[0m\u001b[0;34m\u001b[0m\u001b[0m\n\u001b[1;32m      4\u001b[0m \u001b[0mdf\u001b[0m\u001b[0;34m.\u001b[0m\u001b[0mtail\u001b[0m\u001b[0;34m(\u001b[0m\u001b[0;36m5\u001b[0m\u001b[0;34m)\u001b[0m\u001b[0;34m\u001b[0m\u001b[0m\n",
      "\u001b[0;31mFileNotFoundError\u001b[0m: [Errno 2] No such file or directory: '../data/786/786_7fea9a0c3e00bff2:out.json'"
     ]
    }
   ],
   "source": [
    "with open('../data/786/786_7fea9a0c3e00bff2:out.json') as f:\n",
    "    d = json.load(f)\n",
    "    df = pd.DataFrame(d['sessions'])\n",
    "df.tail(5)"
   ]
  },
  {
   "cell_type": "code",
   "execution_count": 211,
   "metadata": {
    "collapsed": false
   },
   "outputs": [
    {
     "data": {
      "text/plain": [
       "'7feacfdd855251ab:man-right'"
      ]
     },
     "execution_count": 211,
     "metadata": {},
     "output_type": "execute_result"
    }
   ],
   "source": [
    "d['since']"
   ]
  },
  {
   "cell_type": "markdown",
   "metadata": {
    "collapsed": true
   },
   "source": [
    "#### Save crawled data into pickle file"
   ]
  },
  {
   "cell_type": "code",
   "execution_count": 2,
   "metadata": {
    "collapsed": true
   },
   "outputs": [],
   "source": [
    "import glob\n",
    "import os"
   ]
  },
  {
   "cell_type": "code",
   "execution_count": 4,
   "metadata": {
    "collapsed": false
   },
   "outputs": [
    {
     "ename": "JSONDecodeError",
     "evalue": "Expecting value: line 1 column 38167 (char 38166)",
     "output_type": "error",
     "traceback": [
      "\u001b[0;31m---------------------------------------------------------------------------\u001b[0m",
      "\u001b[0;31mJSONDecodeError\u001b[0m                           Traceback (most recent call last)",
      "\u001b[0;32m<ipython-input-4-34e25817f5cc>\u001b[0m in \u001b[0;36m<module>\u001b[0;34m()\u001b[0m\n\u001b[1;32m      3\u001b[0m \u001b[0;32mfor\u001b[0m \u001b[0mfilename\u001b[0m \u001b[0;32min\u001b[0m \u001b[0mfiles\u001b[0m\u001b[0;34m:\u001b[0m\u001b[0;34m\u001b[0m\u001b[0m\n\u001b[1;32m      4\u001b[0m     \u001b[0;32mwith\u001b[0m \u001b[0mopen\u001b[0m\u001b[0;34m(\u001b[0m\u001b[0mfilename\u001b[0m\u001b[0;34m,\u001b[0m \u001b[0;34m'r'\u001b[0m\u001b[0;34m)\u001b[0m \u001b[0;32mas\u001b[0m \u001b[0mf\u001b[0m\u001b[0;34m:\u001b[0m\u001b[0;34m\u001b[0m\u001b[0m\n\u001b[0;32m----> 5\u001b[0;31m         \u001b[0md\u001b[0m \u001b[0;34m=\u001b[0m \u001b[0mjson\u001b[0m\u001b[0;34m.\u001b[0m\u001b[0mload\u001b[0m\u001b[0;34m(\u001b[0m\u001b[0mf\u001b[0m\u001b[0;34m)\u001b[0m\u001b[0;34m\u001b[0m\u001b[0m\n\u001b[0m\u001b[1;32m      6\u001b[0m         \u001b[0mcontents\u001b[0m\u001b[0;34m.\u001b[0m\u001b[0mextend\u001b[0m\u001b[0;34m(\u001b[0m\u001b[0md\u001b[0m\u001b[0;34m[\u001b[0m\u001b[0;34m'sessions'\u001b[0m\u001b[0;34m]\u001b[0m\u001b[0;34m)\u001b[0m\u001b[0;34m\u001b[0m\u001b[0m\n\u001b[1;32m      7\u001b[0m \u001b[0;34m\u001b[0m\u001b[0m\n",
      "\u001b[0;32m/Users/sundong/anaconda/envs/py35/lib/python3.5/json/__init__.py\u001b[0m in \u001b[0;36mload\u001b[0;34m(fp, cls, object_hook, parse_float, parse_int, parse_constant, object_pairs_hook, **kw)\u001b[0m\n\u001b[1;32m    266\u001b[0m         \u001b[0mcls\u001b[0m\u001b[0;34m=\u001b[0m\u001b[0mcls\u001b[0m\u001b[0;34m,\u001b[0m \u001b[0mobject_hook\u001b[0m\u001b[0;34m=\u001b[0m\u001b[0mobject_hook\u001b[0m\u001b[0;34m,\u001b[0m\u001b[0;34m\u001b[0m\u001b[0m\n\u001b[1;32m    267\u001b[0m         \u001b[0mparse_float\u001b[0m\u001b[0;34m=\u001b[0m\u001b[0mparse_float\u001b[0m\u001b[0;34m,\u001b[0m \u001b[0mparse_int\u001b[0m\u001b[0;34m=\u001b[0m\u001b[0mparse_int\u001b[0m\u001b[0;34m,\u001b[0m\u001b[0;34m\u001b[0m\u001b[0m\n\u001b[0;32m--> 268\u001b[0;31m         parse_constant=parse_constant, object_pairs_hook=object_pairs_hook, **kw)\n\u001b[0m\u001b[1;32m    269\u001b[0m \u001b[0;34m\u001b[0m\u001b[0m\n\u001b[1;32m    270\u001b[0m \u001b[0;34m\u001b[0m\u001b[0m\n",
      "\u001b[0;32m/Users/sundong/anaconda/envs/py35/lib/python3.5/json/__init__.py\u001b[0m in \u001b[0;36mloads\u001b[0;34m(s, encoding, cls, object_hook, parse_float, parse_int, parse_constant, object_pairs_hook, **kw)\u001b[0m\n\u001b[1;32m    317\u001b[0m             \u001b[0mparse_int\u001b[0m \u001b[0;32mis\u001b[0m \u001b[0;32mNone\u001b[0m \u001b[0;32mand\u001b[0m \u001b[0mparse_float\u001b[0m \u001b[0;32mis\u001b[0m \u001b[0;32mNone\u001b[0m \u001b[0;32mand\u001b[0m\u001b[0;34m\u001b[0m\u001b[0m\n\u001b[1;32m    318\u001b[0m             parse_constant is None and object_pairs_hook is None and not kw):\n\u001b[0;32m--> 319\u001b[0;31m         \u001b[0;32mreturn\u001b[0m \u001b[0m_default_decoder\u001b[0m\u001b[0;34m.\u001b[0m\u001b[0mdecode\u001b[0m\u001b[0;34m(\u001b[0m\u001b[0ms\u001b[0m\u001b[0;34m)\u001b[0m\u001b[0;34m\u001b[0m\u001b[0m\n\u001b[0m\u001b[1;32m    320\u001b[0m     \u001b[0;32mif\u001b[0m \u001b[0mcls\u001b[0m \u001b[0;32mis\u001b[0m \u001b[0;32mNone\u001b[0m\u001b[0;34m:\u001b[0m\u001b[0;34m\u001b[0m\u001b[0m\n\u001b[1;32m    321\u001b[0m         \u001b[0mcls\u001b[0m \u001b[0;34m=\u001b[0m \u001b[0mJSONDecoder\u001b[0m\u001b[0;34m\u001b[0m\u001b[0m\n",
      "\u001b[0;32m/Users/sundong/anaconda/envs/py35/lib/python3.5/json/decoder.py\u001b[0m in \u001b[0;36mdecode\u001b[0;34m(self, s, _w)\u001b[0m\n\u001b[1;32m    337\u001b[0m \u001b[0;34m\u001b[0m\u001b[0m\n\u001b[1;32m    338\u001b[0m         \"\"\"\n\u001b[0;32m--> 339\u001b[0;31m         \u001b[0mobj\u001b[0m\u001b[0;34m,\u001b[0m \u001b[0mend\u001b[0m \u001b[0;34m=\u001b[0m \u001b[0mself\u001b[0m\u001b[0;34m.\u001b[0m\u001b[0mraw_decode\u001b[0m\u001b[0;34m(\u001b[0m\u001b[0ms\u001b[0m\u001b[0;34m,\u001b[0m \u001b[0midx\u001b[0m\u001b[0;34m=\u001b[0m\u001b[0m_w\u001b[0m\u001b[0;34m(\u001b[0m\u001b[0ms\u001b[0m\u001b[0;34m,\u001b[0m \u001b[0;36m0\u001b[0m\u001b[0;34m)\u001b[0m\u001b[0;34m.\u001b[0m\u001b[0mend\u001b[0m\u001b[0;34m(\u001b[0m\u001b[0;34m)\u001b[0m\u001b[0;34m)\u001b[0m\u001b[0;34m\u001b[0m\u001b[0m\n\u001b[0m\u001b[1;32m    340\u001b[0m         \u001b[0mend\u001b[0m \u001b[0;34m=\u001b[0m \u001b[0m_w\u001b[0m\u001b[0;34m(\u001b[0m\u001b[0ms\u001b[0m\u001b[0;34m,\u001b[0m \u001b[0mend\u001b[0m\u001b[0;34m)\u001b[0m\u001b[0;34m.\u001b[0m\u001b[0mend\u001b[0m\u001b[0;34m(\u001b[0m\u001b[0;34m)\u001b[0m\u001b[0;34m\u001b[0m\u001b[0m\n\u001b[1;32m    341\u001b[0m         \u001b[0;32mif\u001b[0m \u001b[0mend\u001b[0m \u001b[0;34m!=\u001b[0m \u001b[0mlen\u001b[0m\u001b[0;34m(\u001b[0m\u001b[0ms\u001b[0m\u001b[0;34m)\u001b[0m\u001b[0;34m:\u001b[0m\u001b[0;34m\u001b[0m\u001b[0m\n",
      "\u001b[0;32m/Users/sundong/anaconda/envs/py35/lib/python3.5/json/decoder.py\u001b[0m in \u001b[0;36mraw_decode\u001b[0;34m(self, s, idx)\u001b[0m\n\u001b[1;32m    355\u001b[0m             \u001b[0mobj\u001b[0m\u001b[0;34m,\u001b[0m \u001b[0mend\u001b[0m \u001b[0;34m=\u001b[0m \u001b[0mself\u001b[0m\u001b[0;34m.\u001b[0m\u001b[0mscan_once\u001b[0m\u001b[0;34m(\u001b[0m\u001b[0ms\u001b[0m\u001b[0;34m,\u001b[0m \u001b[0midx\u001b[0m\u001b[0;34m)\u001b[0m\u001b[0;34m\u001b[0m\u001b[0m\n\u001b[1;32m    356\u001b[0m         \u001b[0;32mexcept\u001b[0m \u001b[0mStopIteration\u001b[0m \u001b[0;32mas\u001b[0m \u001b[0merr\u001b[0m\u001b[0;34m:\u001b[0m\u001b[0;34m\u001b[0m\u001b[0m\n\u001b[0;32m--> 357\u001b[0;31m             \u001b[0;32mraise\u001b[0m \u001b[0mJSONDecodeError\u001b[0m\u001b[0;34m(\u001b[0m\u001b[0;34m\"Expecting value\"\u001b[0m\u001b[0;34m,\u001b[0m \u001b[0ms\u001b[0m\u001b[0;34m,\u001b[0m \u001b[0merr\u001b[0m\u001b[0;34m.\u001b[0m\u001b[0mvalue\u001b[0m\u001b[0;34m)\u001b[0m \u001b[0;32mfrom\u001b[0m \u001b[0;32mNone\u001b[0m\u001b[0;34m\u001b[0m\u001b[0m\n\u001b[0m\u001b[1;32m    358\u001b[0m         \u001b[0;32mreturn\u001b[0m \u001b[0mobj\u001b[0m\u001b[0;34m,\u001b[0m \u001b[0mend\u001b[0m\u001b[0;34m\u001b[0m\u001b[0m\n",
      "\u001b[0;31mJSONDecodeError\u001b[0m: Expecting value: line 1 column 38167 (char 38166)"
     ]
    }
   ],
   "source": [
    "contents = []\n",
    "files = glob.glob('../code/data/786/*.json')\n",
    "for filename in files:\n",
    "    with open(filename, 'r') as f:\n",
    "        d = json.load(f)\n",
    "        contents.extend(d['sessions'])\n",
    "\n",
    "df = pd.DataFrame(contents)\n",
    "    \n",
    "#         d = json.load(f)\n",
    "#         df = pd.DataFrame(d['sessions'])\n",
    "#     df.tail(5)"
   ]
  },
  {
   "cell_type": "code",
   "execution_count": 29,
   "metadata": {
    "collapsed": false
   },
   "outputs": [
    {
     "name": "stdout",
     "output_type": "stream",
     "text": [
      "1562523\n",
      "(4063446, 8)\n"
     ]
    }
   ],
   "source": [
    "device_ids = df['device_id'].unique()\n",
    "print (len(device_ids))\n",
    "print (df.shape)"
   ]
  },
  {
   "cell_type": "code",
   "execution_count": 30,
   "metadata": {
    "collapsed": false
   },
   "outputs": [
    {
     "data": {
      "text/html": [
       "<div>\n",
       "<table border=\"1\" class=\"dataframe\">\n",
       "  <thead>\n",
       "    <tr style=\"text-align: right;\">\n",
       "      <th></th>\n",
       "      <th>area</th>\n",
       "      <th>deny</th>\n",
       "      <th>device_id</th>\n",
       "      <th>dwell_time</th>\n",
       "      <th>key</th>\n",
       "      <th>revisit_count</th>\n",
       "      <th>revisit_period</th>\n",
       "      <th>ts</th>\n",
       "    </tr>\n",
       "  </thead>\n",
       "  <tbody>\n",
       "    <tr>\n",
       "      <th>0</th>\n",
       "      <td>1f-right-1</td>\n",
       "      <td>True</td>\n",
       "      <td>cae0f3cb170db4ae18897d6af8497c38</td>\n",
       "      <td>3330</td>\n",
       "      <td>781:7fea91f80d36bcc5:1f-right-1</td>\n",
       "      <td>NaN</td>\n",
       "      <td>NaN</td>\n",
       "      <td>1472645246100</td>\n",
       "    </tr>\n",
       "    <tr>\n",
       "      <th>1</th>\n",
       "      <td>right-test</td>\n",
       "      <td>True</td>\n",
       "      <td>cae0f3cb170db4ae18897d6af8497c38</td>\n",
       "      <td>3330</td>\n",
       "      <td>781:7fea91f80d36bcc5:right-test</td>\n",
       "      <td>NaN</td>\n",
       "      <td>NaN</td>\n",
       "      <td>1472645246100</td>\n",
       "    </tr>\n",
       "    <tr>\n",
       "      <th>2</th>\n",
       "      <td>out</td>\n",
       "      <td>NaN</td>\n",
       "      <td>c41e7932a5fedc55d61950559232c0bf</td>\n",
       "      <td>0</td>\n",
       "      <td>781:7fea91f80e6add4d:out</td>\n",
       "      <td>NaN</td>\n",
       "      <td>NaN</td>\n",
       "      <td>1472645241170</td>\n",
       "    </tr>\n",
       "    <tr>\n",
       "      <th>3</th>\n",
       "      <td>out</td>\n",
       "      <td>NaN</td>\n",
       "      <td>249e7ac1b1cd6ba9bee1cd81ef1e013f</td>\n",
       "      <td>85</td>\n",
       "      <td>781:7fea91f80ea49f2d:out</td>\n",
       "      <td>NaN</td>\n",
       "      <td>NaN</td>\n",
       "      <td>1472645240246</td>\n",
       "    </tr>\n",
       "    <tr>\n",
       "      <th>4</th>\n",
       "      <td>out</td>\n",
       "      <td>NaN</td>\n",
       "      <td>35e9e62a01594c31a9297c397cee0390</td>\n",
       "      <td>34</td>\n",
       "      <td>781:7fea91f80ee44f5d:out</td>\n",
       "      <td>NaN</td>\n",
       "      <td>NaN</td>\n",
       "      <td>1472645239227</td>\n",
       "    </tr>\n",
       "    <tr>\n",
       "      <th>5</th>\n",
       "      <td>out</td>\n",
       "      <td>NaN</td>\n",
       "      <td>9d2c7c15500c53feacdd62d3c0f8b2fb</td>\n",
       "      <td>0</td>\n",
       "      <td>781:7fea91f80f2c2e45:out</td>\n",
       "      <td>NaN</td>\n",
       "      <td>NaN</td>\n",
       "      <td>1472645238077</td>\n",
       "    </tr>\n",
       "    <tr>\n",
       "      <th>6</th>\n",
       "      <td>out</td>\n",
       "      <td>NaN</td>\n",
       "      <td>6370140ec2920e3f1878d877cd9a7b2a</td>\n",
       "      <td>776</td>\n",
       "      <td>781:7fea91f80f441dc9:out</td>\n",
       "      <td>NaN</td>\n",
       "      <td>NaN</td>\n",
       "      <td>1472645237694</td>\n",
       "    </tr>\n",
       "    <tr>\n",
       "      <th>7</th>\n",
       "      <td>out</td>\n",
       "      <td>True</td>\n",
       "      <td>af3a382fb40b3f14c6141806e56d1a9e</td>\n",
       "      <td>505</td>\n",
       "      <td>781:7fea91f80f5d3f25:out</td>\n",
       "      <td>NaN</td>\n",
       "      <td>NaN</td>\n",
       "      <td>1472645237292</td>\n",
       "    </tr>\n",
       "    <tr>\n",
       "      <th>8</th>\n",
       "      <td>out</td>\n",
       "      <td>NaN</td>\n",
       "      <td>eae4d0e90a5989ad3898fa9c49064a5e</td>\n",
       "      <td>2</td>\n",
       "      <td>781:7fea91f810707c57:out</td>\n",
       "      <td>NaN</td>\n",
       "      <td>NaN</td>\n",
       "      <td>1472645232888</td>\n",
       "    </tr>\n",
       "    <tr>\n",
       "      <th>9</th>\n",
       "      <td>out</td>\n",
       "      <td>NaN</td>\n",
       "      <td>12d8fac3d12f411a4a50cd8a33c340ae</td>\n",
       "      <td>0</td>\n",
       "      <td>781:7fea91f81345ae95:out</td>\n",
       "      <td>NaN</td>\n",
       "      <td>NaN</td>\n",
       "      <td>1472645221285</td>\n",
       "    </tr>\n",
       "    <tr>\n",
       "      <th>10</th>\n",
       "      <td>out</td>\n",
       "      <td>NaN</td>\n",
       "      <td>f32a94312cee1437216b8dc7809b9335</td>\n",
       "      <td>381</td>\n",
       "      <td>781:7fea91f8135c6d19:out</td>\n",
       "      <td>NaN</td>\n",
       "      <td>NaN</td>\n",
       "      <td>1472645220921</td>\n",
       "    </tr>\n",
       "    <tr>\n",
       "      <th>11</th>\n",
       "      <td>out</td>\n",
       "      <td>NaN</td>\n",
       "      <td>634c632f576d1ea7819dba143f688c2b</td>\n",
       "      <td>234</td>\n",
       "      <td>781:7fea91f814246eaf:out</td>\n",
       "      <td>NaN</td>\n",
       "      <td>NaN</td>\n",
       "      <td>1472645217721</td>\n",
       "    </tr>\n",
       "    <tr>\n",
       "      <th>12</th>\n",
       "      <td>out</td>\n",
       "      <td>NaN</td>\n",
       "      <td>68cd84d88320d340835847fddb71fff0</td>\n",
       "      <td>0</td>\n",
       "      <td>781:7fea91f814bd6fcd:out</td>\n",
       "      <td>NaN</td>\n",
       "      <td>NaN</td>\n",
       "      <td>1472645215273</td>\n",
       "    </tr>\n",
       "    <tr>\n",
       "      <th>13</th>\n",
       "      <td>out</td>\n",
       "      <td>NaN</td>\n",
       "      <td>6e598cd4a9f82ff6208193b489a22892</td>\n",
       "      <td>63</td>\n",
       "      <td>781:7fea91f814c7ad98:out</td>\n",
       "      <td>NaN</td>\n",
       "      <td>NaN</td>\n",
       "      <td>1472645215109</td>\n",
       "    </tr>\n",
       "    <tr>\n",
       "      <th>14</th>\n",
       "      <td>out</td>\n",
       "      <td>NaN</td>\n",
       "      <td>28ae403883cbd1427a8e9a571a772c39</td>\n",
       "      <td>0</td>\n",
       "      <td>781:7fea91f8168a4c2c:out</td>\n",
       "      <td>NaN</td>\n",
       "      <td>NaN</td>\n",
       "      <td>1472645207899</td>\n",
       "    </tr>\n",
       "    <tr>\n",
       "      <th>15</th>\n",
       "      <td>out</td>\n",
       "      <td>NaN</td>\n",
       "      <td>3c0126737379c239081af9c24d140e34</td>\n",
       "      <td>0</td>\n",
       "      <td>781:7fea91f817215d01:out</td>\n",
       "      <td>NaN</td>\n",
       "      <td>NaN</td>\n",
       "      <td>1472645205482</td>\n",
       "    </tr>\n",
       "    <tr>\n",
       "      <th>16</th>\n",
       "      <td>out</td>\n",
       "      <td>NaN</td>\n",
       "      <td>1d74a84b20bf802b0eb369f2e37a68ae</td>\n",
       "      <td>0</td>\n",
       "      <td>781:7fea91f8172f0d14:out</td>\n",
       "      <td>NaN</td>\n",
       "      <td>NaN</td>\n",
       "      <td>1472645205263</td>\n",
       "    </tr>\n",
       "    <tr>\n",
       "      <th>17</th>\n",
       "      <td>out</td>\n",
       "      <td>NaN</td>\n",
       "      <td>59a4514c9c6d6ccc83b7e70afe54ff4b</td>\n",
       "      <td>163</td>\n",
       "      <td>781:7fea91f8174fccaf:out</td>\n",
       "      <td>NaN</td>\n",
       "      <td>NaN</td>\n",
       "      <td>1472645204739</td>\n",
       "    </tr>\n",
       "    <tr>\n",
       "      <th>18</th>\n",
       "      <td>out</td>\n",
       "      <td>NaN</td>\n",
       "      <td>7dd0415f674ef312d55eae86e13d5638</td>\n",
       "      <td>54</td>\n",
       "      <td>781:7fea91f817b27dcc:out</td>\n",
       "      <td>NaN</td>\n",
       "      <td>NaN</td>\n",
       "      <td>1472645203160</td>\n",
       "    </tr>\n",
       "    <tr>\n",
       "      <th>19</th>\n",
       "      <td>out</td>\n",
       "      <td>NaN</td>\n",
       "      <td>ca9097c43736a1762e0a59e4962b910c</td>\n",
       "      <td>10</td>\n",
       "      <td>781:7fea91f817d9edf9:out</td>\n",
       "      <td>2.0</td>\n",
       "      <td>14.0</td>\n",
       "      <td>1472645202529</td>\n",
       "    </tr>\n",
       "    <tr>\n",
       "      <th>20</th>\n",
       "      <td>out</td>\n",
       "      <td>NaN</td>\n",
       "      <td>efc460b7544dbaabb9a05f0a025ce6b1</td>\n",
       "      <td>100</td>\n",
       "      <td>781:7fea91f81802ec81:out</td>\n",
       "      <td>NaN</td>\n",
       "      <td>NaN</td>\n",
       "      <td>1472645201873</td>\n",
       "    </tr>\n",
       "    <tr>\n",
       "      <th>21</th>\n",
       "      <td>out</td>\n",
       "      <td>NaN</td>\n",
       "      <td>1b73107a817f722f03a33c3ff0aeee0f</td>\n",
       "      <td>0</td>\n",
       "      <td>781:7fea91f8182cbcf3:out</td>\n",
       "      <td>NaN</td>\n",
       "      <td>NaN</td>\n",
       "      <td>1472645201204</td>\n",
       "    </tr>\n",
       "    <tr>\n",
       "      <th>22</th>\n",
       "      <td>out</td>\n",
       "      <td>NaN</td>\n",
       "      <td>e94bdb376cb96fb75a3f22ec45b8cb1d</td>\n",
       "      <td>3</td>\n",
       "      <td>781:7fea91f818390e12:out</td>\n",
       "      <td>NaN</td>\n",
       "      <td>NaN</td>\n",
       "      <td>1472645201007</td>\n",
       "    </tr>\n",
       "    <tr>\n",
       "      <th>23</th>\n",
       "      <td>out</td>\n",
       "      <td>NaN</td>\n",
       "      <td>066c5482f7f894492c1ee19f6c012e3a</td>\n",
       "      <td>16</td>\n",
       "      <td>781:7fea91f818d59df1:out</td>\n",
       "      <td>NaN</td>\n",
       "      <td>NaN</td>\n",
       "      <td>1472645198502</td>\n",
       "    </tr>\n",
       "    <tr>\n",
       "      <th>24</th>\n",
       "      <td>out</td>\n",
       "      <td>NaN</td>\n",
       "      <td>adcec02bbce13c6955d4cb9aa7ecf4fa</td>\n",
       "      <td>0</td>\n",
       "      <td>781:7fea91f819a6dc20:out</td>\n",
       "      <td>NaN</td>\n",
       "      <td>NaN</td>\n",
       "      <td>1472645195154</td>\n",
       "    </tr>\n",
       "    <tr>\n",
       "      <th>25</th>\n",
       "      <td>out</td>\n",
       "      <td>NaN</td>\n",
       "      <td>634a29ffdc769c387bc2b77fce70417d</td>\n",
       "      <td>48</td>\n",
       "      <td>781:7fea91f81b1b0c1b:out</td>\n",
       "      <td>NaN</td>\n",
       "      <td>NaN</td>\n",
       "      <td>1472645189199</td>\n",
       "    </tr>\n",
       "    <tr>\n",
       "      <th>26</th>\n",
       "      <td>out</td>\n",
       "      <td>NaN</td>\n",
       "      <td>d2b0056631a597a7ee71f6e99f2e7707</td>\n",
       "      <td>1081</td>\n",
       "      <td>781:7fea91f81b294ed6:out</td>\n",
       "      <td>NaN</td>\n",
       "      <td>NaN</td>\n",
       "      <td>1472645188971</td>\n",
       "    </tr>\n",
       "    <tr>\n",
       "      <th>27</th>\n",
       "      <td>out</td>\n",
       "      <td>NaN</td>\n",
       "      <td>568f92096c525542306cdfdd62d6ff13</td>\n",
       "      <td>125</td>\n",
       "      <td>781:7fea91f81c523f21:out</td>\n",
       "      <td>NaN</td>\n",
       "      <td>NaN</td>\n",
       "      <td>1472645184220</td>\n",
       "    </tr>\n",
       "    <tr>\n",
       "      <th>28</th>\n",
       "      <td>out</td>\n",
       "      <td>NaN</td>\n",
       "      <td>399360c638b5f404abd97afb0a41e017</td>\n",
       "      <td>85</td>\n",
       "      <td>781:7fea91f81d041fa0:out</td>\n",
       "      <td>NaN</td>\n",
       "      <td>NaN</td>\n",
       "      <td>1472645181374</td>\n",
       "    </tr>\n",
       "    <tr>\n",
       "      <th>29</th>\n",
       "      <td>out</td>\n",
       "      <td>NaN</td>\n",
       "      <td>b0fb163d8d658475c5ddb23e47487124</td>\n",
       "      <td>0</td>\n",
       "      <td>781:7fea91f81d539c42:out</td>\n",
       "      <td>NaN</td>\n",
       "      <td>NaN</td>\n",
       "      <td>1472645180102</td>\n",
       "    </tr>\n",
       "    <tr>\n",
       "      <th>...</th>\n",
       "      <td>...</td>\n",
       "      <td>...</td>\n",
       "      <td>...</td>\n",
       "      <td>...</td>\n",
       "      <td>...</td>\n",
       "      <td>...</td>\n",
       "      <td>...</td>\n",
       "      <td>...</td>\n",
       "    </tr>\n",
       "    <tr>\n",
       "      <th>4063416</th>\n",
       "      <td>b1</td>\n",
       "      <td>True</td>\n",
       "      <td>8b4357a377e3673d44489d67eee696ac</td>\n",
       "      <td>25833</td>\n",
       "      <td>781:7feb097726e6d7f5:b1</td>\n",
       "      <td>NaN</td>\n",
       "      <td>NaN</td>\n",
       "      <td>1440568152466</td>\n",
       "    </tr>\n",
       "    <tr>\n",
       "      <th>4063417</th>\n",
       "      <td>in</td>\n",
       "      <td>True</td>\n",
       "      <td>8b4357a377e3673d44489d67eee696ac</td>\n",
       "      <td>25833</td>\n",
       "      <td>781:7feb097726e6d7f5:in</td>\n",
       "      <td>NaN</td>\n",
       "      <td>NaN</td>\n",
       "      <td>1440568152466</td>\n",
       "    </tr>\n",
       "    <tr>\n",
       "      <th>4063418</th>\n",
       "      <td>out</td>\n",
       "      <td>NaN</td>\n",
       "      <td>0516f6267b45fb4f22137defb83d5df4</td>\n",
       "      <td>1232</td>\n",
       "      <td>781:7feb097727b72d6b:out</td>\n",
       "      <td>NaN</td>\n",
       "      <td>NaN</td>\n",
       "      <td>1440568149133</td>\n",
       "    </tr>\n",
       "    <tr>\n",
       "      <th>4063419</th>\n",
       "      <td>out</td>\n",
       "      <td>NaN</td>\n",
       "      <td>7000dc937a53ac3408c3f093e61ef006</td>\n",
       "      <td>25648</td>\n",
       "      <td>781:7feb09772934e01c:out</td>\n",
       "      <td>NaN</td>\n",
       "      <td>NaN</td>\n",
       "      <td>1440568143025</td>\n",
       "    </tr>\n",
       "    <tr>\n",
       "      <th>4063420</th>\n",
       "      <td>out</td>\n",
       "      <td>NaN</td>\n",
       "      <td>bfd92e0a76646d5f8bcff904512effaf</td>\n",
       "      <td>0</td>\n",
       "      <td>781:7feb09772966fd89:out</td>\n",
       "      <td>NaN</td>\n",
       "      <td>NaN</td>\n",
       "      <td>1440568142224</td>\n",
       "    </tr>\n",
       "    <tr>\n",
       "      <th>4063421</th>\n",
       "      <td>out</td>\n",
       "      <td>NaN</td>\n",
       "      <td>e4476b851b7f8da40d7b57bbe4dadac1</td>\n",
       "      <td>0</td>\n",
       "      <td>781:7feb09772998ce81:out</td>\n",
       "      <td>NaN</td>\n",
       "      <td>NaN</td>\n",
       "      <td>1440568141427</td>\n",
       "    </tr>\n",
       "    <tr>\n",
       "      <th>4063422</th>\n",
       "      <td>out</td>\n",
       "      <td>True</td>\n",
       "      <td>bc4573cb1e7583be35ef91cc2522de01</td>\n",
       "      <td>25935</td>\n",
       "      <td>781:7feb09772a15b7f4:out</td>\n",
       "      <td>NaN</td>\n",
       "      <td>NaN</td>\n",
       "      <td>1440568139428</td>\n",
       "    </tr>\n",
       "    <tr>\n",
       "      <th>4063423</th>\n",
       "      <td>out</td>\n",
       "      <td>NaN</td>\n",
       "      <td>f46ed7907a0ca89cd464f8a3cca98bfb</td>\n",
       "      <td>152</td>\n",
       "      <td>781:7feb09772c560ab5:out</td>\n",
       "      <td>NaN</td>\n",
       "      <td>NaN</td>\n",
       "      <td>1440568130207</td>\n",
       "    </tr>\n",
       "    <tr>\n",
       "      <th>4063424</th>\n",
       "      <td>out</td>\n",
       "      <td>NaN</td>\n",
       "      <td>4bff3310a650296acde62f1e89a3698e</td>\n",
       "      <td>16</td>\n",
       "      <td>781:7feb09772e0d65e7:out</td>\n",
       "      <td>NaN</td>\n",
       "      <td>NaN</td>\n",
       "      <td>1440568123177</td>\n",
       "    </tr>\n",
       "    <tr>\n",
       "      <th>4063425</th>\n",
       "      <td>out</td>\n",
       "      <td>NaN</td>\n",
       "      <td>61227be3f281542e72b63f6488718276</td>\n",
       "      <td>25929</td>\n",
       "      <td>781:7feb097730244bc8:out</td>\n",
       "      <td>NaN</td>\n",
       "      <td>NaN</td>\n",
       "      <td>1440568114619</td>\n",
       "    </tr>\n",
       "    <tr>\n",
       "      <th>4063426</th>\n",
       "      <td>out</td>\n",
       "      <td>NaN</td>\n",
       "      <td>3b87e56d79eda8b19f21f3d60ed0f2f8</td>\n",
       "      <td>0</td>\n",
       "      <td>781:7feb09773133fa79:out</td>\n",
       "      <td>NaN</td>\n",
       "      <td>NaN</td>\n",
       "      <td>1440568110272</td>\n",
       "    </tr>\n",
       "    <tr>\n",
       "      <th>4063427</th>\n",
       "      <td>out</td>\n",
       "      <td>NaN</td>\n",
       "      <td>223fa52b998ec92d5f588a17a26486e2</td>\n",
       "      <td>0</td>\n",
       "      <td>781:7feb097731a53f15:out</td>\n",
       "      <td>NaN</td>\n",
       "      <td>NaN</td>\n",
       "      <td>1440568108460</td>\n",
       "    </tr>\n",
       "    <tr>\n",
       "      <th>4063428</th>\n",
       "      <td>out</td>\n",
       "      <td>NaN</td>\n",
       "      <td>4b42b3baece22db7fae8e2477147af9c</td>\n",
       "      <td>0</td>\n",
       "      <td>781:7feb097732776236:out</td>\n",
       "      <td>NaN</td>\n",
       "      <td>NaN</td>\n",
       "      <td>1440568105097</td>\n",
       "    </tr>\n",
       "    <tr>\n",
       "      <th>4063429</th>\n",
       "      <td>out</td>\n",
       "      <td>NaN</td>\n",
       "      <td>c9866cd15a94b493feb0c2816826bc8d</td>\n",
       "      <td>3007</td>\n",
       "      <td>781:7feb0977339a1df2:out</td>\n",
       "      <td>NaN</td>\n",
       "      <td>NaN</td>\n",
       "      <td>1440568100446</td>\n",
       "    </tr>\n",
       "    <tr>\n",
       "      <th>4063430</th>\n",
       "      <td>out</td>\n",
       "      <td>NaN</td>\n",
       "      <td>b108321f13771e1a9e4191d205e44bdd</td>\n",
       "      <td>17</td>\n",
       "      <td>781:7feb097735844b37:out</td>\n",
       "      <td>NaN</td>\n",
       "      <td>NaN</td>\n",
       "      <td>1440568092603</td>\n",
       "    </tr>\n",
       "    <tr>\n",
       "      <th>4063431</th>\n",
       "      <td>1f</td>\n",
       "      <td>NaN</td>\n",
       "      <td>e2fa6159e34b493391307e98185c997c</td>\n",
       "      <td>599</td>\n",
       "      <td>781:7feb097736ea0c6c:1f</td>\n",
       "      <td>NaN</td>\n",
       "      <td>NaN</td>\n",
       "      <td>1440568086879</td>\n",
       "    </tr>\n",
       "    <tr>\n",
       "      <th>4063432</th>\n",
       "      <td>b1</td>\n",
       "      <td>NaN</td>\n",
       "      <td>e2fa6159e34b493391307e98185c997c</td>\n",
       "      <td>599</td>\n",
       "      <td>781:7feb097736ea0c6c:b1</td>\n",
       "      <td>NaN</td>\n",
       "      <td>NaN</td>\n",
       "      <td>1440568086879</td>\n",
       "    </tr>\n",
       "    <tr>\n",
       "      <th>4063433</th>\n",
       "      <td>in</td>\n",
       "      <td>NaN</td>\n",
       "      <td>e2fa6159e34b493391307e98185c997c</td>\n",
       "      <td>599</td>\n",
       "      <td>781:7feb097736ea0c6c:in</td>\n",
       "      <td>NaN</td>\n",
       "      <td>NaN</td>\n",
       "      <td>1440568086879</td>\n",
       "    </tr>\n",
       "    <tr>\n",
       "      <th>4063434</th>\n",
       "      <td>out</td>\n",
       "      <td>NaN</td>\n",
       "      <td>e2fa6159e34b493391307e98185c997c</td>\n",
       "      <td>2523</td>\n",
       "      <td>781:7feb09773701b91f:out</td>\n",
       "      <td>NaN</td>\n",
       "      <td>NaN</td>\n",
       "      <td>1440568086500</td>\n",
       "    </tr>\n",
       "    <tr>\n",
       "      <th>4063435</th>\n",
       "      <td>out</td>\n",
       "      <td>NaN</td>\n",
       "      <td>4f4d40271b9606435793b546b447dc2c</td>\n",
       "      <td>26007</td>\n",
       "      <td>781:7feb097738878f28:out</td>\n",
       "      <td>NaN</td>\n",
       "      <td>NaN</td>\n",
       "      <td>1440568080263</td>\n",
       "    </tr>\n",
       "    <tr>\n",
       "      <th>4063436</th>\n",
       "      <td>out</td>\n",
       "      <td>True</td>\n",
       "      <td>44689a999123656a443f2d9bdd39d3df</td>\n",
       "      <td>14208</td>\n",
       "      <td>781:7feb09773901772a:out</td>\n",
       "      <td>NaN</td>\n",
       "      <td>NaN</td>\n",
       "      <td>1440568078312</td>\n",
       "    </tr>\n",
       "    <tr>\n",
       "      <th>4063437</th>\n",
       "      <td>1f</td>\n",
       "      <td>NaN</td>\n",
       "      <td>028a1f4dbca00ed06814fdda60f1b599</td>\n",
       "      <td>2497</td>\n",
       "      <td>781:7feb09773985e932:1f</td>\n",
       "      <td>NaN</td>\n",
       "      <td>NaN</td>\n",
       "      <td>1440568076193</td>\n",
       "    </tr>\n",
       "    <tr>\n",
       "      <th>4063438</th>\n",
       "      <td>b1</td>\n",
       "      <td>NaN</td>\n",
       "      <td>028a1f4dbca00ed06814fdda60f1b599</td>\n",
       "      <td>628</td>\n",
       "      <td>781:7feb09773985e932:b1</td>\n",
       "      <td>NaN</td>\n",
       "      <td>NaN</td>\n",
       "      <td>1440568076193</td>\n",
       "    </tr>\n",
       "    <tr>\n",
       "      <th>4063439</th>\n",
       "      <td>in</td>\n",
       "      <td>NaN</td>\n",
       "      <td>028a1f4dbca00ed06814fdda60f1b599</td>\n",
       "      <td>2497</td>\n",
       "      <td>781:7feb09773985e932:in</td>\n",
       "      <td>NaN</td>\n",
       "      <td>NaN</td>\n",
       "      <td>1440568076193</td>\n",
       "    </tr>\n",
       "    <tr>\n",
       "      <th>4063440</th>\n",
       "      <td>out</td>\n",
       "      <td>NaN</td>\n",
       "      <td>d16c36ff62b04a89a51e68bd0b9c7a82</td>\n",
       "      <td>25972</td>\n",
       "      <td>781:7feb097739e7b7ec:out</td>\n",
       "      <td>NaN</td>\n",
       "      <td>NaN</td>\n",
       "      <td>1440568074628</td>\n",
       "    </tr>\n",
       "    <tr>\n",
       "      <th>4063441</th>\n",
       "      <td>out</td>\n",
       "      <td>NaN</td>\n",
       "      <td>d0554ae8254cf22edae87bce9230b57e</td>\n",
       "      <td>25981</td>\n",
       "      <td>781:7feb09773aa56e59:out</td>\n",
       "      <td>NaN</td>\n",
       "      <td>NaN</td>\n",
       "      <td>1440568071593</td>\n",
       "    </tr>\n",
       "    <tr>\n",
       "      <th>4063442</th>\n",
       "      <td>out</td>\n",
       "      <td>NaN</td>\n",
       "      <td>028a1f4dbca00ed06814fdda60f1b599</td>\n",
       "      <td>2673</td>\n",
       "      <td>781:7feb09773ac347cb:out</td>\n",
       "      <td>NaN</td>\n",
       "      <td>NaN</td>\n",
       "      <td>1440568071115</td>\n",
       "    </tr>\n",
       "    <tr>\n",
       "      <th>4063443</th>\n",
       "      <td>out</td>\n",
       "      <td>NaN</td>\n",
       "      <td>373b818105152ed3ea1e503a2690ad8e</td>\n",
       "      <td>25971</td>\n",
       "      <td>781:7feb09773ae4ce78:out</td>\n",
       "      <td>NaN</td>\n",
       "      <td>NaN</td>\n",
       "      <td>1440568070579</td>\n",
       "    </tr>\n",
       "    <tr>\n",
       "      <th>4063444</th>\n",
       "      <td>out</td>\n",
       "      <td>True</td>\n",
       "      <td>8b4357a377e3673d44489d67eee696ac</td>\n",
       "      <td>26023</td>\n",
       "      <td>781:7feb09773b1a576d:out</td>\n",
       "      <td>NaN</td>\n",
       "      <td>NaN</td>\n",
       "      <td>1440568069722</td>\n",
       "    </tr>\n",
       "    <tr>\n",
       "      <th>4063445</th>\n",
       "      <td>out</td>\n",
       "      <td>NaN</td>\n",
       "      <td>c96d2af5dde757bf8caa8712818d984a</td>\n",
       "      <td>25906</td>\n",
       "      <td>781:7feb09773b1f2d03:out</td>\n",
       "      <td>NaN</td>\n",
       "      <td>NaN</td>\n",
       "      <td>1440568069645</td>\n",
       "    </tr>\n",
       "  </tbody>\n",
       "</table>\n",
       "<p>4063446 rows × 8 columns</p>\n",
       "</div>"
      ],
      "text/plain": [
       "               area  deny                         device_id  dwell_time  \\\n",
       "0        1f-right-1  True  cae0f3cb170db4ae18897d6af8497c38        3330   \n",
       "1        right-test  True  cae0f3cb170db4ae18897d6af8497c38        3330   \n",
       "2               out   NaN  c41e7932a5fedc55d61950559232c0bf           0   \n",
       "3               out   NaN  249e7ac1b1cd6ba9bee1cd81ef1e013f          85   \n",
       "4               out   NaN  35e9e62a01594c31a9297c397cee0390          34   \n",
       "5               out   NaN  9d2c7c15500c53feacdd62d3c0f8b2fb           0   \n",
       "6               out   NaN  6370140ec2920e3f1878d877cd9a7b2a         776   \n",
       "7               out  True  af3a382fb40b3f14c6141806e56d1a9e         505   \n",
       "8               out   NaN  eae4d0e90a5989ad3898fa9c49064a5e           2   \n",
       "9               out   NaN  12d8fac3d12f411a4a50cd8a33c340ae           0   \n",
       "10              out   NaN  f32a94312cee1437216b8dc7809b9335         381   \n",
       "11              out   NaN  634c632f576d1ea7819dba143f688c2b         234   \n",
       "12              out   NaN  68cd84d88320d340835847fddb71fff0           0   \n",
       "13              out   NaN  6e598cd4a9f82ff6208193b489a22892          63   \n",
       "14              out   NaN  28ae403883cbd1427a8e9a571a772c39           0   \n",
       "15              out   NaN  3c0126737379c239081af9c24d140e34           0   \n",
       "16              out   NaN  1d74a84b20bf802b0eb369f2e37a68ae           0   \n",
       "17              out   NaN  59a4514c9c6d6ccc83b7e70afe54ff4b         163   \n",
       "18              out   NaN  7dd0415f674ef312d55eae86e13d5638          54   \n",
       "19              out   NaN  ca9097c43736a1762e0a59e4962b910c          10   \n",
       "20              out   NaN  efc460b7544dbaabb9a05f0a025ce6b1         100   \n",
       "21              out   NaN  1b73107a817f722f03a33c3ff0aeee0f           0   \n",
       "22              out   NaN  e94bdb376cb96fb75a3f22ec45b8cb1d           3   \n",
       "23              out   NaN  066c5482f7f894492c1ee19f6c012e3a          16   \n",
       "24              out   NaN  adcec02bbce13c6955d4cb9aa7ecf4fa           0   \n",
       "25              out   NaN  634a29ffdc769c387bc2b77fce70417d          48   \n",
       "26              out   NaN  d2b0056631a597a7ee71f6e99f2e7707        1081   \n",
       "27              out   NaN  568f92096c525542306cdfdd62d6ff13         125   \n",
       "28              out   NaN  399360c638b5f404abd97afb0a41e017          85   \n",
       "29              out   NaN  b0fb163d8d658475c5ddb23e47487124           0   \n",
       "...             ...   ...                               ...         ...   \n",
       "4063416          b1  True  8b4357a377e3673d44489d67eee696ac       25833   \n",
       "4063417          in  True  8b4357a377e3673d44489d67eee696ac       25833   \n",
       "4063418         out   NaN  0516f6267b45fb4f22137defb83d5df4        1232   \n",
       "4063419         out   NaN  7000dc937a53ac3408c3f093e61ef006       25648   \n",
       "4063420         out   NaN  bfd92e0a76646d5f8bcff904512effaf           0   \n",
       "4063421         out   NaN  e4476b851b7f8da40d7b57bbe4dadac1           0   \n",
       "4063422         out  True  bc4573cb1e7583be35ef91cc2522de01       25935   \n",
       "4063423         out   NaN  f46ed7907a0ca89cd464f8a3cca98bfb         152   \n",
       "4063424         out   NaN  4bff3310a650296acde62f1e89a3698e          16   \n",
       "4063425         out   NaN  61227be3f281542e72b63f6488718276       25929   \n",
       "4063426         out   NaN  3b87e56d79eda8b19f21f3d60ed0f2f8           0   \n",
       "4063427         out   NaN  223fa52b998ec92d5f588a17a26486e2           0   \n",
       "4063428         out   NaN  4b42b3baece22db7fae8e2477147af9c           0   \n",
       "4063429         out   NaN  c9866cd15a94b493feb0c2816826bc8d        3007   \n",
       "4063430         out   NaN  b108321f13771e1a9e4191d205e44bdd          17   \n",
       "4063431          1f   NaN  e2fa6159e34b493391307e98185c997c         599   \n",
       "4063432          b1   NaN  e2fa6159e34b493391307e98185c997c         599   \n",
       "4063433          in   NaN  e2fa6159e34b493391307e98185c997c         599   \n",
       "4063434         out   NaN  e2fa6159e34b493391307e98185c997c        2523   \n",
       "4063435         out   NaN  4f4d40271b9606435793b546b447dc2c       26007   \n",
       "4063436         out  True  44689a999123656a443f2d9bdd39d3df       14208   \n",
       "4063437          1f   NaN  028a1f4dbca00ed06814fdda60f1b599        2497   \n",
       "4063438          b1   NaN  028a1f4dbca00ed06814fdda60f1b599         628   \n",
       "4063439          in   NaN  028a1f4dbca00ed06814fdda60f1b599        2497   \n",
       "4063440         out   NaN  d16c36ff62b04a89a51e68bd0b9c7a82       25972   \n",
       "4063441         out   NaN  d0554ae8254cf22edae87bce9230b57e       25981   \n",
       "4063442         out   NaN  028a1f4dbca00ed06814fdda60f1b599        2673   \n",
       "4063443         out   NaN  373b818105152ed3ea1e503a2690ad8e       25971   \n",
       "4063444         out  True  8b4357a377e3673d44489d67eee696ac       26023   \n",
       "4063445         out   NaN  c96d2af5dde757bf8caa8712818d984a       25906   \n",
       "\n",
       "                                     key  revisit_count  revisit_period  \\\n",
       "0        781:7fea91f80d36bcc5:1f-right-1            NaN             NaN   \n",
       "1        781:7fea91f80d36bcc5:right-test            NaN             NaN   \n",
       "2               781:7fea91f80e6add4d:out            NaN             NaN   \n",
       "3               781:7fea91f80ea49f2d:out            NaN             NaN   \n",
       "4               781:7fea91f80ee44f5d:out            NaN             NaN   \n",
       "5               781:7fea91f80f2c2e45:out            NaN             NaN   \n",
       "6               781:7fea91f80f441dc9:out            NaN             NaN   \n",
       "7               781:7fea91f80f5d3f25:out            NaN             NaN   \n",
       "8               781:7fea91f810707c57:out            NaN             NaN   \n",
       "9               781:7fea91f81345ae95:out            NaN             NaN   \n",
       "10              781:7fea91f8135c6d19:out            NaN             NaN   \n",
       "11              781:7fea91f814246eaf:out            NaN             NaN   \n",
       "12              781:7fea91f814bd6fcd:out            NaN             NaN   \n",
       "13              781:7fea91f814c7ad98:out            NaN             NaN   \n",
       "14              781:7fea91f8168a4c2c:out            NaN             NaN   \n",
       "15              781:7fea91f817215d01:out            NaN             NaN   \n",
       "16              781:7fea91f8172f0d14:out            NaN             NaN   \n",
       "17              781:7fea91f8174fccaf:out            NaN             NaN   \n",
       "18              781:7fea91f817b27dcc:out            NaN             NaN   \n",
       "19              781:7fea91f817d9edf9:out            2.0            14.0   \n",
       "20              781:7fea91f81802ec81:out            NaN             NaN   \n",
       "21              781:7fea91f8182cbcf3:out            NaN             NaN   \n",
       "22              781:7fea91f818390e12:out            NaN             NaN   \n",
       "23              781:7fea91f818d59df1:out            NaN             NaN   \n",
       "24              781:7fea91f819a6dc20:out            NaN             NaN   \n",
       "25              781:7fea91f81b1b0c1b:out            NaN             NaN   \n",
       "26              781:7fea91f81b294ed6:out            NaN             NaN   \n",
       "27              781:7fea91f81c523f21:out            NaN             NaN   \n",
       "28              781:7fea91f81d041fa0:out            NaN             NaN   \n",
       "29              781:7fea91f81d539c42:out            NaN             NaN   \n",
       "...                                  ...            ...             ...   \n",
       "4063416          781:7feb097726e6d7f5:b1            NaN             NaN   \n",
       "4063417          781:7feb097726e6d7f5:in            NaN             NaN   \n",
       "4063418         781:7feb097727b72d6b:out            NaN             NaN   \n",
       "4063419         781:7feb09772934e01c:out            NaN             NaN   \n",
       "4063420         781:7feb09772966fd89:out            NaN             NaN   \n",
       "4063421         781:7feb09772998ce81:out            NaN             NaN   \n",
       "4063422         781:7feb09772a15b7f4:out            NaN             NaN   \n",
       "4063423         781:7feb09772c560ab5:out            NaN             NaN   \n",
       "4063424         781:7feb09772e0d65e7:out            NaN             NaN   \n",
       "4063425         781:7feb097730244bc8:out            NaN             NaN   \n",
       "4063426         781:7feb09773133fa79:out            NaN             NaN   \n",
       "4063427         781:7feb097731a53f15:out            NaN             NaN   \n",
       "4063428         781:7feb097732776236:out            NaN             NaN   \n",
       "4063429         781:7feb0977339a1df2:out            NaN             NaN   \n",
       "4063430         781:7feb097735844b37:out            NaN             NaN   \n",
       "4063431          781:7feb097736ea0c6c:1f            NaN             NaN   \n",
       "4063432          781:7feb097736ea0c6c:b1            NaN             NaN   \n",
       "4063433          781:7feb097736ea0c6c:in            NaN             NaN   \n",
       "4063434         781:7feb09773701b91f:out            NaN             NaN   \n",
       "4063435         781:7feb097738878f28:out            NaN             NaN   \n",
       "4063436         781:7feb09773901772a:out            NaN             NaN   \n",
       "4063437          781:7feb09773985e932:1f            NaN             NaN   \n",
       "4063438          781:7feb09773985e932:b1            NaN             NaN   \n",
       "4063439          781:7feb09773985e932:in            NaN             NaN   \n",
       "4063440         781:7feb097739e7b7ec:out            NaN             NaN   \n",
       "4063441         781:7feb09773aa56e59:out            NaN             NaN   \n",
       "4063442         781:7feb09773ac347cb:out            NaN             NaN   \n",
       "4063443         781:7feb09773ae4ce78:out            NaN             NaN   \n",
       "4063444         781:7feb09773b1a576d:out            NaN             NaN   \n",
       "4063445         781:7feb09773b1f2d03:out            NaN             NaN   \n",
       "\n",
       "                    ts  \n",
       "0        1472645246100  \n",
       "1        1472645246100  \n",
       "2        1472645241170  \n",
       "3        1472645240246  \n",
       "4        1472645239227  \n",
       "5        1472645238077  \n",
       "6        1472645237694  \n",
       "7        1472645237292  \n",
       "8        1472645232888  \n",
       "9        1472645221285  \n",
       "10       1472645220921  \n",
       "11       1472645217721  \n",
       "12       1472645215273  \n",
       "13       1472645215109  \n",
       "14       1472645207899  \n",
       "15       1472645205482  \n",
       "16       1472645205263  \n",
       "17       1472645204739  \n",
       "18       1472645203160  \n",
       "19       1472645202529  \n",
       "20       1472645201873  \n",
       "21       1472645201204  \n",
       "22       1472645201007  \n",
       "23       1472645198502  \n",
       "24       1472645195154  \n",
       "25       1472645189199  \n",
       "26       1472645188971  \n",
       "27       1472645184220  \n",
       "28       1472645181374  \n",
       "29       1472645180102  \n",
       "...                ...  \n",
       "4063416  1440568152466  \n",
       "4063417  1440568152466  \n",
       "4063418  1440568149133  \n",
       "4063419  1440568143025  \n",
       "4063420  1440568142224  \n",
       "4063421  1440568141427  \n",
       "4063422  1440568139428  \n",
       "4063423  1440568130207  \n",
       "4063424  1440568123177  \n",
       "4063425  1440568114619  \n",
       "4063426  1440568110272  \n",
       "4063427  1440568108460  \n",
       "4063428  1440568105097  \n",
       "4063429  1440568100446  \n",
       "4063430  1440568092603  \n",
       "4063431  1440568086879  \n",
       "4063432  1440568086879  \n",
       "4063433  1440568086879  \n",
       "4063434  1440568086500  \n",
       "4063435  1440568080263  \n",
       "4063436  1440568078312  \n",
       "4063437  1440568076193  \n",
       "4063438  1440568076193  \n",
       "4063439  1440568076193  \n",
       "4063440  1440568074628  \n",
       "4063441  1440568071593  \n",
       "4063442  1440568071115  \n",
       "4063443  1440568070579  \n",
       "4063444  1440568069722  \n",
       "4063445  1440568069645  \n",
       "\n",
       "[4063446 rows x 8 columns]"
      ]
     },
     "execution_count": 30,
     "metadata": {},
     "output_type": "execute_result"
    }
   ],
   "source": [
    "df"
   ]
  },
  {
   "cell_type": "code",
   "execution_count": 31,
   "metadata": {
    "collapsed": true
   },
   "outputs": [],
   "source": [
    "df.to_pickle(\"../data/781/781.p\")"
   ]
  },
  {
   "cell_type": "markdown",
   "metadata": {},
   "source": [
    "다른 분석 등은 Analysis.ipynb 참고"
   ]
  },
  {
   "cell_type": "code",
   "execution_count": 32,
   "metadata": {
    "collapsed": false
   },
   "outputs": [
    {
     "name": "stdout",
     "output_type": "stream",
     "text": [
      "<class 'pandas.core.frame.DataFrame'>\n",
      "RangeIndex: 4063446 entries, 0 to 4063445\n",
      "Data columns (total 8 columns):\n",
      "area              object\n",
      "deny              object\n",
      "device_id         object\n",
      "dwell_time        int64\n",
      "key               object\n",
      "revisit_count     float64\n",
      "revisit_period    float64\n",
      "ts                int64\n",
      "dtypes: float64(2), int64(2), object(4)\n",
      "memory usage: 248.0+ MB\n"
     ]
    }
   ],
   "source": [
    "df.info()"
   ]
  },
  {
   "cell_type": "code",
   "execution_count": 33,
   "metadata": {
    "collapsed": false
   },
   "outputs": [
    {
     "data": {
      "text/plain": [
       "85.0        27\n",
       "82.0        27\n",
       "83.0        42\n",
       "84.0        58\n",
       "86.0        94\n",
       "81.0       161\n",
       "87.0       176\n",
       "58.0       259\n",
       "48.0       271\n",
       "56.0       274\n",
       "62.0       281\n",
       "60.0       281\n",
       "42.0       298\n",
       "68.0       309\n",
       "43.0       319\n",
       "64.0       324\n",
       "63.0       328\n",
       "70.0       329\n",
       "80.0       366\n",
       "40.0       367\n",
       "79.0       370\n",
       "39.0       373\n",
       "41.0       378\n",
       "44.0       378\n",
       "50.0       379\n",
       "38.0       379\n",
       "45.0       387\n",
       "34.0       391\n",
       "46.0       412\n",
       "37.0       412\n",
       "         ...  \n",
       "27.0       613\n",
       "22.0       618\n",
       "20.0       671\n",
       "16.0       671\n",
       "19.0       697\n",
       "77.0       747\n",
       "76.0       748\n",
       "57.0       824\n",
       "18.0       856\n",
       "15.0       859\n",
       "78.0       991\n",
       "90.0       993\n",
       "13.0      1034\n",
       "12.0      1131\n",
       "14.0      1134\n",
       "74.0      1428\n",
       "75.0      1513\n",
       "88.0      1619\n",
       "10.0      1631\n",
       "89.0      1654\n",
       "11.0      1672\n",
       "9.0       2338\n",
       "8.0       2709\n",
       "7.0       3770\n",
       "6.0       3998\n",
       "5.0       5177\n",
       "4.0      10303\n",
       "3.0      17735\n",
       "2.0      36307\n",
       "1.0     152894\n",
       "Name: revisit_count, dtype: int64"
      ]
     },
     "execution_count": 33,
     "metadata": {},
     "output_type": "execute_result"
    }
   ],
   "source": [
    "df.loc[:,\"revisit_count\"].value_counts(ascending=True)"
   ]
  },
  {
   "cell_type": "code",
   "execution_count": null,
   "metadata": {
    "collapsed": true
   },
   "outputs": [],
   "source": []
  },
  {
   "cell_type": "code",
   "execution_count": null,
   "metadata": {
    "collapsed": true
   },
   "outputs": [],
   "source": []
  },
  {
   "cell_type": "code",
   "execution_count": null,
   "metadata": {
    "collapsed": true
   },
   "outputs": [],
   "source": []
  },
  {
   "cell_type": "code",
   "execution_count": null,
   "metadata": {
    "collapsed": true
   },
   "outputs": [],
   "source": []
  },
  {
   "cell_type": "code",
   "execution_count": null,
   "metadata": {
    "collapsed": true
   },
   "outputs": [],
   "source": []
  },
  {
   "cell_type": "code",
   "execution_count": null,
   "metadata": {
    "collapsed": true
   },
   "outputs": [],
   "source": []
  },
  {
   "cell_type": "code",
   "execution_count": null,
   "metadata": {
    "collapsed": true
   },
   "outputs": [],
   "source": []
  },
  {
   "cell_type": "code",
   "execution_count": null,
   "metadata": {
    "collapsed": true
   },
   "outputs": [],
   "source": []
  },
  {
   "cell_type": "code",
   "execution_count": null,
   "metadata": {
    "collapsed": true
   },
   "outputs": [],
   "source": []
  },
  {
   "cell_type": "code",
   "execution_count": null,
   "metadata": {
    "collapsed": true
   },
   "outputs": [],
   "source": []
  },
  {
   "cell_type": "code",
   "execution_count": null,
   "metadata": {
    "collapsed": true
   },
   "outputs": [],
   "source": []
  }
 ],
 "metadata": {
  "anaconda-cloud": {},
  "kernelspec": {
   "display_name": "Python [py35]",
   "language": "python",
   "name": "Python [py35]"
  },
  "language_info": {
   "codemirror_mode": {
    "name": "ipython",
    "version": 3
   },
   "file_extension": ".py",
   "mimetype": "text/x-python",
   "name": "python",
   "nbconvert_exporter": "python",
   "pygments_lexer": "ipython3",
   "version": "3.5.2"
  }
 },
 "nbformat": 4,
 "nbformat_minor": 0
}
