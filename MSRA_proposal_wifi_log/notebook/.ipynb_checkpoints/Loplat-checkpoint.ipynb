{
 "cells": [
  {
   "cell_type": "code",
   "execution_count": 3,
   "metadata": {
    "collapsed": true
   },
   "outputs": [],
   "source": [
    "import urllib2\n",
    "import json"
   ]
  },
  {
   "cell_type": "code",
   "execution_count": 13,
   "metadata": {
    "collapsed": false
   },
   "outputs": [
    {
     "name": "stdout",
     "output_type": "stream",
     "text": [
      "getstorevisit ----\n",
      "(50597, u'1477544446837', u'\\uce74\\uc774\\uc2a4\\ud2b8 E2-1 4203\\ud638', u'#\\uce74\\uc774\\uc2a4\\ud2b8 #KSE', 4, 36.367068, 127.36454, 0.957343, u'2016-11-17 05:51:38')\n",
      "(50597, u'1477544446837', u'\\uce74\\uc774\\uc2a4\\ud2b8 E2-1 4203\\ud638', u'#\\uce74\\uc774\\uc2a4\\ud2b8 #KSE', 4, 36.367068, 127.36454, 0.957343, u'2016-11-17 05:51:38')\n",
      "(50597, u'1477544446837', u'\\uce74\\uc774\\uc2a4\\ud2b8 E2-1 4203\\ud638', u'#\\uce74\\uc774\\uc2a4\\ud2b8 #KSE', 4, 36.367068, 127.36454, 0.92143, u'2016-11-17 05:54:16')\n",
      "(50597, u'1477544446837', u'\\uce74\\uc774\\uc2a4\\ud2b8 E2-1 4203\\ud638', u'#\\uce74\\uc774\\uc2a4\\ud2b8 #KSE', 4, 36.367068, 127.36454, 0.94238, u'2016-11-17 05:56:54')\n",
      "(50609, u'1477544446837', u'\\uce74\\uc774\\uc2a4\\ud2b8 E2-1 4204\\ud638', u'#\\uce74\\uc774\\uc2a4\\ud2b8 #KSE', 4, 36.367063, 127.364588, 0.758371, u'2016-11-17 05:59:27')\n",
      "(52357, u'1477544446837', u'E2-1 4216\\ud638', u'#KSE #\\uce74\\uc774\\uc2a4\\ud2b8', 4, 36.36738, 127.36486, 0.765704, u'2016-11-17 06:01:13')\n",
      "(52357, u'1477544446837', u'E2-1 4216\\ud638', u'#KSE #\\uce74\\uc774\\uc2a4\\ud2b8', 4, 36.36738, 127.36486, 0.765704, u'2016-11-17 06:01:14')\n",
      "(52357, u'1477544446837', u'E2-1 4216\\ud638', u'#KSE #\\uce74\\uc774\\uc2a4\\ud2b8', 4, 36.36738, 127.36486, 0.794821, u'2016-11-17 06:03:46')\n",
      "(52357, u'1479362612232', u'E2-1 4216\\ud638', u'#KSE #\\uce74\\uc774\\uc2a4\\ud2b8', 4, 36.36738, 127.36486, 0.830013, u'2016-11-17 06:04:35')\n",
      "(52357, u'1479362612232', u'E2-1 4216\\ud638', u'#KSE #\\uce74\\uc774\\uc2a4\\ud2b8', 4, 36.36738, 127.36486, 0.841197, u'2016-11-17 06:04:58')\n",
      "(52357, u'1479362612232', u'E2-1 4216\\ud638', u'#KSE #\\uce74\\uc774\\uc2a4\\ud2b8', 4, 36.36738, 127.36486, 0.816758, u'2016-11-17 06:05:27')\n",
      "(52357, u'1479362612232', u'E2-1 4216\\ud638', u'#KSE #\\uce74\\uc774\\uc2a4\\ud2b8', 4, 36.36738, 127.36486, 0.816758, u'2016-11-17 06:05:27')\n",
      "(52357, u'1477544446837', u'E2-1 4216\\ud638', u'#KSE #\\uce74\\uc774\\uc2a4\\ud2b8', 4, 36.36738, 127.36486, 0.772069, u'2016-11-17 06:06:41')\n",
      "(52357, u'1479362612232', u'E2-1 4216\\ud638', u'#KSE #\\uce74\\uc774\\uc2a4\\ud2b8', 4, 36.36738, 127.36486, 0.809642, u'2016-11-17 06:09:08')\n",
      "(52357, u'1477544446837', u'E2-1 4216\\ud638', u'#KSE #\\uce74\\uc774\\uc2a4\\ud2b8', 4, 36.36738, 127.36486, 0.808408, u'2016-11-17 06:09:15')\n",
      "(60222, u'1477544446837', u'e2-4216\\ud638', u'', 4, 36.36739, 127.3649, 0.903581, u'2016-11-17 06:12:06')\n",
      "(60222, u'1479362612232', u'e2-4216\\ud638', u'', 4, 36.36739, 127.3649, 0.946832, u'2016-11-17 06:12:11')\n",
      "(60222, u'1479362612232', u'e2-4216\\ud638', u'', 4, 36.36739, 127.3649, 0.963218, u'2016-11-17 06:12:16')\n",
      "(60222, u'1479362612232', u'e2-4216\\ud638', u'', 4, 36.36739, 127.3649, 0.963218, u'2016-11-17 06:12:16')\n",
      "(60222, u'1477544446837', u'e2-4216\\ud638', u'', 4, 36.36739, 127.3649, 0.919954, u'2016-11-17 06:12:41')\n",
      "(60222, u'1477544446837', u'e2-4216\\ud638', u'', 4, 36.36739, 127.3649, 0.919954, u'2016-11-17 06:12:42')\n",
      "(60222, u'1477544446837', u'e2-4216\\ud638', u'', 4, 36.36739, 127.3649, 0.884305, u'2016-11-17 06:13:22')\n",
      "(60222, u'1477544446837', u'e2-4216\\ud638', u'', 4, 36.36739, 127.3649, 0.884305, u'2016-11-17 06:13:22')\n",
      "(60222, u'1477544446837', u'e2-4216\\ud638', u'', 4, 36.36739, 127.3649, 0.671234, u'2016-11-17 06:15:55')\n",
      "(60222, u'1479362612232', u'e2-4216\\ud638', u'', 4, 36.36739, 127.3649, 0.891161, u'2016-11-17 06:16:31')\n",
      "(50597, u'1477544446837', u'\\uce74\\uc774\\uc2a4\\ud2b8 E2-1 4203\\ud638', u'#\\uce74\\uc774\\uc2a4\\ud2b8 #KSE', 4, 36.367068, 127.36454, 0.924623, u'2016-11-17 06:17:51')\n",
      "(50597, u'1477544446837', u'\\uce74\\uc774\\uc2a4\\ud2b8 E2-1 4203\\ud638', u'#\\uce74\\uc774\\uc2a4\\ud2b8 #KSE', 4, 36.367068, 127.36454, 0.924623, u'2016-11-17 06:17:52')\n"
     ]
    }
   ],
   "source": [
    "def getstorevisit(placeid, period):\n",
    "    appid = 'indoorkaist'\n",
    "    appkey = 'indoorexperiment'\n",
    "    url = 'https://loplatapi.appspot.com/storevisit'\n",
    "    req = urllib2.Request(url)\n",
    "    req.add_header('Content-Type', 'application/json')\n",
    "    data = {\n",
    "        'client_id': appid,\n",
    "        'client_secret': appkey,\n",
    "        'type': 'getvisits',\n",
    "        'placeid': placeid,\n",
    "        'period': period\n",
    "    }\n",
    "    print ('getstorevisit ----') \n",
    "    try:\n",
    "        response = urllib2.urlopen(req, json.dumps(data))\n",
    "        string = response.read().decode('utf-8')\n",
    "        jresponse = json.loads(string)\n",
    "        status = jresponse['status']\n",
    "        type = jresponse['type']\n",
    "        # print status, type\n",
    "        if status == 'success':\n",
    "            for visit in jresponse['visits']:\n",
    "                print(visit)\n",
    "#                 placeid = visit['placeid']\n",
    "#                 deviceid = visit['deviceid']\n",
    "#                 placename = visit['placename']\n",
    "#                 tag = visit['tag']\n",
    "#                 floor = visit['floor']\n",
    "#                 lat = visit['lat']\n",
    "#                 lng = visit['lng']\n",
    "#                 accuracy = visit['accuracy']\n",
    "#                 ts = visit['ts']\n",
    "#                 print (placeid, deviceid, placename, tag, floor, lat, lng, accuracy, ts)\n",
    "    except urllib2.HTTPError as e:\n",
    "        print (e.code)\n",
    "        error = e.read()\n",
    "        print (error)\n",
    "# placeid = 19243\n",
    "placeid = None  # if placeid is None, get all the list of visits in the given client_id\n",
    "period = 6000 # minutes\n",
    "getstorevisit(placeid, period)"
   ]
  }
 ],
 "metadata": {
  "anaconda-cloud": {},
  "kernelspec": {
   "display_name": "Python [Root]",
   "language": "python",
   "name": "Python [Root]"
  },
  "language_info": {
   "codemirror_mode": {
    "name": "ipython",
    "version": 2
   },
   "file_extension": ".py",
   "mimetype": "text/x-python",
   "name": "python",
   "nbconvert_exporter": "python",
   "pygments_lexer": "ipython2",
   "version": "2.7.12"
  }
 },
 "nbformat": 4,
 "nbformat_minor": 0
}
