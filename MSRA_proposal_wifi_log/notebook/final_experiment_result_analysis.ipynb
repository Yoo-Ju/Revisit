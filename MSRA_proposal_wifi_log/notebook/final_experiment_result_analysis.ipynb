{
 "cells": [
  {
   "cell_type": "markdown",
   "metadata": {},
   "source": [
    "### Result analysis\n",
    "\n",
    "This notebook is for analyzing final experimental result file(../result/results.json)\n"
   ]
  },
  {
   "cell_type": "code",
   "execution_count": 33,
   "metadata": {
    "collapsed": true
   },
   "outputs": [],
   "source": [
    "### Importing libraries\n",
    "import json\n"
   ]
  },
  {
   "cell_type": "code",
   "execution_count": 38,
   "metadata": {
    "collapsed": true
   },
   "outputs": [],
   "source": [
    "outputPath = '../result/results.json'\n",
    "\n",
    "with open(outputPath, 'r') as f:\n",
    "    rs = json.load(f)\n",
    "    f.close()\n",
    "\n",
    "\n"
   ]
  },
  {
   "cell_type": "code",
   "execution_count": 39,
   "metadata": {
    "collapsed": false
   },
   "outputs": [
    {
     "name": "stdout",
     "output_type": "stream",
     "text": [
      "{'target': 'revisit_count', 'features': ['num_logs', 'total_dwell_time', 'num_sp_100', 'prob_dwell_10', 'prob_deny', 'time_sp_100', 'std_sp_100', 'num_logs_Mon', 'num_logs_Tue', 'num_logs_Wed', 'num_logs_Thu', 'num_logs_Fri', 'num_logs_Sat', 'num_logs_Sun', 'num_logsMon', 'num_logsTue', 'num_logsWed', 'num_logsThu', 'num_logsFri', 'num_logsSat', 'num_logsSun'], 'length_train': 1125016, 'training_time': 0.35, 'ts': '2016-09-02 04:10:57', 'dataset': '../data/781/781.p', 'score': 0.023378960283527254, 'length_valid': 281254, 'params': {'num_boost_round': 200, 'eval_metric': ['rmse', 'auc'], 'subsample': 0.7, 'silent': 1, 'max_depth': 3, 'test_size': 0.2, 'eta': 0.1, 'seed': 0, 'objective': 'reg:linear', 'early_stopping_rounds': 20, 'booster': 'gbtree', 'colsample_bytree': 0.7}}\n"
     ]
    }
   ],
   "source": [
    "\n",
    "# print(rs[0]['dataset'], rs[0]['training_time'], rs[0]['score'], rs[0].keys())\n",
    "# print(rs[0]['params'])\n",
    "print(rs[0])"
   ]
  },
  {
   "cell_type": "code",
   "execution_count": 40,
   "metadata": {
    "collapsed": false,
    "scrolled": true
   },
   "outputs": [
    {
     "name": "stdout",
     "output_type": "stream",
     "text": [
      "{'target': 'revisit_count', 'features': ['num_logs', 'total_dwell_time', 'num_sp_100', 'prob_dwell_10', 'prob_deny', 'time_sp_100', 'std_sp_100', 'num_logs_Mon', 'num_logs_Tue', 'num_logs_Wed', 'num_logs_Thu', 'num_logs_Fri', 'num_logs_Sat', 'num_logs_Sun', 'num_logsMon', 'num_logsTue', 'num_logsWed', 'num_logsThu', 'num_logsFri', 'num_logsSat', 'num_logsSun'], 'length_train': 1125016, 'training_time': 0.38, 'length_valid': 281254, 'ts': '2016-09-02 04:14:35', 'score': 0.01995811830851215, 'dataset': '../data/781/781.p', 'params': {'num_boost_round': 200, 'seed': 0, 'eval_metric': 'rmse', 'subsample': 0.7, 'silent': 1, 'max_depth': 3, 'test_size': 0.2, 'eta': 0.1, 'booster': 'gbtree', 'objective': 'reg:linear', 'early_stopping_rounds': 20, 'colsample_bytree': 0.7}}\n"
     ]
    }
   ],
   "source": [
    "# print(rs[1]['dataset'], rs[1]['training_time'], rs[1]['score'], rs[1].keys())\n",
    "# print(rs[1]['params'])\n",
    "print(rs[1])"
   ]
  },
  {
   "cell_type": "code",
   "execution_count": 27,
   "metadata": {
    "collapsed": false
   },
   "outputs": [
    {
     "name": "stdout",
     "output_type": "stream",
     "text": [
      "{'length_train': 1125016, 'features': ['num_logs', 'total_dwell_time', 'num_sp_100', 'prob_dwell_10', 'prob_deny', 'time_sp_100', 'std_sp_100'], 'target': 'revisit_count', 'training_time': 0.53, 'ts': '2016-09-01 19:59:00', 'dataset': '../data/781/781.p', 'score': 0.024751502905689348, 'length_valid': 281254, 'params': {'num_boost_round': 200, 'seed': 0, 'eval_metric': 'rmse', 'subsample': 0.7, 'silent': 1, 'max_depth': 3, 'test_size': 0.2, 'eta': 0.1, 'booster': 'gbtree', 'objective': 'reg:linear', 'early_stopping_rounds': 20, 'colsample_bytree': 0.7}}\n"
     ]
    }
   ],
   "source": [
    "# print(rs[2]['dataset'], rs[2]['training_time'], rs[2]['score'], rs[2].keys())\n",
    "# print(rs[2]['params'])\n",
    "print(rs[2])"
   ]
  },
  {
   "cell_type": "code",
   "execution_count": 32,
   "metadata": {
    "collapsed": false,
    "scrolled": false
   },
   "outputs": [
    {
     "ename": "IndexError",
     "evalue": "list index out of range",
     "output_type": "error",
     "traceback": [
      "\u001b[0;31m---------------------------------------------------------------------------\u001b[0m",
      "\u001b[0;31mIndexError\u001b[0m                                Traceback (most recent call last)",
      "\u001b[0;32m<ipython-input-32-392997c54537>\u001b[0m in \u001b[0;36m<module>\u001b[0;34m()\u001b[0m\n\u001b[1;32m      1\u001b[0m \u001b[0;31m# print(rs[3]['dataset'], rs[3]['training_time'], rs[3]['score'], rs[3].keys(), rs[3]['features'])\u001b[0m\u001b[0;34m\u001b[0m\u001b[0;34m\u001b[0m\u001b[0m\n\u001b[1;32m      2\u001b[0m \u001b[0;31m# print(rs[3]['params'])\u001b[0m\u001b[0;34m\u001b[0m\u001b[0;34m\u001b[0m\u001b[0m\n\u001b[0;32m----> 3\u001b[0;31m \u001b[0mprint\u001b[0m\u001b[0;34m(\u001b[0m\u001b[0mrs\u001b[0m\u001b[0;34m[\u001b[0m\u001b[0;36m3\u001b[0m\u001b[0;34m]\u001b[0m\u001b[0;34m)\u001b[0m\u001b[0;34m\u001b[0m\u001b[0m\n\u001b[0m",
      "\u001b[0;31mIndexError\u001b[0m: list index out of range"
     ]
    }
   ],
   "source": [
    "# print(rs[3]['dataset'], rs[3]['training_time'], rs[3]['score'], rs[3].keys(), rs[3]['features'])\n",
    "# print(rs[3]['params'])\n",
    "print(rs[3])"
   ]
  },
  {
   "cell_type": "code",
   "execution_count": 30,
   "metadata": {
    "collapsed": false
   },
   "outputs": [
    {
     "ename": "IndexError",
     "evalue": "list index out of range",
     "output_type": "error",
     "traceback": [
      "\u001b[0;31m---------------------------------------------------------------------------\u001b[0m",
      "\u001b[0;31mIndexError\u001b[0m                                Traceback (most recent call last)",
      "\u001b[0;32m<ipython-input-30-4f81424ec862>\u001b[0m in \u001b[0;36m<module>\u001b[0;34m()\u001b[0m\n\u001b[0;32m----> 1\u001b[0;31m \u001b[0mprint\u001b[0m\u001b[0;34m(\u001b[0m\u001b[0mrs\u001b[0m\u001b[0;34m[\u001b[0m\u001b[0;36m4\u001b[0m\u001b[0;34m]\u001b[0m\u001b[0;34m)\u001b[0m\u001b[0;34m\u001b[0m\u001b[0m\n\u001b[0m",
      "\u001b[0;31mIndexError\u001b[0m: list index out of range"
     ]
    }
   ],
   "source": [
    "print(rs[4])"
   ]
  },
  {
   "cell_type": "code",
   "execution_count": null,
   "metadata": {
    "collapsed": true
   },
   "outputs": [],
   "source": []
  },
  {
   "cell_type": "code",
   "execution_count": null,
   "metadata": {
    "collapsed": true
   },
   "outputs": [],
   "source": []
  },
  {
   "cell_type": "code",
   "execution_count": null,
   "metadata": {
    "collapsed": true
   },
   "outputs": [],
   "source": []
  },
  {
   "cell_type": "code",
   "execution_count": null,
   "metadata": {
    "collapsed": true
   },
   "outputs": [],
   "source": []
  }
 ],
 "metadata": {
  "kernelspec": {
   "display_name": "Python [py35]",
   "language": "python",
   "name": "Python [py35]"
  },
  "language_info": {
   "codemirror_mode": {
    "name": "ipython",
    "version": 3
   },
   "file_extension": ".py",
   "mimetype": "text/x-python",
   "name": "python",
   "nbconvert_exporter": "python",
   "pygments_lexer": "ipython3",
   "version": "3.5.2"
  }
 },
 "nbformat": 4,
 "nbformat_minor": 0
}
